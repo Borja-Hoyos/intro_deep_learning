{
 "cells": [
  {
   "cell_type": "markdown",
   "metadata": {},
   "source": [
    "# Prevent Overfitting: Regularization\n"
   ]
  },
  {
   "cell_type": "code",
   "execution_count": 1,
   "metadata": {},
   "outputs": [],
   "source": [
    "import tensorflow as tf\n",
    "import matplotlib.pyplot as plt\n",
    "import pandas as pd\n",
    "from tensorflow import keras\n",
    "from tensorflow.keras import layers"
   ]
  },
  {
   "cell_type": "markdown",
   "metadata": {},
   "source": [
    "We will use the [MNIST dataset](https://en.wikipedia.org/wiki/MNIST_database), consisting of a collection of 28x28 pixel images corresponding in digits from 0 to 9 manuscripts. The purpose of this data set is to train models that recognize handwritten numbers.\n",
    "\n",
    "We will train, therefore, an [OCR (Optical Character Recognition)](https://en.wikipedia.org/wiki/Optical_character_recognition) model for multiclass classification (numbers from 0 to 9)."
   ]
  },
  {
   "cell_type": "code",
   "execution_count": 2,
   "metadata": {},
   "outputs": [],
   "source": [
    "mnist = tf.keras.datasets.mnist\n",
    "(x_train, y_train),(x_test, y_test) = mnist.load_data()"
   ]
  },
  {
   "cell_type": "code",
   "execution_count": 3,
   "metadata": {},
   "outputs": [
    {
     "data": {
      "text/plain": [
       "(28, 28)"
      ]
     },
     "execution_count": 3,
     "metadata": {},
     "output_type": "execute_result"
    }
   ],
   "source": [
    "x_train[0].shape"
   ]
  },
  {
   "cell_type": "markdown",
   "metadata": {},
   "source": [
    "As they are 8-bit images, the colors (in this case only one channel, the gray channel) of each pixel are encoded with a value between 0 and 255, with 0 being black and 255 being white. It is usual to normalize the values to work with a range between 0.0 and 1.0."
   ]
  },
  {
   "cell_type": "code",
   "execution_count": 4,
   "metadata": {},
   "outputs": [],
   "source": [
    "x_train, x_test = x_train / 255.0, x_test / 255.0"
   ]
  },
  {
   "cell_type": "markdown",
   "metadata": {},
   "source": [
    "We visualize a random image of the training set."
   ]
  },
  {
   "cell_type": "code",
   "execution_count": 5,
   "metadata": {},
   "outputs": [
    {
     "data": {
      "image/png": "[encoded data removed]",
      "text/plain": [
       "<Figure size 432x288 with 1 Axes>"
      ]
     },
     "metadata": {
      "needs_background": "light"
     },
     "output_type": "display_data"
    }
   ],
   "source": [
    "import numpy as np\n",
    "\n",
    "i = np.random.randint(0, len(x_train))\n",
    "plt.imshow(x_train[i], cmap='gray')\n",
    "plt.show()"
   ]
  },
  {
   "cell_type": "markdown",
   "metadata": {},
   "source": [
    "We reduce the dataset for  inducing more overfitting"
   ]
  },
  {
   "cell_type": "code",
   "execution_count": 6,
   "metadata": {
    "scrolled": true
   },
   "outputs": [
    {
     "data": {
      "text/plain": [
       "((1200, 28, 28),\n",
       " (1200,),\n",
       " Counter({2: 119,\n",
       "          8: 117,\n",
       "          6: 118,\n",
       "          9: 119,\n",
       "          3: 123,\n",
       "          4: 117,\n",
       "          0: 119,\n",
       "          7: 125,\n",
       "          5: 108,\n",
       "          1: 135}))"
      ]
     },
     "execution_count": 6,
     "metadata": {},
     "output_type": "execute_result"
    }
   ],
   "source": [
    "from sklearn.model_selection import train_test_split\n",
    "# split into train test sets\n",
    "_, x, _, y = train_test_split(\n",
    "    x_train, y_train, test_size=0.02, random_state=1, stratify=y_train)\n",
    "\n",
    "num_classes = 10\n",
    "from collections import Counter \n",
    "x.shape, y.shape, Counter(y)"
   ]
  },
  {
   "cell_type": "markdown",
   "metadata": {},
   "source": [
    "#### Why do we need to use regularization?\n",
    "\n",
    "We are going to assign the classes randomly to each image with random shuffle."
   ]
  },
  {
   "cell_type": "code",
   "execution_count": 7,
   "metadata": {},
   "outputs": [
    {
     "data": {
      "text/plain": [
       "(array([2, 8, 6, 9, 3], dtype=uint8), array([0, 3, 9, 2, 3], dtype=uint8))"
      ]
     },
     "execution_count": 7,
     "metadata": {},
     "output_type": "execute_result"
    }
   ],
   "source": [
    "y_shuffle = np.copy(y)\n",
    "np.random.shuffle(y_shuffle)\n",
    "y[:5], y_shuffle[:5]"
   ]
  },
  {
   "cell_type": "markdown",
   "metadata": {},
   "source": [
    "Lets build a model for learning the new random classes"
   ]
  },
  {
   "cell_type": "code",
   "execution_count": 8,
   "metadata": {},
   "outputs": [],
   "source": [
    "# Input\n",
    "inputs = tf.keras.Input(shape=(28, 28))\n",
    "# Convert the 2D image to a vector\n",
    "flat = layers.Flatten()(inputs)\n",
    "\n",
    "# hidden layer 1\n",
    "l_1 = layers.Dense(64, activation='relu')(flat)\n",
    "# hidden layer 2\n",
    "l_2 = layers.Dense(64, activation='relu')(l_1)\n",
    "# hidden layer 3\n",
    "l_3 = layers.Dense(64, activation='relu')(l_2)\n",
    "\n",
    "# Outputs\n",
    "outputs = layers.Dense(10, activation='softmax')(l_3)\n",
    "\n",
    "# Model definition\n",
    "model = keras.Model(inputs=inputs, outputs=outputs)"
   ]
  },
  {
   "cell_type": "code",
   "execution_count": 9,
   "metadata": {},
   "outputs": [
    {
     "name": "stdout",
     "output_type": "stream",
     "text": [
      "Epoch 1/100\n",
      "19/19 [==============================] - 0s 2ms/step - loss: 2.3222 - accuracy: 0.0831\n",
      "Epoch 2/100\n",
      "19/19 [==============================] - 0s 1ms/step - loss: 2.2801 - accuracy: 0.1498\n",
      "Epoch 3/100\n",
      "19/19 [==============================] - 0s 2ms/step - loss: 2.2536 - accuracy: 0.2045\n",
      "Epoch 4/100\n",
      "19/19 [==============================] - 0s 2ms/step - loss: 2.2097 - accuracy: 0.2240\n",
      "Epoch 5/100\n",
      "19/19 [==============================] - 0s 1ms/step - loss: 2.1552 - accuracy: 0.2695\n",
      "Epoch 6/100\n",
      "19/19 [==============================] - 0s 2ms/step - loss: 2.1030 - accuracy: 0.2857\n",
      "Epoch 7/100\n",
      "19/19 [==============================] - 0s 2ms/step - loss: 2.0399 - accuracy: 0.2941\n",
      "Epoch 8/100\n",
      "19/19 [==============================] - 0s 2ms/step - loss: 1.9453 - accuracy: 0.3773\n",
      "Epoch 9/100\n",
      "19/19 [==============================] - 0s 2ms/step - loss: 1.8716 - accuracy: 0.4007\n",
      "Epoch 10/100\n",
      "19/19 [==============================] - 0s 2ms/step - loss: 1.7676 - accuracy: 0.4224\n",
      "Epoch 11/100\n",
      "19/19 [==============================] - 0s 2ms/step - loss: 1.7000 - accuracy: 0.4604\n",
      "Epoch 12/100\n",
      "19/19 [==============================] - 0s 2ms/step - loss: 1.5498 - accuracy: 0.5151\n",
      "Epoch 13/100\n",
      "19/19 [==============================] - 0s 2ms/step - loss: 1.4646 - accuracy: 0.5388\n",
      "Epoch 14/100\n",
      "19/19 [==============================] - 0s 2ms/step - loss: 1.3572 - accuracy: 0.5743\n",
      "Epoch 15/100\n",
      "19/19 [==============================] - 0s 2ms/step - loss: 1.2391 - accuracy: 0.6183\n",
      "Epoch 16/100\n",
      "19/19 [==============================] - 0s 2ms/step - loss: 1.1270 - accuracy: 0.6721\n",
      "Epoch 17/100\n",
      "19/19 [==============================] - 0s 2ms/step - loss: 1.0748 - accuracy: 0.6869\n",
      "Epoch 18/100\n",
      "19/19 [==============================] - 0s 2ms/step - loss: 1.0634 - accuracy: 0.6655\n",
      "Epoch 19/100\n",
      "19/19 [==============================] - 0s 2ms/step - loss: 0.9533 - accuracy: 0.7135\n",
      "Epoch 20/100\n",
      "19/19 [==============================] - 0s 3ms/step - loss: 0.8321 - accuracy: 0.7727\n",
      "Epoch 21/100\n",
      "19/19 [==============================] - 0s 3ms/step - loss: 0.7262 - accuracy: 0.8120\n",
      "Epoch 22/100\n",
      "19/19 [==============================] - 0s 3ms/step - loss: 0.6466 - accuracy: 0.8456\n",
      "Epoch 23/100\n",
      "19/19 [==============================] - 0s 2ms/step - loss: 0.6163 - accuracy: 0.8572\n",
      "Epoch 24/100\n",
      "19/19 [==============================] - 0s 2ms/step - loss: 0.5743 - accuracy: 0.8644\n",
      "Epoch 25/100\n",
      "19/19 [==============================] - 0s 2ms/step - loss: 0.4968 - accuracy: 0.8863\n",
      "Epoch 26/100\n",
      "19/19 [==============================] - 0s 2ms/step - loss: 0.4539 - accuracy: 0.9120\n",
      "Epoch 27/100\n",
      "19/19 [==============================] - 0s 2ms/step - loss: 0.3852 - accuracy: 0.9308\n",
      "Epoch 28/100\n",
      "19/19 [==============================] - 0s 2ms/step - loss: 0.3591 - accuracy: 0.9355\n",
      "Epoch 29/100\n",
      "19/19 [==============================] - 0s 2ms/step - loss: 0.3385 - accuracy: 0.9412\n",
      "Epoch 30/100\n",
      "19/19 [==============================] - 0s 2ms/step - loss: 0.3123 - accuracy: 0.9385\n",
      "Epoch 31/100\n",
      "19/19 [==============================] - 0s 2ms/step - loss: 0.2535 - accuracy: 0.9503\n",
      "Epoch 32/100\n",
      "19/19 [==============================] - 0s 3ms/step - loss: 0.2382 - accuracy: 0.9604\n",
      "Epoch 33/100\n",
      "19/19 [==============================] - 0s 2ms/step - loss: 0.2107 - accuracy: 0.9608\n",
      "Epoch 34/100\n",
      "19/19 [==============================] - 0s 2ms/step - loss: 0.1834 - accuracy: 0.9744\n",
      "Epoch 35/100\n",
      "19/19 [==============================] - 0s 2ms/step - loss: 0.1724 - accuracy: 0.9714\n",
      "Epoch 36/100\n",
      "19/19 [==============================] - 0s 2ms/step - loss: 0.1420 - accuracy: 0.9814\n",
      "Epoch 37/100\n",
      "19/19 [==============================] - 0s 2ms/step - loss: 0.1397 - accuracy: 0.9813\n",
      "Epoch 38/100\n",
      "19/19 [==============================] - 0s 2ms/step - loss: 0.1215 - accuracy: 0.9762\n",
      "Epoch 39/100\n",
      "19/19 [==============================] - 0s 2ms/step - loss: 0.1172 - accuracy: 0.9826\n",
      "Epoch 40/100\n",
      "19/19 [==============================] - 0s 2ms/step - loss: 0.1008 - accuracy: 0.9889\n",
      "Epoch 41/100\n",
      "19/19 [==============================] - 0s 2ms/step - loss: 0.1022 - accuracy: 0.9805\n",
      "Epoch 42/100\n",
      "19/19 [==============================] - 0s 2ms/step - loss: 0.0942 - accuracy: 0.9858\n",
      "Epoch 43/100\n",
      "19/19 [==============================] - 0s 2ms/step - loss: 0.0792 - accuracy: 0.9936\n",
      "Epoch 44/100\n",
      "19/19 [==============================] - 0s 2ms/step - loss: 0.0815 - accuracy: 0.9879\n",
      "Epoch 45/100\n",
      "19/19 [==============================] - 0s 2ms/step - loss: 0.0826 - accuracy: 0.9881\n",
      "Epoch 46/100\n",
      "19/19 [==============================] - 0s 2ms/step - loss: 0.0690 - accuracy: 0.9904\n",
      "Epoch 47/100\n",
      "19/19 [==============================] - 0s 2ms/step - loss: 0.0804 - accuracy: 0.9850\n",
      "Epoch 48/100\n",
      "19/19 [==============================] - 0s 2ms/step - loss: 0.0661 - accuracy: 0.9897\n",
      "Epoch 49/100\n",
      "19/19 [==============================] - 0s 2ms/step - loss: 0.0579 - accuracy: 0.9970\n",
      "Epoch 50/100\n",
      "19/19 [==============================] - 0s 2ms/step - loss: 0.0468 - accuracy: 0.9973\n",
      "Epoch 51/100\n",
      "19/19 [==============================] - 0s 2ms/step - loss: 0.0495 - accuracy: 0.9945\n",
      "Epoch 52/100\n",
      "19/19 [==============================] - 0s 2ms/step - loss: 0.0465 - accuracy: 0.9959\n",
      "Epoch 53/100\n",
      "19/19 [==============================] - 0s 2ms/step - loss: 0.0396 - accuracy: 0.9965\n",
      "Epoch 54/100\n",
      "19/19 [==============================] - 0s 2ms/step - loss: 0.0374 - accuracy: 0.9963\n",
      "Epoch 55/100\n",
      "19/19 [==============================] - 0s 2ms/step - loss: 0.0342 - accuracy: 0.9988\n",
      "Epoch 56/100\n",
      "19/19 [==============================] - 0s 2ms/step - loss: 0.0357 - accuracy: 0.9987\n",
      "Epoch 57/100\n",
      "19/19 [==============================] - 0s 2ms/step - loss: 0.0325 - accuracy: 0.9989\n",
      "Epoch 58/100\n",
      "19/19 [==============================] - 0s 2ms/step - loss: 0.0308 - accuracy: 0.9961\n",
      "Epoch 59/100\n",
      "19/19 [==============================] - 0s 2ms/step - loss: 0.0262 - accuracy: 0.9999\n",
      "Epoch 60/100\n",
      "19/19 [==============================] - 0s 2ms/step - loss: 0.0303 - accuracy: 0.9992\n",
      "Epoch 61/100\n",
      "19/19 [==============================] - 0s 2ms/step - loss: 0.0238 - accuracy: 0.9997\n",
      "Epoch 62/100\n",
      "19/19 [==============================] - 0s 2ms/step - loss: 0.0249 - accuracy: 1.0000\n",
      "Epoch 63/100\n",
      "19/19 [==============================] - 0s 2ms/step - loss: 0.0223 - accuracy: 1.0000\n",
      "Epoch 64/100\n",
      "19/19 [==============================] - 0s 2ms/step - loss: 0.0194 - accuracy: 0.9997\n",
      "Epoch 65/100\n",
      "19/19 [==============================] - 0s 2ms/step - loss: 0.0214 - accuracy: 0.9984\n",
      "Epoch 66/100\n",
      "19/19 [==============================] - 0s 1ms/step - loss: 0.0179 - accuracy: 1.0000\n",
      "Epoch 67/100\n",
      "19/19 [==============================] - 0s 2ms/step - loss: 0.0155 - accuracy: 1.0000\n",
      "Epoch 68/100\n",
      "19/19 [==============================] - 0s 2ms/step - loss: 0.0150 - accuracy: 1.0000\n",
      "Epoch 69/100\n",
      "19/19 [==============================] - 0s 2ms/step - loss: 0.0139 - accuracy: 1.0000\n",
      "Epoch 70/100\n",
      "19/19 [==============================] - 0s 2ms/step - loss: 0.0147 - accuracy: 1.0000\n",
      "Epoch 71/100\n",
      "19/19 [==============================] - 0s 2ms/step - loss: 0.0130 - accuracy: 1.0000\n",
      "Epoch 72/100\n",
      "19/19 [==============================] - 0s 2ms/step - loss: 0.0142 - accuracy: 1.0000\n",
      "Epoch 73/100\n",
      "19/19 [==============================] - 0s 2ms/step - loss: 0.0107 - accuracy: 0.9994\n",
      "Epoch 74/100\n",
      "19/19 [==============================] - 0s 2ms/step - loss: 0.0110 - accuracy: 1.0000\n",
      "Epoch 75/100\n",
      "19/19 [==============================] - 0s 2ms/step - loss: 0.0102 - accuracy: 1.0000\n",
      "Epoch 76/100\n",
      "19/19 [==============================] - 0s 2ms/step - loss: 0.0102 - accuracy: 1.0000\n",
      "Epoch 77/100\n",
      "19/19 [==============================] - 0s 2ms/step - loss: 0.0100 - accuracy: 1.0000\n",
      "Epoch 78/100\n",
      "19/19 [==============================] - 0s 2ms/step - loss: 0.0090 - accuracy: 1.0000\n",
      "Epoch 79/100\n",
      "19/19 [==============================] - 0s 2ms/step - loss: 0.0088 - accuracy: 1.0000\n",
      "Epoch 80/100\n",
      "19/19 [==============================] - 0s 2ms/step - loss: 0.0082 - accuracy: 1.0000\n",
      "Epoch 81/100\n",
      "19/19 [==============================] - 0s 2ms/step - loss: 0.0076 - accuracy: 1.0000\n",
      "Epoch 82/100\n",
      "19/19 [==============================] - 0s 2ms/step - loss: 0.0076 - accuracy: 1.0000\n",
      "Epoch 83/100\n",
      "19/19 [==============================] - 0s 2ms/step - loss: 0.0075 - accuracy: 1.0000\n",
      "Epoch 84/100\n",
      "19/19 [==============================] - 0s 2ms/step - loss: 0.0073 - accuracy: 1.0000\n",
      "Epoch 85/100\n",
      "19/19 [==============================] - 0s 2ms/step - loss: 0.0078 - accuracy: 1.0000\n",
      "Epoch 86/100\n",
      "19/19 [==============================] - 0s 2ms/step - loss: 0.0069 - accuracy: 1.0000\n",
      "Epoch 87/100\n",
      "19/19 [==============================] - 0s 2ms/step - loss: 0.0069 - accuracy: 1.0000\n",
      "Epoch 88/100\n",
      "19/19 [==============================] - 0s 2ms/step - loss: 0.0070 - accuracy: 1.0000\n",
      "Epoch 89/100\n",
      "19/19 [==============================] - 0s 2ms/step - loss: 0.0063 - accuracy: 1.0000\n",
      "Epoch 90/100\n",
      "19/19 [==============================] - 0s 2ms/step - loss: 0.0056 - accuracy: 1.0000\n",
      "Epoch 91/100\n",
      "19/19 [==============================] - 0s 2ms/step - loss: 0.0048 - accuracy: 1.0000\n",
      "Epoch 92/100\n",
      "19/19 [==============================] - 0s 3ms/step - loss: 0.0051 - accuracy: 1.0000\n",
      "Epoch 93/100\n",
      "19/19 [==============================] - 0s 4ms/step - loss: 0.0051 - accuracy: 1.0000\n",
      "Epoch 94/100\n",
      "19/19 [==============================] - 0s 2ms/step - loss: 0.0046 - accuracy: 1.0000\n",
      "Epoch 95/100\n",
      "19/19 [==============================] - 0s 2ms/step - loss: 0.0045 - accuracy: 1.0000\n",
      "Epoch 96/100\n",
      "19/19 [==============================] - 0s 2ms/step - loss: 0.0043 - accuracy: 1.0000\n",
      "Epoch 97/100\n",
      "19/19 [==============================] - 0s 2ms/step - loss: 0.0045 - accuracy: 1.0000\n",
      "Epoch 98/100\n",
      "19/19 [==============================] - 0s 2ms/step - loss: 0.0045 - accuracy: 1.0000\n",
      "Epoch 99/100\n",
      "19/19 [==============================] - 0s 3ms/step - loss: 0.0038 - accuracy: 1.0000\n",
      "Epoch 100/100\n",
      "19/19 [==============================] - 0s 2ms/step - loss: 0.0044 - accuracy: 1.0000\n"
     ]
    }
   ],
   "source": [
    "model.compile(optimizer='adam',\n",
    "              loss='sparse_categorical_crossentropy',\n",
    "              metrics=['accuracy'])\n",
    "history = model.fit(\n",
    "    x,\n",
    "    y_shuffle,\n",
    "    batch_size=64,\n",
    "    epochs=100,\n",
    "    shuffle=True\n",
    ")"
   ]
  },
  {
   "cell_type": "code",
   "execution_count": 10,
   "metadata": {},
   "outputs": [
    {
     "name": "stdout",
     "output_type": "stream",
     "text": [
      "Train Accuracy: 1.0\n"
     ]
    }
   ],
   "source": [
    "results = model.evaluate(x, y_shuffle, verbose=0)\n",
    "print('Train Accuracy: {}'.format(results[1]))"
   ]
  },
  {
   "cell_type": "markdown",
   "metadata": {},
   "source": [
    "We can see that the model has fully fitted the training set. It practically does not matter what data you introduce into the neural network, it will almost always fit. The objective is not to fit the training set, it is to **GENERALIZE**."
   ]
  },
  {
   "cell_type": "markdown",
   "metadata": {},
   "source": [
    "#### Regularization for preventing overfitting\n",
    "\n",
    "To get the model to **generalize**, we can use one of the numerous regularization techniques"
   ]
  },
  {
   "cell_type": "markdown",
   "metadata": {},
   "source": [
    "We build a model consisting of:\n",
    "\n",
    "- Input with dimension (28,28)\n",
    "- Flatten layer\n",
    "- Dense hidden  layer with 256 neurons and ReLU as activation function\n",
    "- Second dense hidden layer with 128 neurons and ReLU as activation function\n",
    "- Third dense  hidden layer with 128 neurons and ReLU as activation function\n",
    "- Output layer with a single neuron that implements the sigmoid function."
   ]
  },
  {
   "cell_type": "code",
   "execution_count": 11,
   "metadata": {},
   "outputs": [],
   "source": [
    "# Input\n",
    "inputs = tf.keras.Input(shape=(28,28), name='input_layer')  \n",
    "# Convert the 2D image to a vector\n",
    "flat = layers.Flatten()(inputs)\n",
    "\n",
    "# hidden layer 1\n",
    "l_1 = layers.Dense(256, activation='relu', name='layer_1')(flat)  \n",
    "# hidden layer 2\n",
    "l_2 = layers.Dense(128, activation='relu', name='layer_2')(l_1)  \n",
    "# hidden layer 3\n",
    "l_3 = layers.Dense(128, activation='relu', name='layer_3')(l_2)  \n",
    "\n",
    "# Outputs\n",
    "outputs = layers.Dense(num_classes, activation='softmax', name='output_layer')(l_3)  \n",
    "\n",
    "# Model definition\n",
    "model = keras.Model(inputs=inputs, outputs=outputs, name='dont_overfit_model')"
   ]
  },
  {
   "cell_type": "code",
   "execution_count": 12,
   "metadata": {},
   "outputs": [
    {
     "name": "stdout",
     "output_type": "stream",
     "text": [
      "Model: \"dont_overfit_model\"\n",
      "_________________________________________________________________\n",
      "Layer (type)                 Output Shape              Param #   \n",
      "=================================================================\n",
      "input_layer (InputLayer)     [(None, 28, 28)]          0         \n",
      "_________________________________________________________________\n",
      "flatten_1 (Flatten)          (None, 784)               0         \n",
      "_________________________________________________________________\n",
      "layer_1 (Dense)              (None, 256)               200960    \n",
      "_________________________________________________________________\n",
      "layer_2 (Dense)              (None, 128)               32896     \n",
      "_________________________________________________________________\n",
      "layer_3 (Dense)              (None, 128)               16512     \n",
      "_________________________________________________________________\n",
      "output_layer (Dense)         (None, 10)                1290      \n",
      "=================================================================\n",
      "Total params: 251,658\n",
      "Trainable params: 251,658\n",
      "Non-trainable params: 0\n",
      "_________________________________________________________________\n"
     ]
    }
   ],
   "source": [
    "model.summary()"
   ]
  },
  {
   "cell_type": "markdown",
   "metadata": {},
   "source": [
    "We define the following configuration for training:\n",
    "- **optimizer**: adam\n",
    "- **loss function**: binary crossentropy\n",
    "- **metrics**: accuracy"
   ]
  },
  {
   "cell_type": "code",
   "execution_count": 13,
   "metadata": {},
   "outputs": [],
   "source": [
    "model.compile(optimizer='adam',\n",
    "              loss='sparse_categorical_crossentropy',\n",
    "              metrics=['accuracy'])"
   ]
  },
  {
   "cell_type": "code",
   "execution_count": 14,
   "metadata": {},
   "outputs": [
    {
     "name": "stdout",
     "output_type": "stream",
     "text": [
      "Epoch 1/100\n",
      "15/15 [==============================] - 1s 50ms/step - loss: 2.1160 - accuracy: 0.2911 - val_loss: 1.2731 - val_accuracy: 0.7292\n",
      "Epoch 2/100\n",
      "15/15 [==============================] - 0s 6ms/step - loss: 1.0036 - accuracy: 0.7756 - val_loss: 0.5332 - val_accuracy: 0.8583\n",
      "Epoch 3/100\n",
      "15/15 [==============================] - 0s 7ms/step - loss: 0.4315 - accuracy: 0.8616 - val_loss: 0.3975 - val_accuracy: 0.8958\n",
      "Epoch 4/100\n",
      "15/15 [==============================] - 0s 6ms/step - loss: 0.2361 - accuracy: 0.9356 - val_loss: 0.3373 - val_accuracy: 0.9083\n",
      "Epoch 5/100\n",
      "15/15 [==============================] - 0s 8ms/step - loss: 0.1698 - accuracy: 0.9588 - val_loss: 0.3906 - val_accuracy: 0.8875\n",
      "Epoch 6/100\n",
      "15/15 [==============================] - 0s 6ms/step - loss: 0.1070 - accuracy: 0.9766 - val_loss: 0.4058 - val_accuracy: 0.8875\n",
      "Epoch 7/100\n",
      "15/15 [==============================] - 0s 6ms/step - loss: 0.0556 - accuracy: 0.9958 - val_loss: 0.3626 - val_accuracy: 0.9000\n",
      "Epoch 8/100\n",
      "15/15 [==============================] - 0s 10ms/step - loss: 0.0457 - accuracy: 0.9988 - val_loss: 0.3615 - val_accuracy: 0.9042\n",
      "Epoch 9/100\n",
      "15/15 [==============================] - 0s 7ms/step - loss: 0.0261 - accuracy: 1.0000 - val_loss: 0.3415 - val_accuracy: 0.9000\n",
      "Epoch 10/100\n",
      "15/15 [==============================] - 0s 7ms/step - loss: 0.0169 - accuracy: 1.0000 - val_loss: 0.3581 - val_accuracy: 0.9042\n",
      "Epoch 11/100\n",
      "15/15 [==============================] - 0s 7ms/step - loss: 0.0113 - accuracy: 1.0000 - val_loss: 0.3437 - val_accuracy: 0.9042\n",
      "Epoch 12/100\n",
      "15/15 [==============================] - 0s 5ms/step - loss: 0.0096 - accuracy: 1.0000 - val_loss: 0.3741 - val_accuracy: 0.8958\n",
      "Epoch 13/100\n",
      "15/15 [==============================] - 0s 5ms/step - loss: 0.0070 - accuracy: 1.0000 - val_loss: 0.3715 - val_accuracy: 0.9042\n",
      "Epoch 14/100\n",
      "15/15 [==============================] - 0s 6ms/step - loss: 0.0059 - accuracy: 1.0000 - val_loss: 0.3800 - val_accuracy: 0.9000\n",
      "Epoch 15/100\n",
      "15/15 [==============================] - 0s 10ms/step - loss: 0.0048 - accuracy: 1.0000 - val_loss: 0.3781 - val_accuracy: 0.9042\n",
      "Epoch 16/100\n",
      "15/15 [==============================] - 0s 11ms/step - loss: 0.0046 - accuracy: 1.0000 - val_loss: 0.3841 - val_accuracy: 0.9042\n",
      "Epoch 17/100\n",
      "15/15 [==============================] - 0s 15ms/step - loss: 0.0046 - accuracy: 1.0000 - val_loss: 0.3923 - val_accuracy: 0.9000\n",
      "Epoch 18/100\n",
      "15/15 [==============================] - 0s 6ms/step - loss: 0.0031 - accuracy: 1.0000 - val_loss: 0.3949 - val_accuracy: 0.9042\n",
      "Epoch 19/100\n",
      "15/15 [==============================] - 0s 6ms/step - loss: 0.0027 - accuracy: 1.0000 - val_loss: 0.3973 - val_accuracy: 0.9042\n",
      "Epoch 20/100\n",
      "15/15 [==============================] - 0s 6ms/step - loss: 0.0026 - accuracy: 1.0000 - val_loss: 0.4054 - val_accuracy: 0.9000\n",
      "Epoch 21/100\n",
      "15/15 [==============================] - 0s 6ms/step - loss: 0.0022 - accuracy: 1.0000 - val_loss: 0.3998 - val_accuracy: 0.9000\n",
      "Epoch 22/100\n",
      "15/15 [==============================] - 0s 5ms/step - loss: 0.0022 - accuracy: 1.0000 - val_loss: 0.4101 - val_accuracy: 0.9042\n",
      "Epoch 23/100\n",
      "15/15 [==============================] - 0s 6ms/step - loss: 0.0017 - accuracy: 1.0000 - val_loss: 0.4127 - val_accuracy: 0.9042\n",
      "Epoch 24/100\n",
      "15/15 [==============================] - 0s 9ms/step - loss: 0.0016 - accuracy: 1.0000 - val_loss: 0.4133 - val_accuracy: 0.8958\n",
      "Epoch 25/100\n",
      "15/15 [==============================] - 0s 5ms/step - loss: 0.0015 - accuracy: 1.0000 - val_loss: 0.4182 - val_accuracy: 0.9000\n",
      "Epoch 26/100\n",
      "15/15 [==============================] - 0s 6ms/step - loss: 0.0012 - accuracy: 1.0000 - val_loss: 0.4192 - val_accuracy: 0.9042\n",
      "Epoch 27/100\n",
      "15/15 [==============================] - 0s 7ms/step - loss: 0.0012 - accuracy: 1.0000 - val_loss: 0.4228 - val_accuracy: 0.9000\n",
      "Epoch 28/100\n",
      "15/15 [==============================] - 0s 7ms/step - loss: 0.0013 - accuracy: 1.0000 - val_loss: 0.4273 - val_accuracy: 0.9000\n",
      "Epoch 29/100\n",
      "15/15 [==============================] - 0s 5ms/step - loss: 0.0010 - accuracy: 1.0000 - val_loss: 0.4331 - val_accuracy: 0.8958\n",
      "Epoch 30/100\n",
      "15/15 [==============================] - 0s 7ms/step - loss: 9.5730e-04 - accuracy: 1.0000 - val_loss: 0.4274 - val_accuracy: 0.9000\n",
      "Epoch 31/100\n",
      "15/15 [==============================] - 0s 6ms/step - loss: 8.8715e-04 - accuracy: 1.0000 - val_loss: 0.4364 - val_accuracy: 0.9000\n",
      "Epoch 32/100\n",
      "15/15 [==============================] - 0s 7ms/step - loss: 8.3437e-04 - accuracy: 1.0000 - val_loss: 0.4374 - val_accuracy: 0.9000\n",
      "Epoch 33/100\n",
      "15/15 [==============================] - 0s 9ms/step - loss: 7.4808e-04 - accuracy: 1.0000 - val_loss: 0.4381 - val_accuracy: 0.9000\n",
      "Epoch 34/100\n",
      "15/15 [==============================] - 0s 6ms/step - loss: 7.1389e-04 - accuracy: 1.0000 - val_loss: 0.4407 - val_accuracy: 0.9000\n",
      "Epoch 35/100\n",
      "15/15 [==============================] - 0s 8ms/step - loss: 6.6142e-04 - accuracy: 1.0000 - val_loss: 0.4440 - val_accuracy: 0.9000\n",
      "Epoch 36/100\n",
      "15/15 [==============================] - 0s 8ms/step - loss: 6.5253e-04 - accuracy: 1.0000 - val_loss: 0.4459 - val_accuracy: 0.9000\n",
      "Epoch 37/100\n",
      "15/15 [==============================] - 0s 9ms/step - loss: 6.1494e-04 - accuracy: 1.0000 - val_loss: 0.4471 - val_accuracy: 0.9000\n",
      "Epoch 38/100\n",
      "15/15 [==============================] - 0s 6ms/step - loss: 5.2673e-04 - accuracy: 1.0000 - val_loss: 0.4503 - val_accuracy: 0.9000\n",
      "Epoch 39/100\n",
      "15/15 [==============================] - 0s 5ms/step - loss: 5.4143e-04 - accuracy: 1.0000 - val_loss: 0.4528 - val_accuracy: 0.9000\n",
      "Epoch 40/100\n",
      "15/15 [==============================] - 0s 6ms/step - loss: 4.7624e-04 - accuracy: 1.0000 - val_loss: 0.4524 - val_accuracy: 0.9000\n",
      "Epoch 41/100\n",
      "15/15 [==============================] - 0s 8ms/step - loss: 4.6781e-04 - accuracy: 1.0000 - val_loss: 0.4546 - val_accuracy: 0.9000\n",
      "Epoch 42/100\n",
      "15/15 [==============================] - 0s 7ms/step - loss: 4.0758e-04 - accuracy: 1.0000 - val_loss: 0.4560 - val_accuracy: 0.9000\n",
      "Epoch 43/100\n",
      "15/15 [==============================] - 0s 5ms/step - loss: 4.1708e-04 - accuracy: 1.0000 - val_loss: 0.4591 - val_accuracy: 0.9000\n",
      "Epoch 44/100\n",
      "15/15 [==============================] - 0s 5ms/step - loss: 4.1610e-04 - accuracy: 1.0000 - val_loss: 0.4632 - val_accuracy: 0.9000\n",
      "Epoch 45/100\n",
      "15/15 [==============================] - 0s 6ms/step - loss: 3.7412e-04 - accuracy: 1.0000 - val_loss: 0.4621 - val_accuracy: 0.9000\n",
      "Epoch 46/100\n",
      "15/15 [==============================] - 0s 6ms/step - loss: 3.5245e-04 - accuracy: 1.0000 - val_loss: 0.4664 - val_accuracy: 0.9000\n",
      "Epoch 47/100\n",
      "15/15 [==============================] - 0s 8ms/step - loss: 3.4713e-04 - accuracy: 1.0000 - val_loss: 0.4684 - val_accuracy: 0.9000\n",
      "Epoch 48/100\n",
      "15/15 [==============================] - 0s 7ms/step - loss: 3.1716e-04 - accuracy: 1.0000 - val_loss: 0.4682 - val_accuracy: 0.9000\n",
      "Epoch 49/100\n",
      "15/15 [==============================] - 0s 6ms/step - loss: 3.1889e-04 - accuracy: 1.0000 - val_loss: 0.4727 - val_accuracy: 0.9000\n",
      "Epoch 50/100\n",
      "15/15 [==============================] - 0s 6ms/step - loss: 2.9663e-04 - accuracy: 1.0000 - val_loss: 0.4735 - val_accuracy: 0.9000\n",
      "Epoch 51/100\n",
      "15/15 [==============================] - 0s 6ms/step - loss: 2.5711e-04 - accuracy: 1.0000 - val_loss: 0.4746 - val_accuracy: 0.9000\n",
      "Epoch 52/100\n",
      "15/15 [==============================] - 0s 5ms/step - loss: 2.7290e-04 - accuracy: 1.0000 - val_loss: 0.4768 - val_accuracy: 0.9000\n",
      "Epoch 53/100\n",
      "15/15 [==============================] - 0s 9ms/step - loss: 2.3303e-04 - accuracy: 1.0000 - val_loss: 0.4789 - val_accuracy: 0.8958\n",
      "Epoch 54/100\n",
      "15/15 [==============================] - 0s 5ms/step - loss: 2.5036e-04 - accuracy: 1.0000 - val_loss: 0.4816 - val_accuracy: 0.9000\n",
      "Epoch 55/100\n",
      "15/15 [==============================] - 0s 6ms/step - loss: 2.4647e-04 - accuracy: 1.0000 - val_loss: 0.4839 - val_accuracy: 0.9000\n",
      "Epoch 56/100\n",
      "15/15 [==============================] - 0s 6ms/step - loss: 2.2913e-04 - accuracy: 1.0000 - val_loss: 0.4820 - val_accuracy: 0.9000\n",
      "Epoch 57/100\n",
      "15/15 [==============================] - 0s 8ms/step - loss: 2.1675e-04 - accuracy: 1.0000 - val_loss: 0.4873 - val_accuracy: 0.9000\n",
      "Epoch 58/100\n",
      "15/15 [==============================] - 0s 6ms/step - loss: 2.1506e-04 - accuracy: 1.0000 - val_loss: 0.4894 - val_accuracy: 0.8958\n",
      "Epoch 59/100\n",
      "15/15 [==============================] - 0s 6ms/step - loss: 2.1346e-04 - accuracy: 1.0000 - val_loss: 0.4861 - val_accuracy: 0.9000\n",
      "Epoch 60/100\n",
      "15/15 [==============================] - 0s 6ms/step - loss: 1.7989e-04 - accuracy: 1.0000 - val_loss: 0.4906 - val_accuracy: 0.9000\n",
      "Epoch 61/100\n",
      "15/15 [==============================] - 0s 14ms/step - loss: 1.9697e-04 - accuracy: 1.0000 - val_loss: 0.4913 - val_accuracy: 0.9000\n",
      "Epoch 62/100\n",
      "15/15 [==============================] - 0s 6ms/step - loss: 1.8384e-04 - accuracy: 1.0000 - val_loss: 0.4954 - val_accuracy: 0.9000\n",
      "Epoch 63/100\n",
      "15/15 [==============================] - 0s 6ms/step - loss: 1.6643e-04 - accuracy: 1.0000 - val_loss: 0.4962 - val_accuracy: 0.9000\n",
      "Epoch 64/100\n",
      "15/15 [==============================] - 0s 8ms/step - loss: 1.8473e-04 - accuracy: 1.0000 - val_loss: 0.4979 - val_accuracy: 0.9000\n",
      "Epoch 65/100\n",
      "15/15 [==============================] - 0s 8ms/step - loss: 1.4988e-04 - accuracy: 1.0000 - val_loss: 0.4999 - val_accuracy: 0.8958\n",
      "Epoch 66/100\n",
      "15/15 [==============================] - 0s 6ms/step - loss: 1.4749e-04 - accuracy: 1.0000 - val_loss: 0.4994 - val_accuracy: 0.8958\n",
      "Epoch 67/100\n",
      "15/15 [==============================] - 0s 5ms/step - loss: 1.4343e-04 - accuracy: 1.0000 - val_loss: 0.5013 - val_accuracy: 0.9042\n",
      "Epoch 68/100\n",
      "15/15 [==============================] - 0s 5ms/step - loss: 1.4001e-04 - accuracy: 1.0000 - val_loss: 0.5056 - val_accuracy: 0.9000\n",
      "Epoch 69/100\n",
      "15/15 [==============================] - 0s 6ms/step - loss: 1.2852e-04 - accuracy: 1.0000 - val_loss: 0.5049 - val_accuracy: 0.9000\n",
      "Epoch 70/100\n",
      "15/15 [==============================] - 0s 7ms/step - loss: 1.3343e-04 - accuracy: 1.0000 - val_loss: 0.5077 - val_accuracy: 0.8958\n",
      "Epoch 71/100\n",
      "15/15 [==============================] - 0s 5ms/step - loss: 1.2941e-04 - accuracy: 1.0000 - val_loss: 0.5077 - val_accuracy: 0.9042\n",
      "Epoch 72/100\n",
      "15/15 [==============================] - 0s 5ms/step - loss: 1.2830e-04 - accuracy: 1.0000 - val_loss: 0.5108 - val_accuracy: 0.8958\n",
      "Epoch 73/100\n",
      "15/15 [==============================] - 0s 6ms/step - loss: 1.1365e-04 - accuracy: 1.0000 - val_loss: 0.5125 - val_accuracy: 0.8958\n",
      "Epoch 74/100\n",
      "15/15 [==============================] - 0s 7ms/step - loss: 1.0247e-04 - accuracy: 1.0000 - val_loss: 0.5126 - val_accuracy: 0.9000\n",
      "Epoch 75/100\n",
      "15/15 [==============================] - 0s 9ms/step - loss: 1.0466e-04 - accuracy: 1.0000 - val_loss: 0.5149 - val_accuracy: 0.9000\n",
      "Epoch 76/100\n",
      "15/15 [==============================] - 0s 8ms/step - loss: 1.1212e-04 - accuracy: 1.0000 - val_loss: 0.5172 - val_accuracy: 0.8958\n",
      "Epoch 77/100\n",
      "15/15 [==============================] - 0s 7ms/step - loss: 1.0366e-04 - accuracy: 1.0000 - val_loss: 0.5176 - val_accuracy: 0.8958\n",
      "Epoch 78/100\n",
      "15/15 [==============================] - 0s 7ms/step - loss: 9.7791e-05 - accuracy: 1.0000 - val_loss: 0.5186 - val_accuracy: 0.8958\n",
      "Epoch 79/100\n",
      "15/15 [==============================] - 0s 7ms/step - loss: 1.0378e-04 - accuracy: 1.0000 - val_loss: 0.5194 - val_accuracy: 0.9000\n",
      "Epoch 80/100\n",
      "15/15 [==============================] - 0s 7ms/step - loss: 9.3105e-05 - accuracy: 1.0000 - val_loss: 0.5207 - val_accuracy: 0.8958\n",
      "Epoch 81/100\n",
      "15/15 [==============================] - 0s 6ms/step - loss: 9.1014e-05 - accuracy: 1.0000 - val_loss: 0.5231 - val_accuracy: 0.9000\n",
      "Epoch 82/100\n",
      "15/15 [==============================] - 0s 7ms/step - loss: 8.8020e-05 - accuracy: 1.0000 - val_loss: 0.5231 - val_accuracy: 0.9000\n",
      "Epoch 83/100\n",
      "15/15 [==============================] - 0s 10ms/step - loss: 9.5093e-05 - accuracy: 1.0000 - val_loss: 0.5254 - val_accuracy: 0.9000\n",
      "Epoch 84/100\n",
      "15/15 [==============================] - 0s 5ms/step - loss: 7.6663e-05 - accuracy: 1.0000 - val_loss: 0.5262 - val_accuracy: 0.9000\n",
      "Epoch 85/100\n",
      "15/15 [==============================] - 0s 5ms/step - loss: 8.4953e-05 - accuracy: 1.0000 - val_loss: 0.5276 - val_accuracy: 0.8958\n",
      "Epoch 86/100\n",
      "15/15 [==============================] - 0s 6ms/step - loss: 7.4011e-05 - accuracy: 1.0000 - val_loss: 0.5305 - val_accuracy: 0.9000\n",
      "Epoch 87/100\n",
      "15/15 [==============================] - 0s 6ms/step - loss: 7.9152e-05 - accuracy: 1.0000 - val_loss: 0.5300 - val_accuracy: 0.9000\n",
      "Epoch 88/100\n",
      "15/15 [==============================] - 0s 6ms/step - loss: 7.0683e-05 - accuracy: 1.0000 - val_loss: 0.5317 - val_accuracy: 0.9000\n",
      "Epoch 89/100\n",
      "15/15 [==============================] - 0s 5ms/step - loss: 6.6591e-05 - accuracy: 1.0000 - val_loss: 0.5323 - val_accuracy: 0.8958\n",
      "Epoch 90/100\n",
      "15/15 [==============================] - 0s 5ms/step - loss: 6.6465e-05 - accuracy: 1.0000 - val_loss: 0.5347 - val_accuracy: 0.8958\n",
      "Epoch 91/100\n",
      "15/15 [==============================] - 0s 6ms/step - loss: 7.0205e-05 - accuracy: 1.0000 - val_loss: 0.5363 - val_accuracy: 0.9000\n",
      "Epoch 92/100\n",
      "15/15 [==============================] - 0s 5ms/step - loss: 6.9971e-05 - accuracy: 1.0000 - val_loss: 0.5376 - val_accuracy: 0.8958\n",
      "Epoch 93/100\n",
      "15/15 [==============================] - 0s 8ms/step - loss: 6.5132e-05 - accuracy: 1.0000 - val_loss: 0.5370 - val_accuracy: 0.8958\n",
      "Epoch 94/100\n",
      "15/15 [==============================] - 0s 6ms/step - loss: 6.1561e-05 - accuracy: 1.0000 - val_loss: 0.5391 - val_accuracy: 0.9000\n",
      "Epoch 95/100\n",
      "15/15 [==============================] - 0s 8ms/step - loss: 6.1145e-05 - accuracy: 1.0000 - val_loss: 0.5417 - val_accuracy: 0.8958\n",
      "Epoch 96/100\n",
      "15/15 [==============================] - 0s 7ms/step - loss: 6.1238e-05 - accuracy: 1.0000 - val_loss: 0.5405 - val_accuracy: 0.8958\n",
      "Epoch 97/100\n",
      "15/15 [==============================] - 0s 6ms/step - loss: 6.1178e-05 - accuracy: 1.0000 - val_loss: 0.5435 - val_accuracy: 0.8958\n",
      "Epoch 98/100\n",
      "15/15 [==============================] - 0s 8ms/step - loss: 4.7236e-05 - accuracy: 1.0000 - val_loss: 0.5447 - val_accuracy: 0.8958\n",
      "Epoch 99/100\n",
      "15/15 [==============================] - 0s 5ms/step - loss: 5.5496e-05 - accuracy: 1.0000 - val_loss: 0.5452 - val_accuracy: 0.8958\n",
      "Epoch 100/100\n",
      "15/15 [==============================] - 0s 5ms/step - loss: 5.7334e-05 - accuracy: 1.0000 - val_loss: 0.5456 - val_accuracy: 0.8958\n"
     ]
    }
   ],
   "source": [
    "history = model.fit(\n",
    "    x,\n",
    "    y,\n",
    "    batch_size=64,\n",
    "    epochs=100,\n",
    "    validation_split=0.2,\n",
    "    shuffle=True\n",
    ")"
   ]
  },
  {
   "cell_type": "code",
   "execution_count": 15,
   "metadata": {},
   "outputs": [
    {
     "name": "stdout",
     "output_type": "stream",
     "text": [
      "Test Loss: 0.5558719038963318\n",
      "Test Accuracy: 0.9093000292778015\n"
     ]
    }
   ],
   "source": [
    "results = model.evaluate(x_test, y_test, verbose=0)\n",
    "print('Test Loss: {}'.format(results[0]))\n",
    "print('Test Accuracy: {}'.format(results[1]))"
   ]
  },
  {
   "cell_type": "markdown",
   "metadata": {},
   "source": [
    "We visualize the evolution of the values in each epoch of the loss function and accuracy."
   ]
  },
  {
   "cell_type": "code",
   "execution_count": 16,
   "metadata": {},
   "outputs": [],
   "source": [
    "hist = pd.DataFrame(history.history)\n",
    "hist['epoch'] = history.epoch"
   ]
  },
  {
   "cell_type": "code",
   "execution_count": 17,
   "metadata": {},
   "outputs": [
    {
     "data": {
      "text/html": [
       "<div>\n",
       "<style scoped>\n",
       "    .dataframe tbody tr th:only-of-type {\n",
       "        vertical-align: middle;\n",
       "    }\n",
       "\n",
       "    .dataframe tbody tr th {\n",
       "        vertical-align: top;\n",
       "    }\n",
       "\n",
       "    .dataframe thead th {\n",
       "        text-align: right;\n",
       "    }\n",
       "</style>\n",
       "<table border=\"1\" class=\"dataframe\">\n",
       "  <thead>\n",
       "    <tr style=\"text-align: right;\">\n",
       "      <th></th>\n",
       "      <th>loss</th>\n",
       "      <th>accuracy</th>\n",
       "      <th>val_loss</th>\n",
       "      <th>val_accuracy</th>\n",
       "      <th>epoch</th>\n",
       "    </tr>\n",
       "  </thead>\n",
       "  <tbody>\n",
       "    <tr>\n",
       "      <th>0</th>\n",
       "      <td>1.902999</td>\n",
       "      <td>0.426042</td>\n",
       "      <td>1.273136</td>\n",
       "      <td>0.729167</td>\n",
       "      <td>0</td>\n",
       "    </tr>\n",
       "    <tr>\n",
       "      <th>1</th>\n",
       "      <td>0.811710</td>\n",
       "      <td>0.797917</td>\n",
       "      <td>0.533197</td>\n",
       "      <td>0.858333</td>\n",
       "      <td>1</td>\n",
       "    </tr>\n",
       "    <tr>\n",
       "      <th>2</th>\n",
       "      <td>0.378977</td>\n",
       "      <td>0.877083</td>\n",
       "      <td>0.397547</td>\n",
       "      <td>0.895833</td>\n",
       "      <td>2</td>\n",
       "    </tr>\n",
       "    <tr>\n",
       "      <th>3</th>\n",
       "      <td>0.234167</td>\n",
       "      <td>0.931250</td>\n",
       "      <td>0.337326</td>\n",
       "      <td>0.908333</td>\n",
       "      <td>3</td>\n",
       "    </tr>\n",
       "    <tr>\n",
       "      <th>4</th>\n",
       "      <td>0.154100</td>\n",
       "      <td>0.962500</td>\n",
       "      <td>0.390603</td>\n",
       "      <td>0.887500</td>\n",
       "      <td>4</td>\n",
       "    </tr>\n",
       "  </tbody>\n",
       "</table>\n",
       "</div>"
      ],
      "text/plain": [
       "       loss  accuracy  val_loss  val_accuracy  epoch\n",
       "0  1.902999  0.426042  1.273136      0.729167      0\n",
       "1  0.811710  0.797917  0.533197      0.858333      1\n",
       "2  0.378977  0.877083  0.397547      0.895833      2\n",
       "3  0.234167  0.931250  0.337326      0.908333      3\n",
       "4  0.154100  0.962500  0.390603      0.887500      4"
      ]
     },
     "execution_count": 17,
     "metadata": {},
     "output_type": "execute_result"
    }
   ],
   "source": [
    "hist.head()"
   ]
  },
  {
   "cell_type": "markdown",
   "metadata": {},
   "source": [
    "<a id='overfitting_results'></a>\n",
    "When interpreting both graphs, it is evident that the model over-fits the training values and is not able to generalize well for the validation values. **It is a clear example of overfitting**.\n",
    "\n",
    "The following function will be useful throughout the different practical examples."
   ]
  },
  {
   "cell_type": "code",
   "execution_count": null,
   "metadata": {},
   "outputs": [],
   "source": [
    "import matplotlib.pyplot as plt\n",
    "\n",
    "def show_loss_accuracy_evolution(history):\n",
    "    \n",
    "    hist = pd.DataFrame(history.history)\n",
    "    hist['epoch'] = history.epoch\n",
    "    \n",
    "    fig, (ax1, ax2) = plt.subplots(1, 2, figsize=(16, 6))\n",
    "\n",
    "    ax1.set_xlabel('Epoch')\n",
    "    ax1.set_ylabel('Categorical Crossentropy')\n",
    "    ax1.plot(hist['epoch'], hist['loss'], label='Train Error')\n",
    "    ax1.plot(hist['epoch'], hist['val_loss'], label = 'Val Error')\n",
    "    ax1.grid()\n",
    "    ax1.legend()\n",
    "\n",
    "    ax2.set_xlabel('Epoch')\n",
    "    ax2.set_ylabel('Accuracy')\n",
    "    ax2.plot(hist['epoch'], hist['accuracy'], label='Train Accuracy')\n",
    "    ax2.plot(hist['epoch'], hist['val_accuracy'], label = 'Val Accuracy')\n",
    "    ax2.grid()\n",
    "    ax2.legend()\n",
    "\n",
    "    plt.show()"
   ]
  },
  {
   "cell_type": "code",
   "execution_count": null,
   "metadata": {},
   "outputs": [],
   "source": [
    "show_loss_accuracy_evolution(history)"
   ]
  },
  {
   "cell_type": "code",
   "execution_count": 20,
   "metadata": {},
   "outputs": [
    {
     "name": "stdout",
     "output_type": "stream",
     "text": [
      "Test Loss: 0.5558719038963318\n",
      "Test Accuracy: 0.9093000292778015\n"
     ]
    }
   ],
   "source": [
    "results = model.evaluate(x_test, y_test, verbose=0)\n",
    "print('Test Loss: {}'.format(results[0]))\n",
    "print('Test Accuracy: {}'.format(results[1]))"
   ]
  },
  {
   "cell_type": "markdown",
   "metadata": {},
   "source": [
    "## Create a simpler model\n",
    "\n",
    "The simplest way to prevent overfitting is to create  a simple model: A model with less number of  parameters (which is determined by the number of layers and the number of units per layer). \n",
    "\n",
    "A more complex model with more parameters will have much more capacity and will be able to learn almost any training set. Deep learning models tend to be good at fitting to the training data, but the real challenge is generalization, not fitting."
   ]
  },
  {
   "cell_type": "code",
   "execution_count": 21,
   "metadata": {},
   "outputs": [
    {
     "name": "stdout",
     "output_type": "stream",
     "text": [
      "Model: \"simpler_model\"\n",
      "_________________________________________________________________\n",
      "Layer (type)                 Output Shape              Param #   \n",
      "=================================================================\n",
      "input_layer (InputLayer)     [(None, 28, 28)]          0         \n",
      "_________________________________________________________________\n",
      "flatten_2 (Flatten)          (None, 784)               0         \n",
      "_________________________________________________________________\n",
      "layer_1 (Dense)              (None, 8)                 6280      \n",
      "_________________________________________________________________\n",
      "output_layer (Dense)         (None, 10)                90        \n",
      "=================================================================\n",
      "Total params: 6,370\n",
      "Trainable params: 6,370\n",
      "Non-trainable params: 0\n",
      "_________________________________________________________________\n"
     ]
    }
   ],
   "source": [
    "# Input layer\n",
    "inputs = tf.keras.Input(shape=(28, 28), name='input_layer')\n",
    "flat = layers.Flatten()(inputs)\n",
    "\n",
    "# First hidden layer\n",
    "l_1 = layers.Dense(8, activation='relu', name='layer_1')(flat)\n",
    "\n",
    "# Output layer\n",
    "outputs = layers.Dense(num_classes, activation='softmax',\n",
    "                       name='output_layer')(l_1)\n",
    "model_simpler = keras.Model(\n",
    "    inputs=inputs, outputs=outputs, name='simpler_model')\n",
    "\n",
    "model_simpler.summary()"
   ]
  },
  {
   "cell_type": "code",
   "execution_count": 22,
   "metadata": {},
   "outputs": [
    {
     "name": "stdout",
     "output_type": "stream",
     "text": [
      "Epoch 1/100\n",
      "15/15 [==============================] - 0s 11ms/step - loss: 2.2836 - accuracy: 0.1486 - val_loss: 2.0776 - val_accuracy: 0.3467\n",
      "Epoch 2/100\n",
      "15/15 [==============================] - 0s 4ms/step - loss: 2.0142 - accuracy: 0.3485 - val_loss: 1.8673 - val_accuracy: 0.4267\n",
      "Epoch 3/100\n",
      "15/15 [==============================] - 0s 11ms/step - loss: 1.7938 - accuracy: 0.4272 - val_loss: 1.6757 - val_accuracy: 0.5333\n",
      "Epoch 4/100\n",
      "15/15 [==============================] - 0s 4ms/step - loss: 1.6160 - accuracy: 0.5343 - val_loss: 1.5235 - val_accuracy: 0.5667\n",
      "Epoch 5/100\n",
      "15/15 [==============================] - 0s 4ms/step - loss: 1.4628 - accuracy: 0.5954 - val_loss: 1.3899 - val_accuracy: 0.6467\n",
      "Epoch 6/100\n",
      "15/15 [==============================] - 0s 4ms/step - loss: 1.3264 - accuracy: 0.6423 - val_loss: 1.2922 - val_accuracy: 0.6533\n",
      "Epoch 7/100\n",
      "15/15 [==============================] - 0s 4ms/step - loss: 1.2197 - accuracy: 0.6808 - val_loss: 1.1964 - val_accuracy: 0.6933\n",
      "Epoch 8/100\n",
      "15/15 [==============================] - 0s 4ms/step - loss: 1.1160 - accuracy: 0.6918 - val_loss: 1.1178 - val_accuracy: 0.7100\n",
      "Epoch 9/100\n",
      "15/15 [==============================] - 0s 4ms/step - loss: 1.0680 - accuracy: 0.6888 - val_loss: 1.0540 - val_accuracy: 0.7033\n",
      "Epoch 10/100\n",
      "15/15 [==============================] - 0s 4ms/step - loss: 0.9826 - accuracy: 0.7243 - val_loss: 0.9980 - val_accuracy: 0.7300\n",
      "Epoch 11/100\n",
      "15/15 [==============================] - 0s 5ms/step - loss: 0.9314 - accuracy: 0.7106 - val_loss: 0.9441 - val_accuracy: 0.7467\n",
      "Epoch 12/100\n",
      "15/15 [==============================] - 0s 4ms/step - loss: 0.8749 - accuracy: 0.7409 - val_loss: 0.9063 - val_accuracy: 0.7700\n",
      "Epoch 13/100\n",
      "15/15 [==============================] - 0s 5ms/step - loss: 0.8260 - accuracy: 0.7586 - val_loss: 0.8656 - val_accuracy: 0.7767\n",
      "Epoch 14/100\n",
      "15/15 [==============================] - 0s 4ms/step - loss: 0.7723 - accuracy: 0.7909 - val_loss: 0.8235 - val_accuracy: 0.7800\n",
      "Epoch 15/100\n",
      "15/15 [==============================] - 0s 4ms/step - loss: 0.7389 - accuracy: 0.8061 - val_loss: 0.8082 - val_accuracy: 0.7933\n",
      "Epoch 16/100\n",
      "15/15 [==============================] - 0s 4ms/step - loss: 0.6915 - accuracy: 0.8187 - val_loss: 0.7798 - val_accuracy: 0.7933\n",
      "Epoch 17/100\n",
      "15/15 [==============================] - 0s 5ms/step - loss: 0.6583 - accuracy: 0.8328 - val_loss: 0.7513 - val_accuracy: 0.8033\n",
      "Epoch 18/100\n",
      "15/15 [==============================] - 0s 5ms/step - loss: 0.6162 - accuracy: 0.8367 - val_loss: 0.7279 - val_accuracy: 0.8067\n",
      "Epoch 19/100\n",
      "15/15 [==============================] - 0s 5ms/step - loss: 0.6004 - accuracy: 0.8520 - val_loss: 0.7086 - val_accuracy: 0.8033\n",
      "Epoch 20/100\n",
      "15/15 [==============================] - 0s 7ms/step - loss: 0.6045 - accuracy: 0.8384 - val_loss: 0.6857 - val_accuracy: 0.8067\n",
      "Epoch 21/100\n",
      "15/15 [==============================] - 0s 5ms/step - loss: 0.5690 - accuracy: 0.8631 - val_loss: 0.6703 - val_accuracy: 0.8167\n",
      "Epoch 22/100\n",
      "15/15 [==============================] - 0s 5ms/step - loss: 0.5542 - accuracy: 0.8516 - val_loss: 0.6575 - val_accuracy: 0.8233\n",
      "Epoch 23/100\n",
      "15/15 [==============================] - 0s 4ms/step - loss: 0.5275 - accuracy: 0.8643 - val_loss: 0.6418 - val_accuracy: 0.8267\n",
      "Epoch 24/100\n",
      "15/15 [==============================] - 0s 4ms/step - loss: 0.5031 - accuracy: 0.8676 - val_loss: 0.6268 - val_accuracy: 0.8267\n",
      "Epoch 25/100\n",
      "15/15 [==============================] - 0s 4ms/step - loss: 0.4889 - accuracy: 0.8717 - val_loss: 0.6183 - val_accuracy: 0.8400\n",
      "Epoch 26/100\n",
      "15/15 [==============================] - 0s 5ms/step - loss: 0.4491 - accuracy: 0.8873 - val_loss: 0.6094 - val_accuracy: 0.8400\n",
      "Epoch 27/100\n",
      "15/15 [==============================] - 0s 5ms/step - loss: 0.4451 - accuracy: 0.8878 - val_loss: 0.5942 - val_accuracy: 0.8400\n",
      "Epoch 28/100\n",
      "15/15 [==============================] - 0s 4ms/step - loss: 0.4015 - accuracy: 0.9207 - val_loss: 0.5831 - val_accuracy: 0.8367\n",
      "Epoch 29/100\n",
      "15/15 [==============================] - 0s 4ms/step - loss: 0.4633 - accuracy: 0.8949 - val_loss: 0.5742 - val_accuracy: 0.8433\n",
      "Epoch 30/100\n",
      "15/15 [==============================] - 0s 4ms/step - loss: 0.3959 - accuracy: 0.9170 - val_loss: 0.5639 - val_accuracy: 0.8400\n",
      "Epoch 31/100\n",
      "15/15 [==============================] - 0s 4ms/step - loss: 0.4053 - accuracy: 0.9075 - val_loss: 0.5535 - val_accuracy: 0.8467\n",
      "Epoch 32/100\n",
      "15/15 [==============================] - 0s 4ms/step - loss: 0.3839 - accuracy: 0.9180 - val_loss: 0.5457 - val_accuracy: 0.8467\n",
      "Epoch 33/100\n",
      "15/15 [==============================] - 0s 5ms/step - loss: 0.3632 - accuracy: 0.9200 - val_loss: 0.5483 - val_accuracy: 0.8467\n",
      "Epoch 34/100\n",
      "15/15 [==============================] - 0s 6ms/step - loss: 0.3609 - accuracy: 0.9155 - val_loss: 0.5351 - val_accuracy: 0.8467\n",
      "Epoch 35/100\n",
      "15/15 [==============================] - 0s 6ms/step - loss: 0.3673 - accuracy: 0.9048 - val_loss: 0.5274 - val_accuracy: 0.8433\n",
      "Epoch 36/100\n",
      "15/15 [==============================] - 0s 7ms/step - loss: 0.3336 - accuracy: 0.9220 - val_loss: 0.5277 - val_accuracy: 0.8467\n",
      "Epoch 37/100\n",
      "15/15 [==============================] - 0s 5ms/step - loss: 0.3165 - accuracy: 0.9322 - val_loss: 0.5256 - val_accuracy: 0.8433\n",
      "Epoch 38/100\n",
      "15/15 [==============================] - 0s 4ms/step - loss: 0.3116 - accuracy: 0.9226 - val_loss: 0.5179 - val_accuracy: 0.8500\n",
      "Epoch 39/100\n",
      "15/15 [==============================] - 0s 4ms/step - loss: 0.3080 - accuracy: 0.9331 - val_loss: 0.5118 - val_accuracy: 0.8433\n",
      "Epoch 40/100\n",
      "15/15 [==============================] - 0s 4ms/step - loss: 0.3174 - accuracy: 0.9271 - val_loss: 0.5058 - val_accuracy: 0.8433\n",
      "Epoch 41/100\n",
      "15/15 [==============================] - 0s 4ms/step - loss: 0.3050 - accuracy: 0.9255 - val_loss: 0.5208 - val_accuracy: 0.8567\n",
      "Epoch 42/100\n",
      "15/15 [==============================] - 0s 6ms/step - loss: 0.2731 - accuracy: 0.9393 - val_loss: 0.5097 - val_accuracy: 0.8500\n",
      "Epoch 43/100\n",
      "15/15 [==============================] - 0s 6ms/step - loss: 0.2842 - accuracy: 0.9441 - val_loss: 0.5074 - val_accuracy: 0.8267\n",
      "Epoch 44/100\n",
      "15/15 [==============================] - 0s 6ms/step - loss: 0.2819 - accuracy: 0.9425 - val_loss: 0.5048 - val_accuracy: 0.8300\n",
      "Epoch 45/100\n",
      "15/15 [==============================] - 0s 12ms/step - loss: 0.2649 - accuracy: 0.9447 - val_loss: 0.5041 - val_accuracy: 0.8300\n",
      "Epoch 46/100\n",
      "15/15 [==============================] - 0s 4ms/step - loss: 0.2768 - accuracy: 0.9383 - val_loss: 0.5053 - val_accuracy: 0.8367\n",
      "Epoch 47/100\n",
      "15/15 [==============================] - 0s 4ms/step - loss: 0.2664 - accuracy: 0.9529 - val_loss: 0.4899 - val_accuracy: 0.8333\n",
      "Epoch 48/100\n",
      "15/15 [==============================] - 0s 4ms/step - loss: 0.2618 - accuracy: 0.9470 - val_loss: 0.4885 - val_accuracy: 0.8367\n",
      "Epoch 49/100\n",
      "15/15 [==============================] - 0s 4ms/step - loss: 0.2212 - accuracy: 0.9603 - val_loss: 0.4897 - val_accuracy: 0.8367\n",
      "Epoch 50/100\n",
      "15/15 [==============================] - 0s 4ms/step - loss: 0.2385 - accuracy: 0.9506 - val_loss: 0.4872 - val_accuracy: 0.8267\n",
      "Epoch 51/100\n",
      "15/15 [==============================] - 0s 4ms/step - loss: 0.2259 - accuracy: 0.9515 - val_loss: 0.4770 - val_accuracy: 0.8400\n",
      "Epoch 52/100\n",
      "15/15 [==============================] - 0s 4ms/step - loss: 0.2368 - accuracy: 0.9475 - val_loss: 0.4899 - val_accuracy: 0.8467\n",
      "Epoch 53/100\n",
      "15/15 [==============================] - 0s 4ms/step - loss: 0.2443 - accuracy: 0.9514 - val_loss: 0.4950 - val_accuracy: 0.8467\n",
      "Epoch 54/100\n",
      "15/15 [==============================] - 0s 4ms/step - loss: 0.2057 - accuracy: 0.9620 - val_loss: 0.4920 - val_accuracy: 0.8467\n",
      "Epoch 55/100\n",
      "15/15 [==============================] - 0s 4ms/step - loss: 0.2193 - accuracy: 0.9540 - val_loss: 0.4954 - val_accuracy: 0.8467\n",
      "Epoch 56/100\n",
      "15/15 [==============================] - 0s 4ms/step - loss: 0.2009 - accuracy: 0.9642 - val_loss: 0.4810 - val_accuracy: 0.8467\n",
      "Epoch 57/100\n",
      "15/15 [==============================] - 0s 4ms/step - loss: 0.2110 - accuracy: 0.9531 - val_loss: 0.4800 - val_accuracy: 0.8533\n",
      "Epoch 58/100\n",
      "15/15 [==============================] - 0s 4ms/step - loss: 0.2120 - accuracy: 0.9594 - val_loss: 0.4791 - val_accuracy: 0.8500\n",
      "Epoch 59/100\n",
      "15/15 [==============================] - 0s 5ms/step - loss: 0.2063 - accuracy: 0.9618 - val_loss: 0.4786 - val_accuracy: 0.8567\n",
      "Epoch 60/100\n",
      "15/15 [==============================] - 0s 4ms/step - loss: 0.1973 - accuracy: 0.9657 - val_loss: 0.4757 - val_accuracy: 0.8567\n",
      "Epoch 61/100\n",
      "15/15 [==============================] - 0s 7ms/step - loss: 0.2099 - accuracy: 0.9663 - val_loss: 0.4704 - val_accuracy: 0.8600\n",
      "Epoch 62/100\n",
      "15/15 [==============================] - 0s 6ms/step - loss: 0.1842 - accuracy: 0.9711 - val_loss: 0.4709 - val_accuracy: 0.8533\n",
      "Epoch 63/100\n",
      "15/15 [==============================] - 0s 6ms/step - loss: 0.1783 - accuracy: 0.9677 - val_loss: 0.4761 - val_accuracy: 0.8533\n",
      "Epoch 64/100\n",
      "15/15 [==============================] - 0s 4ms/step - loss: 0.1810 - accuracy: 0.9627 - val_loss: 0.4785 - val_accuracy: 0.8567\n",
      "Epoch 65/100\n",
      "15/15 [==============================] - 0s 4ms/step - loss: 0.1876 - accuracy: 0.9611 - val_loss: 0.4671 - val_accuracy: 0.8600\n",
      "Epoch 66/100\n",
      "15/15 [==============================] - 0s 4ms/step - loss: 0.1867 - accuracy: 0.9651 - val_loss: 0.4757 - val_accuracy: 0.8567\n",
      "Epoch 67/100\n",
      "15/15 [==============================] - 0s 4ms/step - loss: 0.1597 - accuracy: 0.9751 - val_loss: 0.4726 - val_accuracy: 0.8533\n",
      "Epoch 68/100\n",
      "15/15 [==============================] - 0s 4ms/step - loss: 0.1779 - accuracy: 0.9636 - val_loss: 0.4748 - val_accuracy: 0.8567\n",
      "Epoch 69/100\n",
      "15/15 [==============================] - 0s 4ms/step - loss: 0.1655 - accuracy: 0.9717 - val_loss: 0.4830 - val_accuracy: 0.8567\n",
      "Epoch 70/100\n",
      "15/15 [==============================] - 0s 4ms/step - loss: 0.1592 - accuracy: 0.9704 - val_loss: 0.4787 - val_accuracy: 0.8533\n",
      "Epoch 71/100\n",
      "15/15 [==============================] - 0s 4ms/step - loss: 0.1618 - accuracy: 0.9778 - val_loss: 0.4721 - val_accuracy: 0.8533\n",
      "Epoch 72/100\n",
      "15/15 [==============================] - 0s 4ms/step - loss: 0.1386 - accuracy: 0.9813 - val_loss: 0.4760 - val_accuracy: 0.8567\n",
      "Epoch 73/100\n",
      "15/15 [==============================] - 0s 4ms/step - loss: 0.1468 - accuracy: 0.9776 - val_loss: 0.4788 - val_accuracy: 0.8500\n",
      "Epoch 74/100\n",
      "15/15 [==============================] - 0s 4ms/step - loss: 0.1428 - accuracy: 0.9770 - val_loss: 0.4763 - val_accuracy: 0.8500\n",
      "Epoch 75/100\n",
      "15/15 [==============================] - 0s 6ms/step - loss: 0.1435 - accuracy: 0.9767 - val_loss: 0.4766 - val_accuracy: 0.8533\n",
      "Epoch 76/100\n",
      "15/15 [==============================] - 0s 6ms/step - loss: 0.1386 - accuracy: 0.9827 - val_loss: 0.4779 - val_accuracy: 0.8500\n",
      "Epoch 77/100\n",
      "15/15 [==============================] - 0s 5ms/step - loss: 0.1325 - accuracy: 0.9815 - val_loss: 0.4789 - val_accuracy: 0.8567\n",
      "Epoch 78/100\n",
      "15/15 [==============================] - 0s 4ms/step - loss: 0.1472 - accuracy: 0.9813 - val_loss: 0.4768 - val_accuracy: 0.8500\n",
      "Epoch 79/100\n",
      "15/15 [==============================] - 0s 4ms/step - loss: 0.1346 - accuracy: 0.9800 - val_loss: 0.4712 - val_accuracy: 0.8567\n",
      "Epoch 80/100\n",
      "15/15 [==============================] - 0s 4ms/step - loss: 0.1316 - accuracy: 0.9802 - val_loss: 0.4705 - val_accuracy: 0.8600\n",
      "Epoch 81/100\n",
      "15/15 [==============================] - 0s 4ms/step - loss: 0.1351 - accuracy: 0.9764 - val_loss: 0.4700 - val_accuracy: 0.8600\n",
      "Epoch 82/100\n",
      "15/15 [==============================] - 0s 4ms/step - loss: 0.1362 - accuracy: 0.9784 - val_loss: 0.4757 - val_accuracy: 0.8567\n",
      "Epoch 83/100\n",
      "15/15 [==============================] - 0s 4ms/step - loss: 0.1283 - accuracy: 0.9825 - val_loss: 0.4663 - val_accuracy: 0.8600\n",
      "Epoch 84/100\n",
      "15/15 [==============================] - 0s 4ms/step - loss: 0.1265 - accuracy: 0.9805 - val_loss: 0.4794 - val_accuracy: 0.8533\n",
      "Epoch 85/100\n",
      "15/15 [==============================] - 0s 3ms/step - loss: 0.1278 - accuracy: 0.9783 - val_loss: 0.4756 - val_accuracy: 0.8500\n",
      "Epoch 86/100\n",
      "15/15 [==============================] - 0s 4ms/step - loss: 0.1159 - accuracy: 0.9882 - val_loss: 0.4783 - val_accuracy: 0.8500\n",
      "Epoch 87/100\n",
      "15/15 [==============================] - 0s 4ms/step - loss: 0.1181 - accuracy: 0.9840 - val_loss: 0.4801 - val_accuracy: 0.8567\n",
      "Epoch 88/100\n",
      "15/15 [==============================] - 0s 4ms/step - loss: 0.1098 - accuracy: 0.9896 - val_loss: 0.4822 - val_accuracy: 0.8533\n",
      "Epoch 89/100\n",
      "15/15 [==============================] - 0s 4ms/step - loss: 0.1118 - accuracy: 0.9863 - val_loss: 0.4834 - val_accuracy: 0.8467\n",
      "Epoch 90/100\n",
      "15/15 [==============================] - 0s 5ms/step - loss: 0.1082 - accuracy: 0.9840 - val_loss: 0.4814 - val_accuracy: 0.8567\n",
      "Epoch 91/100\n",
      "15/15 [==============================] - 0s 5ms/step - loss: 0.1101 - accuracy: 0.9870 - val_loss: 0.4821 - val_accuracy: 0.8567\n",
      "Epoch 92/100\n",
      "15/15 [==============================] - 0s 5ms/step - loss: 0.1155 - accuracy: 0.9831 - val_loss: 0.4852 - val_accuracy: 0.8500\n",
      "Epoch 93/100\n",
      "15/15 [==============================] - 0s 6ms/step - loss: 0.1018 - accuracy: 0.9899 - val_loss: 0.4878 - val_accuracy: 0.8567\n",
      "Epoch 94/100\n",
      "15/15 [==============================] - 0s 5ms/step - loss: 0.0969 - accuracy: 0.9906 - val_loss: 0.4931 - val_accuracy: 0.8533\n",
      "Epoch 95/100\n",
      "15/15 [==============================] - 0s 4ms/step - loss: 0.1038 - accuracy: 0.9831 - val_loss: 0.4835 - val_accuracy: 0.8567\n",
      "Epoch 96/100\n",
      "15/15 [==============================] - 0s 5ms/step - loss: 0.1015 - accuracy: 0.9900 - val_loss: 0.4841 - val_accuracy: 0.8533\n",
      "Epoch 97/100\n",
      "15/15 [==============================] - 0s 5ms/step - loss: 0.1022 - accuracy: 0.9833 - val_loss: 0.4991 - val_accuracy: 0.8500\n",
      "Epoch 98/100\n",
      "15/15 [==============================] - 0s 4ms/step - loss: 0.0986 - accuracy: 0.9888 - val_loss: 0.4844 - val_accuracy: 0.8533\n",
      "Epoch 99/100\n",
      "15/15 [==============================] - 0s 9ms/step - loss: 0.1060 - accuracy: 0.9893 - val_loss: 0.4850 - val_accuracy: 0.8500\n",
      "Epoch 100/100\n",
      "15/15 [==============================] - 0s 4ms/step - loss: 0.0996 - accuracy: 0.9878 - val_loss: 0.4865 - val_accuracy: 0.8533\n"
     ]
    }
   ],
   "source": [
    "model_simpler.compile(optimizer='adam',\n",
    "                      loss='sparse_categorical_crossentropy',\n",
    "                      metrics=['accuracy'])\n",
    "history_simpler = model_simpler.fit(x,\n",
    "                                    y,\n",
    "                                    batch_size=64,\n",
    "                                    epochs=100,\n",
    "                                    validation_split=0.25,\n",
    "                                    shuffle=True)"
   ]
  },
  {
   "cell_type": "code",
   "execution_count": 23,
   "metadata": {},
   "outputs": [
    {
     "data": {
      "image/png": "[encoded data removed]",
      "text/plain": [
       "<Figure size 1152x432 with 2 Axes>"
      ]
     },
     "metadata": {
      "needs_background": "light"
     },
     "output_type": "display_data"
    }
   ],
   "source": [
    "show_loss_accuracy_evolution(history_simpler)"
   ]
  },
  {
   "cell_type": "code",
   "execution_count": 24,
   "metadata": {},
   "outputs": [
    {
     "name": "stdout",
     "output_type": "stream",
     "text": [
      "Test Loss: 0.4881656765937805\n",
      "Test Accuracy: 0.8662999868392944\n"
     ]
    }
   ],
   "source": [
    "results = model_simpler.evaluate(x_test, y_test, verbose=0)\n",
    "print('Test Loss: {}'.format(results[0]))\n",
    "print('Test Accuracy: {}'.format(results[1]))"
   ]
  },
  {
   "cell_type": "markdown",
   "metadata": {},
   "source": [
    "## Reduce batch_size\n",
    "\n",
    "Other method is decreasing the `batch_size`during the gradient descend to add more uncertainty to the estimation of the parameter gradients, thus reducing the capacity of the model"
   ]
  },
  {
   "cell_type": "code",
   "execution_count": 25,
   "metadata": {},
   "outputs": [
    {
     "name": "stdout",
     "output_type": "stream",
     "text": [
      "Model: \"dont_overfit_model\"\n",
      "_________________________________________________________________\n",
      "Layer (type)                 Output Shape              Param #   \n",
      "=================================================================\n",
      "input_layer (InputLayer)     [(None, 28, 28)]          0         \n",
      "_________________________________________________________________\n",
      "flatten_3 (Flatten)          (None, 784)               0         \n",
      "_________________________________________________________________\n",
      "layer_1 (Dense)              (None, 256)               200960    \n",
      "_________________________________________________________________\n",
      "layer_2 (Dense)              (None, 128)               32896     \n",
      "_________________________________________________________________\n",
      "layer_3 (Dense)              (None, 128)               16512     \n",
      "_________________________________________________________________\n",
      "output_layer (Dense)         (None, 10)                1290      \n",
      "=================================================================\n",
      "Total params: 251,658\n",
      "Trainable params: 251,658\n",
      "Non-trainable params: 0\n",
      "_________________________________________________________________\n"
     ]
    }
   ],
   "source": [
    "# Input\n",
    "inputs = tf.keras.Input(shape=(28,28), name='input_layer')  \n",
    "# Convert the 2D image to a vector\n",
    "flat = layers.Flatten()(inputs)\n",
    "\n",
    "# hidden layer 1\n",
    "l_1 = layers.Dense(256, activation='relu', name='layer_1')(flat)  \n",
    "# hidden layer 2\n",
    "l_2 = layers.Dense(128, activation='relu', name='layer_2')(l_1)  \n",
    "# hidden layer 3\n",
    "l_3 = layers.Dense(128, activation='relu', name='layer_3')(l_2)  \n",
    "\n",
    "# Outputs\n",
    "outputs = layers.Dense(num_classes, activation='softmax', name='output_layer')(l_3)  \n",
    "\n",
    "# Model definition\n",
    "model = keras.Model(inputs=inputs, outputs=outputs, name='dont_overfit_model')\n",
    "## same model\n",
    "model.summary()"
   ]
  },
  {
   "cell_type": "code",
   "execution_count": 26,
   "metadata": {},
   "outputs": [
    {
     "name": "stdout",
     "output_type": "stream",
     "text": [
      "Epoch 1/100\n",
      "60/60 [==============================] - 1s 5ms/step - loss: 1.7194 - accuracy: 0.4286 - val_loss: 0.7326 - val_accuracy: 0.7667\n",
      "Epoch 2/100\n",
      "60/60 [==============================] - 0s 3ms/step - loss: 0.4275 - accuracy: 0.8501 - val_loss: 0.3550 - val_accuracy: 0.8958\n",
      "Epoch 3/100\n",
      "60/60 [==============================] - 0s 3ms/step - loss: 0.2000 - accuracy: 0.9453 - val_loss: 0.4130 - val_accuracy: 0.8958\n",
      "Epoch 4/100\n",
      "60/60 [==============================] - 0s 3ms/step - loss: 0.1137 - accuracy: 0.9689 - val_loss: 0.3859 - val_accuracy: 0.8750\n",
      "Epoch 5/100\n",
      "60/60 [==============================] - 0s 3ms/step - loss: 0.0738 - accuracy: 0.9813 - val_loss: 0.3635 - val_accuracy: 0.8792\n",
      "Epoch 6/100\n",
      "60/60 [==============================] - 0s 3ms/step - loss: 0.0285 - accuracy: 0.9941 - val_loss: 0.3698 - val_accuracy: 0.8833\n",
      "Epoch 7/100\n",
      "60/60 [==============================] - 0s 3ms/step - loss: 0.0143 - accuracy: 1.0000 - val_loss: 0.3596 - val_accuracy: 0.8958\n",
      "Epoch 8/100\n",
      "60/60 [==============================] - 0s 2ms/step - loss: 0.0044 - accuracy: 1.0000 - val_loss: 0.3808 - val_accuracy: 0.8875\n",
      "Epoch 9/100\n",
      "60/60 [==============================] - 0s 3ms/step - loss: 0.0035 - accuracy: 1.0000 - val_loss: 0.4069 - val_accuracy: 0.8875\n",
      "Epoch 10/100\n",
      "60/60 [==============================] - 0s 3ms/step - loss: 0.0020 - accuracy: 1.0000 - val_loss: 0.4035 - val_accuracy: 0.8875\n",
      "Epoch 11/100\n",
      "60/60 [==============================] - 0s 3ms/step - loss: 0.0015 - accuracy: 1.0000 - val_loss: 0.4082 - val_accuracy: 0.8833\n",
      "Epoch 12/100\n",
      "60/60 [==============================] - 0s 3ms/step - loss: 0.0013 - accuracy: 1.0000 - val_loss: 0.4158 - val_accuracy: 0.8875\n",
      "Epoch 13/100\n",
      "60/60 [==============================] - 0s 3ms/step - loss: 0.0011 - accuracy: 1.0000 - val_loss: 0.4342 - val_accuracy: 0.8875\n",
      "Epoch 14/100\n",
      "60/60 [==============================] - 0s 3ms/step - loss: 9.1280e-04 - accuracy: 1.0000 - val_loss: 0.4322 - val_accuracy: 0.8875\n",
      "Epoch 15/100\n",
      "60/60 [==============================] - 0s 3ms/step - loss: 8.3342e-04 - accuracy: 1.0000 - val_loss: 0.4303 - val_accuracy: 0.8875\n",
      "Epoch 16/100\n",
      "60/60 [==============================] - 0s 4ms/step - loss: 7.6215e-04 - accuracy: 1.0000 - val_loss: 0.4430 - val_accuracy: 0.8875\n",
      "Epoch 17/100\n",
      "60/60 [==============================] - 0s 3ms/step - loss: 5.9690e-04 - accuracy: 1.0000 - val_loss: 0.4355 - val_accuracy: 0.8958\n",
      "Epoch 18/100\n",
      "60/60 [==============================] - 0s 4ms/step - loss: 4.8079e-04 - accuracy: 1.0000 - val_loss: 0.4620 - val_accuracy: 0.8875\n",
      "Epoch 19/100\n",
      "60/60 [==============================] - 0s 3ms/step - loss: 5.1471e-04 - accuracy: 1.0000 - val_loss: 0.4516 - val_accuracy: 0.8833\n",
      "Epoch 20/100\n",
      "60/60 [==============================] - 0s 3ms/step - loss: 3.8989e-04 - accuracy: 1.0000 - val_loss: 0.4631 - val_accuracy: 0.8875\n",
      "Epoch 21/100\n",
      "60/60 [==============================] - 0s 3ms/step - loss: 3.3189e-04 - accuracy: 1.0000 - val_loss: 0.4843 - val_accuracy: 0.8917\n",
      "Epoch 22/100\n",
      "60/60 [==============================] - 0s 3ms/step - loss: 3.0691e-04 - accuracy: 1.0000 - val_loss: 0.4641 - val_accuracy: 0.8875\n",
      "Epoch 23/100\n",
      "60/60 [==============================] - 0s 3ms/step - loss: 2.6710e-04 - accuracy: 1.0000 - val_loss: 0.4803 - val_accuracy: 0.8875\n",
      "Epoch 24/100\n",
      "60/60 [==============================] - 0s 3ms/step - loss: 2.3547e-04 - accuracy: 1.0000 - val_loss: 0.4806 - val_accuracy: 0.8917\n",
      "Epoch 25/100\n",
      "60/60 [==============================] - 0s 3ms/step - loss: 2.0137e-04 - accuracy: 1.0000 - val_loss: 0.4798 - val_accuracy: 0.8917\n",
      "Epoch 26/100\n",
      "60/60 [==============================] - 0s 3ms/step - loss: 1.9277e-04 - accuracy: 1.0000 - val_loss: 0.4882 - val_accuracy: 0.8917\n",
      "Epoch 27/100\n",
      "60/60 [==============================] - 0s 4ms/step - loss: 1.9371e-04 - accuracy: 1.0000 - val_loss: 0.4881 - val_accuracy: 0.8917\n",
      "Epoch 28/100\n",
      "60/60 [==============================] - 0s 3ms/step - loss: 1.5545e-04 - accuracy: 1.0000 - val_loss: 0.4899 - val_accuracy: 0.8875\n",
      "Epoch 29/100\n",
      "60/60 [==============================] - 0s 3ms/step - loss: 1.2551e-04 - accuracy: 1.0000 - val_loss: 0.4986 - val_accuracy: 0.8917\n",
      "Epoch 30/100\n",
      "60/60 [==============================] - 0s 3ms/step - loss: 1.2655e-04 - accuracy: 1.0000 - val_loss: 0.4999 - val_accuracy: 0.8917\n",
      "Epoch 31/100\n",
      "60/60 [==============================] - 0s 3ms/step - loss: 1.0164e-04 - accuracy: 1.0000 - val_loss: 0.5104 - val_accuracy: 0.8958\n",
      "Epoch 32/100\n",
      "60/60 [==============================] - 0s 4ms/step - loss: 1.0154e-04 - accuracy: 1.0000 - val_loss: 0.4989 - val_accuracy: 0.8917\n",
      "Epoch 33/100\n",
      "60/60 [==============================] - 0s 6ms/step - loss: 8.8517e-05 - accuracy: 1.0000 - val_loss: 0.5063 - val_accuracy: 0.8875\n",
      "Epoch 34/100\n",
      "60/60 [==============================] - 0s 3ms/step - loss: 8.0048e-05 - accuracy: 1.0000 - val_loss: 0.5050 - val_accuracy: 0.8917\n",
      "Epoch 35/100\n",
      "60/60 [==============================] - 0s 4ms/step - loss: 7.0347e-05 - accuracy: 1.0000 - val_loss: 0.5115 - val_accuracy: 0.8917\n",
      "Epoch 36/100\n",
      "60/60 [==============================] - 0s 4ms/step - loss: 7.2082e-05 - accuracy: 1.0000 - val_loss: 0.5199 - val_accuracy: 0.8917\n",
      "Epoch 37/100\n",
      "60/60 [==============================] - 0s 3ms/step - loss: 5.6603e-05 - accuracy: 1.0000 - val_loss: 0.5194 - val_accuracy: 0.8917\n",
      "Epoch 38/100\n",
      "60/60 [==============================] - 0s 4ms/step - loss: 6.0259e-05 - accuracy: 1.0000 - val_loss: 0.5225 - val_accuracy: 0.8875\n",
      "Epoch 39/100\n",
      "60/60 [==============================] - 0s 3ms/step - loss: 6.2983e-05 - accuracy: 1.0000 - val_loss: 0.5271 - val_accuracy: 0.8833\n",
      "Epoch 40/100\n",
      "60/60 [==============================] - 0s 2ms/step - loss: 5.0241e-05 - accuracy: 1.0000 - val_loss: 0.5248 - val_accuracy: 0.8875\n",
      "Epoch 41/100\n",
      "60/60 [==============================] - 0s 3ms/step - loss: 4.3070e-05 - accuracy: 1.0000 - val_loss: 0.5337 - val_accuracy: 0.8875\n",
      "Epoch 42/100\n",
      "60/60 [==============================] - 0s 2ms/step - loss: 4.7619e-05 - accuracy: 1.0000 - val_loss: 0.5378 - val_accuracy: 0.8917\n",
      "Epoch 43/100\n",
      "60/60 [==============================] - 0s 3ms/step - loss: 4.0524e-05 - accuracy: 1.0000 - val_loss: 0.5384 - val_accuracy: 0.8833\n",
      "Epoch 44/100\n",
      "60/60 [==============================] - 0s 3ms/step - loss: 3.8428e-05 - accuracy: 1.0000 - val_loss: 0.5546 - val_accuracy: 0.8958\n",
      "Epoch 45/100\n",
      "60/60 [==============================] - 0s 3ms/step - loss: 3.7996e-05 - accuracy: 1.0000 - val_loss: 0.5591 - val_accuracy: 0.8917\n",
      "Epoch 46/100\n",
      "60/60 [==============================] - 0s 3ms/step - loss: 3.3646e-05 - accuracy: 1.0000 - val_loss: 0.5382 - val_accuracy: 0.8833\n",
      "Epoch 47/100\n",
      "60/60 [==============================] - 0s 2ms/step - loss: 3.1046e-05 - accuracy: 1.0000 - val_loss: 0.5586 - val_accuracy: 0.8875\n",
      "Epoch 48/100\n",
      "60/60 [==============================] - 0s 2ms/step - loss: 2.5450e-05 - accuracy: 1.0000 - val_loss: 0.5477 - val_accuracy: 0.8875\n",
      "Epoch 49/100\n",
      "60/60 [==============================] - 0s 3ms/step - loss: 2.2697e-05 - accuracy: 1.0000 - val_loss: 0.5619 - val_accuracy: 0.8875\n",
      "Epoch 50/100\n",
      "60/60 [==============================] - 0s 3ms/step - loss: 2.5628e-05 - accuracy: 1.0000 - val_loss: 0.5696 - val_accuracy: 0.8917\n",
      "Epoch 51/100\n",
      "60/60 [==============================] - 0s 2ms/step - loss: 2.3421e-05 - accuracy: 1.0000 - val_loss: 0.5579 - val_accuracy: 0.8875\n",
      "Epoch 52/100\n",
      "60/60 [==============================] - 0s 3ms/step - loss: 2.1308e-05 - accuracy: 1.0000 - val_loss: 0.5693 - val_accuracy: 0.8917\n",
      "Epoch 53/100\n",
      "60/60 [==============================] - 0s 2ms/step - loss: 2.3708e-05 - accuracy: 1.0000 - val_loss: 0.5737 - val_accuracy: 0.8917\n",
      "Epoch 54/100\n",
      "60/60 [==============================] - 0s 2ms/step - loss: 1.7705e-05 - accuracy: 1.0000 - val_loss: 0.5745 - val_accuracy: 0.8917\n",
      "Epoch 55/100\n",
      "60/60 [==============================] - 0s 3ms/step - loss: 1.8664e-05 - accuracy: 1.0000 - val_loss: 0.5819 - val_accuracy: 0.8917\n",
      "Epoch 56/100\n",
      "60/60 [==============================] - 0s 3ms/step - loss: 1.6569e-05 - accuracy: 1.0000 - val_loss: 0.5798 - val_accuracy: 0.8917\n",
      "Epoch 57/100\n",
      "60/60 [==============================] - 0s 2ms/step - loss: 1.6859e-05 - accuracy: 1.0000 - val_loss: 0.5890 - val_accuracy: 0.8917\n",
      "Epoch 58/100\n",
      "60/60 [==============================] - 0s 2ms/step - loss: 1.5234e-05 - accuracy: 1.0000 - val_loss: 0.5873 - val_accuracy: 0.8917\n",
      "Epoch 59/100\n",
      "60/60 [==============================] - 0s 3ms/step - loss: 1.4126e-05 - accuracy: 1.0000 - val_loss: 0.5835 - val_accuracy: 0.8917\n",
      "Epoch 60/100\n",
      "60/60 [==============================] - 0s 2ms/step - loss: 1.2426e-05 - accuracy: 1.0000 - val_loss: 0.5838 - val_accuracy: 0.8917\n",
      "Epoch 61/100\n",
      "60/60 [==============================] - 0s 3ms/step - loss: 1.2911e-05 - accuracy: 1.0000 - val_loss: 0.5946 - val_accuracy: 0.8917\n",
      "Epoch 62/100\n",
      "60/60 [==============================] - 0s 2ms/step - loss: 1.2864e-05 - accuracy: 1.0000 - val_loss: 0.5931 - val_accuracy: 0.8917\n",
      "Epoch 63/100\n",
      "60/60 [==============================] - 0s 2ms/step - loss: 1.1654e-05 - accuracy: 1.0000 - val_loss: 0.5958 - val_accuracy: 0.8917\n",
      "Epoch 64/100\n",
      "60/60 [==============================] - 0s 2ms/step - loss: 1.1621e-05 - accuracy: 1.0000 - val_loss: 0.5999 - val_accuracy: 0.8917\n",
      "Epoch 65/100\n",
      "60/60 [==============================] - 0s 3ms/step - loss: 1.0896e-05 - accuracy: 1.0000 - val_loss: 0.5997 - val_accuracy: 0.8917\n",
      "Epoch 66/100\n",
      "60/60 [==============================] - 0s 3ms/step - loss: 1.0042e-05 - accuracy: 1.0000 - val_loss: 0.6085 - val_accuracy: 0.8917\n",
      "Epoch 67/100\n",
      "60/60 [==============================] - 0s 3ms/step - loss: 9.0789e-06 - accuracy: 1.0000 - val_loss: 0.6045 - val_accuracy: 0.8917\n",
      "Epoch 68/100\n",
      "60/60 [==============================] - 0s 2ms/step - loss: 8.1174e-06 - accuracy: 1.0000 - val_loss: 0.6069 - val_accuracy: 0.8917\n",
      "Epoch 69/100\n",
      "60/60 [==============================] - 0s 3ms/step - loss: 8.8943e-06 - accuracy: 1.0000 - val_loss: 0.6121 - val_accuracy: 0.8917\n",
      "Epoch 70/100\n",
      "60/60 [==============================] - 0s 3ms/step - loss: 7.9375e-06 - accuracy: 1.0000 - val_loss: 0.6086 - val_accuracy: 0.8917\n",
      "Epoch 71/100\n",
      "60/60 [==============================] - 0s 2ms/step - loss: 8.2867e-06 - accuracy: 1.0000 - val_loss: 0.6087 - val_accuracy: 0.8917\n",
      "Epoch 72/100\n",
      "60/60 [==============================] - 0s 3ms/step - loss: 6.5803e-06 - accuracy: 1.0000 - val_loss: 0.6110 - val_accuracy: 0.8917\n",
      "Epoch 73/100\n",
      "60/60 [==============================] - 0s 3ms/step - loss: 7.0347e-06 - accuracy: 1.0000 - val_loss: 0.6243 - val_accuracy: 0.8917\n",
      "Epoch 74/100\n",
      "60/60 [==============================] - 0s 2ms/step - loss: 6.2959e-06 - accuracy: 1.0000 - val_loss: 0.6195 - val_accuracy: 0.8917\n",
      "Epoch 75/100\n",
      "60/60 [==============================] - 0s 3ms/step - loss: 5.9123e-06 - accuracy: 1.0000 - val_loss: 0.6170 - val_accuracy: 0.8917\n",
      "Epoch 76/100\n",
      "60/60 [==============================] - 0s 2ms/step - loss: 6.0610e-06 - accuracy: 1.0000 - val_loss: 0.6221 - val_accuracy: 0.8917\n",
      "Epoch 77/100\n",
      "60/60 [==============================] - 0s 4ms/step - loss: 5.5218e-06 - accuracy: 1.0000 - val_loss: 0.6307 - val_accuracy: 0.8917\n",
      "Epoch 78/100\n",
      "60/60 [==============================] - 0s 2ms/step - loss: 5.5227e-06 - accuracy: 1.0000 - val_loss: 0.6304 - val_accuracy: 0.8917\n",
      "Epoch 79/100\n",
      "60/60 [==============================] - 0s 3ms/step - loss: 5.2534e-06 - accuracy: 1.0000 - val_loss: 0.6311 - val_accuracy: 0.8917\n",
      "Epoch 80/100\n",
      "60/60 [==============================] - 0s 2ms/step - loss: 4.7384e-06 - accuracy: 1.0000 - val_loss: 0.6341 - val_accuracy: 0.8917\n",
      "Epoch 81/100\n",
      "60/60 [==============================] - 0s 4ms/step - loss: 4.4922e-06 - accuracy: 1.0000 - val_loss: 0.6300 - val_accuracy: 0.8958\n",
      "Epoch 82/100\n",
      "60/60 [==============================] - 0s 4ms/step - loss: 4.2175e-06 - accuracy: 1.0000 - val_loss: 0.6392 - val_accuracy: 0.8917\n",
      "Epoch 83/100\n",
      "60/60 [==============================] - 0s 3ms/step - loss: 4.3135e-06 - accuracy: 1.0000 - val_loss: 0.6336 - val_accuracy: 0.8917\n",
      "Epoch 84/100\n",
      "60/60 [==============================] - 0s 3ms/step - loss: 4.8147e-06 - accuracy: 1.0000 - val_loss: 0.6412 - val_accuracy: 0.8917\n",
      "Epoch 85/100\n",
      "60/60 [==============================] - 0s 3ms/step - loss: 4.1687e-06 - accuracy: 1.0000 - val_loss: 0.6409 - val_accuracy: 0.8917\n",
      "Epoch 86/100\n",
      "60/60 [==============================] - 0s 3ms/step - loss: 4.1415e-06 - accuracy: 1.0000 - val_loss: 0.6469 - val_accuracy: 0.8917\n",
      "Epoch 87/100\n",
      "60/60 [==============================] - 0s 3ms/step - loss: 3.8713e-06 - accuracy: 1.0000 - val_loss: 0.6512 - val_accuracy: 0.8917\n",
      "Epoch 88/100\n",
      "60/60 [==============================] - 0s 3ms/step - loss: 3.8132e-06 - accuracy: 1.0000 - val_loss: 0.6486 - val_accuracy: 0.8917\n",
      "Epoch 89/100\n",
      "60/60 [==============================] - 0s 3ms/step - loss: 3.9050e-06 - accuracy: 1.0000 - val_loss: 0.6467 - val_accuracy: 0.8917\n",
      "Epoch 90/100\n",
      "60/60 [==============================] - 0s 3ms/step - loss: 3.3531e-06 - accuracy: 1.0000 - val_loss: 0.6568 - val_accuracy: 0.8917\n",
      "Epoch 91/100\n",
      "60/60 [==============================] - 0s 4ms/step - loss: 2.9123e-06 - accuracy: 1.0000 - val_loss: 0.6565 - val_accuracy: 0.8917\n",
      "Epoch 92/100\n",
      "60/60 [==============================] - 0s 3ms/step - loss: 3.0133e-06 - accuracy: 1.0000 - val_loss: 0.6540 - val_accuracy: 0.8958\n",
      "Epoch 93/100\n",
      "60/60 [==============================] - 0s 2ms/step - loss: 2.8217e-06 - accuracy: 1.0000 - val_loss: 0.6585 - val_accuracy: 0.8958\n",
      "Epoch 94/100\n",
      "60/60 [==============================] - 0s 3ms/step - loss: 2.9514e-06 - accuracy: 1.0000 - val_loss: 0.6561 - val_accuracy: 0.8958\n",
      "Epoch 95/100\n",
      "60/60 [==============================] - 0s 3ms/step - loss: 2.5203e-06 - accuracy: 1.0000 - val_loss: 0.6640 - val_accuracy: 0.8917\n",
      "Epoch 96/100\n",
      "60/60 [==============================] - 0s 3ms/step - loss: 2.5972e-06 - accuracy: 1.0000 - val_loss: 0.6626 - val_accuracy: 0.8958\n",
      "Epoch 97/100\n",
      "60/60 [==============================] - 0s 3ms/step - loss: 2.4729e-06 - accuracy: 1.0000 - val_loss: 0.6673 - val_accuracy: 0.8958\n",
      "Epoch 98/100\n",
      "60/60 [==============================] - 0s 3ms/step - loss: 2.2739e-06 - accuracy: 1.0000 - val_loss: 0.6624 - val_accuracy: 0.8958\n",
      "Epoch 99/100\n",
      "60/60 [==============================] - 0s 3ms/step - loss: 2.3011e-06 - accuracy: 1.0000 - val_loss: 0.6668 - val_accuracy: 0.8958\n",
      "Epoch 100/100\n",
      "60/60 [==============================] - 0s 3ms/step - loss: 1.9720e-06 - accuracy: 1.0000 - val_loss: 0.6711 - val_accuracy: 0.8958\n"
     ]
    }
   ],
   "source": [
    "model.compile(optimizer='adam',\n",
    "              loss='sparse_categorical_crossentropy',\n",
    "              metrics=['accuracy'])\n",
    "history_2 = model.fit(\n",
    "    x,\n",
    "    y,\n",
    "    batch_size=16,\n",
    "    epochs=100,\n",
    "    validation_split=0.2,\n",
    "    shuffle=True\n",
    ")\n"
   ]
  },
  {
   "cell_type": "code",
   "execution_count": 27,
   "metadata": {},
   "outputs": [
    {
     "data": {
      "image/png": "[encoded data removed]",
      "text/plain": [
       "<Figure size 1152x432 with 2 Axes>"
      ]
     },
     "metadata": {
      "needs_background": "light"
     },
     "output_type": "display_data"
    }
   ],
   "source": [
    "show_loss_accuracy_evolution(history_2)"
   ]
  },
  {
   "cell_type": "code",
   "execution_count": 28,
   "metadata": {},
   "outputs": [
    {
     "name": "stdout",
     "output_type": "stream",
     "text": [
      "Test Loss: 0.6695473194122314\n",
      "Test Accuracy: 0.910099983215332\n"
     ]
    }
   ],
   "source": [
    "results = model.evaluate(x_test, y_test, verbose=0)\n",
    "print('Test Loss: {}'.format(results[0]))\n",
    "print('Test Accuracy: {}'.format(results[1]))"
   ]
  },
  {
   "cell_type": "markdown",
   "metadata": {},
   "source": [
    "### Question 1:\n",
    "#### What differences do you see if you change the batch_size to a lower or higher value? For example to 1 and to 512"
   ]
  },
  {
   "cell_type": "code",
   "execution_count": null,
   "metadata": {},
   "outputs": [],
   "source": []
  },
  {
   "cell_type": "markdown",
   "metadata": {},
   "source": [
    "<a id='dropout'></a>\n",
    "## Dropout\n",
    "\n",
    "Dropout, applied to a layer, consists of randomly \"dropping out\" (set to zero) a number of output features of the layer during training with a probability **p** (`dropout rate`).\n",
    "\n",
    "In `keras` you can introduce dropout in a network via the [Dropout layer](https://www.tensorflow.org/api_docs/python/tf/keras/layers/Dropout), which gets applied to the output of layer right before.\n",
    "\n",
    "```python\n",
    "tf.keras.layers.Dropout(\n",
    "    rate, noise_shape=None, seed=None, **kwargs\n",
    ")\n",
    "```\n",
    "\n",
    "With Functional API:\n",
    "```python\n",
    "next_layer = layers.Dropout(0.4)(prev_layer)\n",
    "```\n",
    "With Sequential:\n",
    "```python\n",
    "model.add(layers.Dropout(0.4))\n",
    "```"
   ]
  },
  {
   "cell_type": "code",
   "execution_count": 29,
   "metadata": {},
   "outputs": [],
   "source": [
    "# Input\n",
    "inputs = tf.keras.Input(shape=(28, 28), name='input_layer')\n",
    "# Convert the 2D image to a vector\n",
    "flat = layers.Flatten()(inputs)\n",
    "\n",
    "flat = layers.Dropout(0.5, name='dropout_flat')(flat)\n",
    "# hidden layer 1\n",
    "l_1 = layers.Dense(256, activation='relu', name='layer_1')(flat)\n",
    "l_1 = layers.Dropout(0.5, name='dropout_l1')(l_1)\n",
    "# hidden layer 2\n",
    "l_2 = layers.Dense(128, activation='relu', name='layer_2')(l_1)\n",
    "l_2 = layers.Dropout(0.5, name='dropout_l2')(l_2)\n",
    "# hidden layer 3\n",
    "l_3 = layers.Dense(128, activation='relu', name='layer_3')(l_2)\n",
    "l_3 = layers.Dropout(0.5, name='dropout_l3')(l_3)\n",
    "\n",
    "# Outputs\n",
    "outputs = layers.Dense(num_classes, activation='softmax',\n",
    "                       name='output_layer')(l_3)\n",
    "\n",
    "\n",
    "model_dropout = keras.Model(\n",
    "    inputs=inputs, outputs=outputs, name='dont_overfit_model_dropout')"
   ]
  },
  {
   "cell_type": "code",
   "execution_count": 30,
   "metadata": {},
   "outputs": [
    {
     "name": "stdout",
     "output_type": "stream",
     "text": [
      "Model: \"dont_overfit_model_dropout\"\n",
      "_________________________________________________________________\n",
      "Layer (type)                 Output Shape              Param #   \n",
      "=================================================================\n",
      "input_layer (InputLayer)     [(None, 28, 28)]          0         \n",
      "_________________________________________________________________\n",
      "flatten_4 (Flatten)          (None, 784)               0         \n",
      "_________________________________________________________________\n",
      "dropout_flat (Dropout)       (None, 784)               0         \n",
      "_________________________________________________________________\n",
      "layer_1 (Dense)              (None, 256)               200960    \n",
      "_________________________________________________________________\n",
      "dropout_l1 (Dropout)         (None, 256)               0         \n",
      "_________________________________________________________________\n",
      "layer_2 (Dense)              (None, 128)               32896     \n",
      "_________________________________________________________________\n",
      "dropout_l2 (Dropout)         (None, 128)               0         \n",
      "_________________________________________________________________\n",
      "layer_3 (Dense)              (None, 128)               16512     \n",
      "_________________________________________________________________\n",
      "dropout_l3 (Dropout)         (None, 128)               0         \n",
      "_________________________________________________________________\n",
      "output_layer (Dense)         (None, 10)                1290      \n",
      "=================================================================\n",
      "Total params: 251,658\n",
      "Trainable params: 251,658\n",
      "Non-trainable params: 0\n",
      "_________________________________________________________________\n"
     ]
    }
   ],
   "source": [
    "model_dropout.summary()"
   ]
  },
  {
   "cell_type": "code",
   "execution_count": 31,
   "metadata": {},
   "outputs": [],
   "source": [
    "model_dropout.compile(optimizer='adam',\n",
    "                      loss='sparse_categorical_crossentropy',\n",
    "                      metrics=['accuracy'])"
   ]
  },
  {
   "cell_type": "code",
   "execution_count": 32,
   "metadata": {},
   "outputs": [
    {
     "name": "stdout",
     "output_type": "stream",
     "text": [
      "Epoch 1/100\n",
      "15/15 [==============================] - 1s 14ms/step - loss: 2.5971 - accuracy: 0.0950 - val_loss: 2.2152 - val_accuracy: 0.3792\n",
      "Epoch 2/100\n",
      "15/15 [==============================] - 0s 7ms/step - loss: 2.3200 - accuracy: 0.1344 - val_loss: 2.1665 - val_accuracy: 0.5208\n",
      "Epoch 3/100\n",
      "15/15 [==============================] - 0s 5ms/step - loss: 2.1985 - accuracy: 0.1779 - val_loss: 2.0753 - val_accuracy: 0.6208\n",
      "Epoch 4/100\n",
      "15/15 [==============================] - 0s 7ms/step - loss: 2.1273 - accuracy: 0.2323 - val_loss: 1.8989 - val_accuracy: 0.6833\n",
      "Epoch 5/100\n",
      "15/15 [==============================] - 0s 7ms/step - loss: 2.0130 - accuracy: 0.3021 - val_loss: 1.6415 - val_accuracy: 0.7417\n",
      "Epoch 6/100\n",
      "15/15 [==============================] - 0s 7ms/step - loss: 1.8681 - accuracy: 0.3463 - val_loss: 1.3343 - val_accuracy: 0.7625\n",
      "Epoch 7/100\n",
      "15/15 [==============================] - 0s 5ms/step - loss: 1.6951 - accuracy: 0.3890 - val_loss: 1.0862 - val_accuracy: 0.7708\n",
      "Epoch 8/100\n",
      "15/15 [==============================] - 0s 6ms/step - loss: 1.4716 - accuracy: 0.4758 - val_loss: 0.9056 - val_accuracy: 0.7958\n",
      "Epoch 9/100\n",
      "15/15 [==============================] - 0s 5ms/step - loss: 1.3056 - accuracy: 0.5274 - val_loss: 0.8008 - val_accuracy: 0.7833\n",
      "Epoch 10/100\n",
      "15/15 [==============================] - 0s 11ms/step - loss: 1.2940 - accuracy: 0.5537 - val_loss: 0.7331 - val_accuracy: 0.8125\n",
      "Epoch 11/100\n",
      "15/15 [==============================] - 0s 7ms/step - loss: 1.1314 - accuracy: 0.5966 - val_loss: 0.6865 - val_accuracy: 0.8250\n",
      "Epoch 12/100\n",
      "15/15 [==============================] - 0s 7ms/step - loss: 1.1284 - accuracy: 0.6256 - val_loss: 0.6268 - val_accuracy: 0.8208\n",
      "Epoch 13/100\n",
      "15/15 [==============================] - 0s 5ms/step - loss: 1.1480 - accuracy: 0.5837 - val_loss: 0.6207 - val_accuracy: 0.8250\n",
      "Epoch 14/100\n",
      "15/15 [==============================] - 0s 8ms/step - loss: 0.9371 - accuracy: 0.6770 - val_loss: 0.5628 - val_accuracy: 0.8292\n",
      "Epoch 15/100\n",
      "15/15 [==============================] - 0s 5ms/step - loss: 0.9315 - accuracy: 0.6832 - val_loss: 0.5685 - val_accuracy: 0.8250\n",
      "Epoch 16/100\n",
      "15/15 [==============================] - 0s 5ms/step - loss: 0.9263 - accuracy: 0.7055 - val_loss: 0.5167 - val_accuracy: 0.8542\n",
      "Epoch 17/100\n",
      "15/15 [==============================] - 0s 6ms/step - loss: 0.8342 - accuracy: 0.7233 - val_loss: 0.4787 - val_accuracy: 0.8625\n",
      "Epoch 18/100\n",
      "15/15 [==============================] - 0s 6ms/step - loss: 0.8361 - accuracy: 0.7099 - val_loss: 0.4533 - val_accuracy: 0.8625\n",
      "Epoch 19/100\n",
      "15/15 [==============================] - 0s 7ms/step - loss: 0.7759 - accuracy: 0.7400 - val_loss: 0.4475 - val_accuracy: 0.8625\n",
      "Epoch 20/100\n",
      "15/15 [==============================] - 0s 6ms/step - loss: 0.7559 - accuracy: 0.7438 - val_loss: 0.4556 - val_accuracy: 0.8500\n",
      "Epoch 21/100\n",
      "15/15 [==============================] - 0s 6ms/step - loss: 0.7387 - accuracy: 0.7490 - val_loss: 0.4215 - val_accuracy: 0.8583\n",
      "Epoch 22/100\n",
      "15/15 [==============================] - 0s 5ms/step - loss: 0.7646 - accuracy: 0.7523 - val_loss: 0.4057 - val_accuracy: 0.8750\n",
      "Epoch 23/100\n",
      "15/15 [==============================] - 0s 5ms/step - loss: 0.7064 - accuracy: 0.7617 - val_loss: 0.4017 - val_accuracy: 0.8750\n",
      "Epoch 24/100\n",
      "15/15 [==============================] - 0s 7ms/step - loss: 0.6511 - accuracy: 0.7854 - val_loss: 0.3917 - val_accuracy: 0.8875\n",
      "Epoch 25/100\n",
      "15/15 [==============================] - 0s 6ms/step - loss: 0.6134 - accuracy: 0.8041 - val_loss: 0.3680 - val_accuracy: 0.8917\n",
      "Epoch 26/100\n",
      "15/15 [==============================] - 0s 5ms/step - loss: 0.6467 - accuracy: 0.7689 - val_loss: 0.3775 - val_accuracy: 0.8917\n",
      "Epoch 27/100\n",
      "15/15 [==============================] - 0s 8ms/step - loss: 0.6413 - accuracy: 0.7842 - val_loss: 0.3581 - val_accuracy: 0.9000\n",
      "Epoch 28/100\n",
      "15/15 [==============================] - 0s 7ms/step - loss: 0.6073 - accuracy: 0.7878 - val_loss: 0.3667 - val_accuracy: 0.8833\n",
      "Epoch 29/100\n",
      "15/15 [==============================] - 0s 7ms/step - loss: 0.5175 - accuracy: 0.8312 - val_loss: 0.3635 - val_accuracy: 0.9000\n",
      "Epoch 30/100\n",
      "15/15 [==============================] - 0s 7ms/step - loss: 0.5987 - accuracy: 0.8158 - val_loss: 0.3772 - val_accuracy: 0.8917\n",
      "Epoch 31/100\n",
      "15/15 [==============================] - 0s 7ms/step - loss: 0.5729 - accuracy: 0.8214 - val_loss: 0.3410 - val_accuracy: 0.8958\n",
      "Epoch 32/100\n",
      "15/15 [==============================] - 0s 6ms/step - loss: 0.4558 - accuracy: 0.8406 - val_loss: 0.3289 - val_accuracy: 0.9083\n",
      "Epoch 33/100\n",
      "15/15 [==============================] - 0s 6ms/step - loss: 0.4770 - accuracy: 0.8623 - val_loss: 0.3501 - val_accuracy: 0.9000\n",
      "Epoch 34/100\n",
      "15/15 [==============================] - 0s 6ms/step - loss: 0.4729 - accuracy: 0.8445 - val_loss: 0.3347 - val_accuracy: 0.8917\n",
      "Epoch 35/100\n",
      "15/15 [==============================] - 0s 5ms/step - loss: 0.5082 - accuracy: 0.8463 - val_loss: 0.3397 - val_accuracy: 0.8917\n",
      "Epoch 36/100\n",
      "15/15 [==============================] - 0s 8ms/step - loss: 0.4975 - accuracy: 0.8429 - val_loss: 0.3547 - val_accuracy: 0.8958\n",
      "Epoch 37/100\n",
      "15/15 [==============================] - 0s 6ms/step - loss: 0.4585 - accuracy: 0.8453 - val_loss: 0.3357 - val_accuracy: 0.9083\n",
      "Epoch 38/100\n",
      "15/15 [==============================] - 0s 5ms/step - loss: 0.4264 - accuracy: 0.8529 - val_loss: 0.3390 - val_accuracy: 0.9083\n",
      "Epoch 39/100\n",
      "15/15 [==============================] - 0s 6ms/step - loss: 0.4289 - accuracy: 0.8608 - val_loss: 0.3437 - val_accuracy: 0.9042\n",
      "Epoch 40/100\n",
      "15/15 [==============================] - 0s 5ms/step - loss: 0.4223 - accuracy: 0.8572 - val_loss: 0.3329 - val_accuracy: 0.9125\n",
      "Epoch 41/100\n",
      "15/15 [==============================] - 0s 5ms/step - loss: 0.4205 - accuracy: 0.8718 - val_loss: 0.3154 - val_accuracy: 0.9208\n",
      "Epoch 42/100\n",
      "15/15 [==============================] - 0s 6ms/step - loss: 0.4026 - accuracy: 0.8695 - val_loss: 0.3198 - val_accuracy: 0.9125\n",
      "Epoch 43/100\n",
      "15/15 [==============================] - 0s 5ms/step - loss: 0.4503 - accuracy: 0.8384 - val_loss: 0.3214 - val_accuracy: 0.9125\n",
      "Epoch 44/100\n",
      "15/15 [==============================] - 0s 5ms/step - loss: 0.3891 - accuracy: 0.8839 - val_loss: 0.3193 - val_accuracy: 0.9208\n",
      "Epoch 45/100\n",
      "15/15 [==============================] - 0s 6ms/step - loss: 0.3882 - accuracy: 0.8902 - val_loss: 0.3204 - val_accuracy: 0.9125\n",
      "Epoch 46/100\n",
      "15/15 [==============================] - 0s 6ms/step - loss: 0.3233 - accuracy: 0.8971 - val_loss: 0.3254 - val_accuracy: 0.9000\n",
      "Epoch 47/100\n",
      "15/15 [==============================] - 0s 5ms/step - loss: 0.3819 - accuracy: 0.8725 - val_loss: 0.3297 - val_accuracy: 0.9042\n",
      "Epoch 48/100\n",
      "15/15 [==============================] - 0s 6ms/step - loss: 0.4002 - accuracy: 0.8582 - val_loss: 0.3212 - val_accuracy: 0.9208\n",
      "Epoch 49/100\n",
      "15/15 [==============================] - 0s 6ms/step - loss: 0.3941 - accuracy: 0.8619 - val_loss: 0.3332 - val_accuracy: 0.9042\n",
      "Epoch 50/100\n",
      "15/15 [==============================] - 0s 5ms/step - loss: 0.3670 - accuracy: 0.8846 - val_loss: 0.3319 - val_accuracy: 0.9125\n",
      "Epoch 51/100\n",
      "15/15 [==============================] - 0s 6ms/step - loss: 0.3558 - accuracy: 0.8901 - val_loss: 0.3203 - val_accuracy: 0.9125\n",
      "Epoch 52/100\n",
      "15/15 [==============================] - 0s 6ms/step - loss: 0.3511 - accuracy: 0.8762 - val_loss: 0.3179 - val_accuracy: 0.9167\n",
      "Epoch 53/100\n",
      "15/15 [==============================] - 0s 6ms/step - loss: 0.3493 - accuracy: 0.9008 - val_loss: 0.3179 - val_accuracy: 0.9125\n",
      "Epoch 54/100\n",
      "15/15 [==============================] - 0s 11ms/step - loss: 0.3315 - accuracy: 0.9056 - val_loss: 0.3119 - val_accuracy: 0.9208\n",
      "Epoch 55/100\n",
      "15/15 [==============================] - 0s 6ms/step - loss: 0.3499 - accuracy: 0.8825 - val_loss: 0.3241 - val_accuracy: 0.9083\n",
      "Epoch 56/100\n",
      "15/15 [==============================] - 0s 5ms/step - loss: 0.3156 - accuracy: 0.8952 - val_loss: 0.3161 - val_accuracy: 0.9083\n",
      "Epoch 57/100\n",
      "15/15 [==============================] - 0s 6ms/step - loss: 0.2571 - accuracy: 0.9283 - val_loss: 0.3244 - val_accuracy: 0.9125\n",
      "Epoch 58/100\n",
      "15/15 [==============================] - 0s 5ms/step - loss: 0.2882 - accuracy: 0.9179 - val_loss: 0.3133 - val_accuracy: 0.9083\n",
      "Epoch 59/100\n",
      "15/15 [==============================] - 0s 6ms/step - loss: 0.3548 - accuracy: 0.8750 - val_loss: 0.2972 - val_accuracy: 0.9167\n",
      "Epoch 60/100\n",
      "15/15 [==============================] - 0s 5ms/step - loss: 0.3665 - accuracy: 0.9047 - val_loss: 0.2926 - val_accuracy: 0.9167\n",
      "Epoch 61/100\n",
      "15/15 [==============================] - 0s 6ms/step - loss: 0.3447 - accuracy: 0.8862 - val_loss: 0.3265 - val_accuracy: 0.8958\n",
      "Epoch 62/100\n",
      "15/15 [==============================] - 0s 7ms/step - loss: 0.3441 - accuracy: 0.8913 - val_loss: 0.3031 - val_accuracy: 0.9167\n",
      "Epoch 63/100\n",
      "15/15 [==============================] - 0s 5ms/step - loss: 0.3140 - accuracy: 0.9027 - val_loss: 0.2855 - val_accuracy: 0.9208\n",
      "Epoch 64/100\n",
      "15/15 [==============================] - 0s 5ms/step - loss: 0.2874 - accuracy: 0.9129 - val_loss: 0.2985 - val_accuracy: 0.9083\n",
      "Epoch 65/100\n",
      "15/15 [==============================] - 0s 6ms/step - loss: 0.3584 - accuracy: 0.8875 - val_loss: 0.2859 - val_accuracy: 0.9292\n",
      "Epoch 66/100\n",
      "15/15 [==============================] - 0s 6ms/step - loss: 0.2737 - accuracy: 0.9261 - val_loss: 0.2947 - val_accuracy: 0.9167\n",
      "Epoch 67/100\n",
      "15/15 [==============================] - 0s 5ms/step - loss: 0.2831 - accuracy: 0.9108 - val_loss: 0.2729 - val_accuracy: 0.9208\n",
      "Epoch 68/100\n",
      "15/15 [==============================] - 0s 5ms/step - loss: 0.2510 - accuracy: 0.9114 - val_loss: 0.2903 - val_accuracy: 0.9250\n",
      "Epoch 69/100\n",
      "15/15 [==============================] - 0s 5ms/step - loss: 0.2775 - accuracy: 0.9105 - val_loss: 0.3003 - val_accuracy: 0.9250\n",
      "Epoch 70/100\n",
      "15/15 [==============================] - 0s 6ms/step - loss: 0.2256 - accuracy: 0.9222 - val_loss: 0.2737 - val_accuracy: 0.9292\n",
      "Epoch 71/100\n",
      "15/15 [==============================] - 0s 6ms/step - loss: 0.2511 - accuracy: 0.9240 - val_loss: 0.3005 - val_accuracy: 0.9292\n",
      "Epoch 72/100\n",
      "15/15 [==============================] - 0s 6ms/step - loss: 0.2961 - accuracy: 0.8985 - val_loss: 0.2768 - val_accuracy: 0.9250\n",
      "Epoch 73/100\n",
      "15/15 [==============================] - 0s 10ms/step - loss: 0.2465 - accuracy: 0.9352 - val_loss: 0.2655 - val_accuracy: 0.9417\n",
      "Epoch 74/100\n",
      "15/15 [==============================] - 0s 9ms/step - loss: 0.2809 - accuracy: 0.9091 - val_loss: 0.2974 - val_accuracy: 0.9208\n",
      "Epoch 75/100\n",
      "15/15 [==============================] - 0s 6ms/step - loss: 0.2735 - accuracy: 0.9222 - val_loss: 0.2918 - val_accuracy: 0.9250\n",
      "Epoch 76/100\n",
      "15/15 [==============================] - 0s 6ms/step - loss: 0.2648 - accuracy: 0.9314 - val_loss: 0.2835 - val_accuracy: 0.9292\n",
      "Epoch 77/100\n",
      "15/15 [==============================] - 0s 5ms/step - loss: 0.2461 - accuracy: 0.9134 - val_loss: 0.2856 - val_accuracy: 0.9292\n",
      "Epoch 78/100\n",
      "15/15 [==============================] - 0s 5ms/step - loss: 0.2484 - accuracy: 0.9243 - val_loss: 0.2900 - val_accuracy: 0.9292\n",
      "Epoch 79/100\n",
      "15/15 [==============================] - 0s 6ms/step - loss: 0.2245 - accuracy: 0.9283 - val_loss: 0.2948 - val_accuracy: 0.9167\n",
      "Epoch 80/100\n",
      "15/15 [==============================] - 0s 5ms/step - loss: 0.3031 - accuracy: 0.9096 - val_loss: 0.2761 - val_accuracy: 0.9375\n",
      "Epoch 81/100\n",
      "15/15 [==============================] - 0s 5ms/step - loss: 0.2391 - accuracy: 0.9334 - val_loss: 0.2859 - val_accuracy: 0.9292\n",
      "Epoch 82/100\n",
      "15/15 [==============================] - 0s 5ms/step - loss: 0.1890 - accuracy: 0.9417 - val_loss: 0.2998 - val_accuracy: 0.9250\n",
      "Epoch 83/100\n",
      "15/15 [==============================] - 0s 5ms/step - loss: 0.2862 - accuracy: 0.9043 - val_loss: 0.2829 - val_accuracy: 0.9250\n",
      "Epoch 84/100\n",
      "15/15 [==============================] - 0s 6ms/step - loss: 0.2621 - accuracy: 0.9248 - val_loss: 0.2690 - val_accuracy: 0.9417\n",
      "Epoch 85/100\n",
      "15/15 [==============================] - 0s 6ms/step - loss: 0.2140 - accuracy: 0.9320 - val_loss: 0.2829 - val_accuracy: 0.9292\n",
      "Epoch 86/100\n",
      "15/15 [==============================] - 0s 6ms/step - loss: 0.2171 - accuracy: 0.9285 - val_loss: 0.2872 - val_accuracy: 0.9167\n",
      "Epoch 87/100\n",
      "15/15 [==============================] - 0s 5ms/step - loss: 0.2397 - accuracy: 0.9398 - val_loss: 0.2935 - val_accuracy: 0.9292\n",
      "Epoch 88/100\n",
      "15/15 [==============================] - 0s 7ms/step - loss: 0.2825 - accuracy: 0.9221 - val_loss: 0.2789 - val_accuracy: 0.9333\n",
      "Epoch 89/100\n",
      "15/15 [==============================] - 0s 6ms/step - loss: 0.2177 - accuracy: 0.9427 - val_loss: 0.2761 - val_accuracy: 0.9292\n",
      "Epoch 90/100\n",
      "15/15 [==============================] - 0s 5ms/step - loss: 0.1822 - accuracy: 0.9376 - val_loss: 0.2891 - val_accuracy: 0.9250\n",
      "Epoch 91/100\n",
      "15/15 [==============================] - 0s 6ms/step - loss: 0.2021 - accuracy: 0.9495 - val_loss: 0.2904 - val_accuracy: 0.9292\n",
      "Epoch 92/100\n",
      "15/15 [==============================] - 0s 5ms/step - loss: 0.2342 - accuracy: 0.9388 - val_loss: 0.2877 - val_accuracy: 0.9292\n",
      "Epoch 93/100\n",
      "15/15 [==============================] - 0s 7ms/step - loss: 0.1901 - accuracy: 0.9385 - val_loss: 0.2853 - val_accuracy: 0.9333\n",
      "Epoch 94/100\n",
      "15/15 [==============================] - 0s 11ms/step - loss: 0.2140 - accuracy: 0.9216 - val_loss: 0.2761 - val_accuracy: 0.9333\n",
      "Epoch 95/100\n",
      "15/15 [==============================] - 0s 8ms/step - loss: 0.1894 - accuracy: 0.9506 - val_loss: 0.2857 - val_accuracy: 0.9333\n",
      "Epoch 96/100\n",
      "15/15 [==============================] - 0s 8ms/step - loss: 0.1928 - accuracy: 0.9478 - val_loss: 0.2929 - val_accuracy: 0.9333\n",
      "Epoch 97/100\n",
      "15/15 [==============================] - ETA: 0s - loss: 0.3093 - accuracy: 0.87 - 0s 6ms/step - loss: 0.2660 - accuracy: 0.9183 - val_loss: 0.3019 - val_accuracy: 0.9417\n",
      "Epoch 98/100\n",
      "15/15 [==============================] - 0s 7ms/step - loss: 0.2557 - accuracy: 0.9166 - val_loss: 0.2913 - val_accuracy: 0.9417\n",
      "Epoch 99/100\n",
      "15/15 [==============================] - 0s 7ms/step - loss: 0.1884 - accuracy: 0.9472 - val_loss: 0.2800 - val_accuracy: 0.9417\n",
      "Epoch 100/100\n",
      "15/15 [==============================] - 0s 10ms/step - loss: 0.1702 - accuracy: 0.9497 - val_loss: 0.2775 - val_accuracy: 0.9458\n"
     ]
    }
   ],
   "source": [
    "history_dropout = model_dropout.fit(\n",
    "    x,\n",
    "    y,\n",
    "    batch_size=64,\n",
    "    epochs=100,\n",
    "    validation_split=0.2,\n",
    "    shuffle=True\n",
    ")"
   ]
  },
  {
   "cell_type": "code",
   "execution_count": 33,
   "metadata": {},
   "outputs": [
    {
     "data": {
      "image/png": "[encoded data removed]",
      "text/plain": [
       "<Figure size 1152x432 with 2 Axes>"
      ]
     },
     "metadata": {
      "needs_background": "light"
     },
     "output_type": "display_data"
    }
   ],
   "source": [
    "show_loss_accuracy_evolution(history_dropout)"
   ]
  },
  {
   "cell_type": "code",
   "execution_count": 34,
   "metadata": {},
   "outputs": [
    {
     "name": "stdout",
     "output_type": "stream",
     "text": [
      "Test Loss: 0.3086722791194916\n",
      "Test Accuracy: 0.9226999878883362\n"
     ]
    }
   ],
   "source": [
    "results = model_dropout.evaluate(x_test, y_test, verbose=0)\n",
    "print('Test Loss: {}'.format(results[0]))\n",
    "print('Test Accuracy: {}'.format(results[1]))"
   ]
  },
  {
   "cell_type": "markdown",
   "metadata": {},
   "source": [
    "### Question 2:\n",
    "#### What happens if you change the dropout to 0.1 or 0.9? And what if you put it only on one layer?\n",
    "#### What happens if we delete the flatten first dropout?"
   ]
  },
  {
   "cell_type": "code",
   "execution_count": null,
   "metadata": {},
   "outputs": [],
   "source": []
  },
  {
   "cell_type": "markdown",
   "metadata": {},
   "source": [
    "## Batch Normalization\n",
    "\n",
    "[Batch normalization](https://www.tensorflow.org/api_docs/python/tf/keras/layers/BatchNormalization) applies a transformation that maintains the mean output close to 0 and the output standard deviation close to 1.\n",
    "\n",
    "\n",
    "With Functional API:\n",
    "```python\n",
    "next_layer = layers.BatchNormalization()(prev_layer)\n",
    "```\n",
    "With Sequential:\n",
    "```python\n",
    "model.add(layers.BatchNormalization())\n",
    "```"
   ]
  },
  {
   "cell_type": "code",
   "execution_count": 35,
   "metadata": {},
   "outputs": [],
   "source": [
    "# Input\n",
    "inputs = tf.keras.Input(shape=(28, 28), name='input_layer')\n",
    "# Convert the 2D image to a vector\n",
    "flat = layers.Flatten()(inputs)\n",
    "\n",
    "# hidden layer 1\n",
    "l_1 = layers.Dense(256, activation='relu', name='layer_1')(flat)\n",
    "l_1 = layers.BatchNormalization()(l_1)\n",
    "# hidden layer 2\n",
    "l_2 = layers.Dense(128, activation='relu', name='layer_2')(l_1)\n",
    "l_2 = layers.BatchNormalization()(l_2)\n",
    "# hidden layer 3\n",
    "l_3 = layers.Dense(128, activation='relu', name='layer_3')(l_2)\n",
    "\n",
    "# Outputs\n",
    "outputs = layers.Dense(num_classes, activation='softmax',\n",
    "                       name='output_layer')(l_3)\n",
    "\n",
    "\n",
    "\n",
    "\n",
    "model_batch_norm = keras.Model(inputs=inputs, outputs=outputs, name='dont_overfit_model_batch_norm')"
   ]
  },
  {
   "cell_type": "code",
   "execution_count": 36,
   "metadata": {
    "scrolled": true
   },
   "outputs": [
    {
     "name": "stdout",
     "output_type": "stream",
     "text": [
      "Model: \"dont_overfit_model_batch_norm\"\n",
      "_________________________________________________________________\n",
      "Layer (type)                 Output Shape              Param #   \n",
      "=================================================================\n",
      "input_layer (InputLayer)     [(None, 28, 28)]          0         \n",
      "_________________________________________________________________\n",
      "flatten_5 (Flatten)          (None, 784)               0         \n",
      "_________________________________________________________________\n",
      "layer_1 (Dense)              (None, 256)               200960    \n",
      "_________________________________________________________________\n",
      "batch_normalization (BatchNo (None, 256)               1024      \n",
      "_________________________________________________________________\n",
      "layer_2 (Dense)              (None, 128)               32896     \n",
      "_________________________________________________________________\n",
      "batch_normalization_1 (Batch (None, 128)               512       \n",
      "_________________________________________________________________\n",
      "layer_3 (Dense)              (None, 128)               16512     \n",
      "_________________________________________________________________\n",
      "output_layer (Dense)         (None, 10)                1290      \n",
      "=================================================================\n",
      "Total params: 253,194\n",
      "Trainable params: 252,426\n",
      "Non-trainable params: 768\n",
      "_________________________________________________________________\n"
     ]
    }
   ],
   "source": [
    "model_batch_norm.summary()"
   ]
  },
  {
   "cell_type": "code",
   "execution_count": 37,
   "metadata": {},
   "outputs": [],
   "source": [
    "model_batch_norm.compile(\n",
    "    optimizer='adam', loss='sparse_categorical_crossentropy', metrics=['accuracy'])"
   ]
  },
  {
   "cell_type": "code",
   "execution_count": 38,
   "metadata": {},
   "outputs": [
    {
     "name": "stdout",
     "output_type": "stream",
     "text": [
      "Epoch 1/100\n",
      "15/15 [==============================] - 1s 25ms/step - loss: 1.8089 - accuracy: 0.4016 - val_loss: 1.6738 - val_accuracy: 0.8000\n",
      "Epoch 2/100\n",
      "15/15 [==============================] - 0s 6ms/step - loss: 0.4423 - accuracy: 0.8979 - val_loss: 1.3511 - val_accuracy: 0.8250\n",
      "Epoch 3/100\n",
      "15/15 [==============================] - 0s 6ms/step - loss: 0.1650 - accuracy: 0.9851 - val_loss: 1.1640 - val_accuracy: 0.8417\n",
      "Epoch 4/100\n",
      "15/15 [==============================] - 0s 10ms/step - loss: 0.0846 - accuracy: 0.9929 - val_loss: 1.0039 - val_accuracy: 0.8583\n",
      "Epoch 5/100\n",
      "15/15 [==============================] - 0s 8ms/step - loss: 0.0492 - accuracy: 0.9993 - val_loss: 0.9140 - val_accuracy: 0.8542\n",
      "Epoch 6/100\n",
      "15/15 [==============================] - 0s 7ms/step - loss: 0.0292 - accuracy: 1.0000 - val_loss: 0.8087 - val_accuracy: 0.8625\n",
      "Epoch 7/100\n",
      "15/15 [==============================] - 0s 8ms/step - loss: 0.0207 - accuracy: 1.0000 - val_loss: 0.6984 - val_accuracy: 0.8667\n",
      "Epoch 8/100\n",
      "15/15 [==============================] - 0s 8ms/step - loss: 0.0152 - accuracy: 1.0000 - val_loss: 0.6268 - val_accuracy: 0.8667\n",
      "Epoch 9/100\n",
      "15/15 [==============================] - 0s 9ms/step - loss: 0.0115 - accuracy: 1.0000 - val_loss: 0.5611 - val_accuracy: 0.8708\n",
      "Epoch 10/100\n",
      "15/15 [==============================] - 0s 7ms/step - loss: 0.0088 - accuracy: 1.0000 - val_loss: 0.5174 - val_accuracy: 0.8667\n",
      "Epoch 11/100\n",
      "15/15 [==============================] - 0s 7ms/step - loss: 0.0071 - accuracy: 1.0000 - val_loss: 0.4721 - val_accuracy: 0.8750\n",
      "Epoch 12/100\n",
      "15/15 [==============================] - 0s 6ms/step - loss: 0.0070 - accuracy: 1.0000 - val_loss: 0.4365 - val_accuracy: 0.8792\n",
      "Epoch 13/100\n",
      "15/15 [==============================] - 0s 7ms/step - loss: 0.0051 - accuracy: 1.0000 - val_loss: 0.4118 - val_accuracy: 0.8708\n",
      "Epoch 14/100\n",
      "15/15 [==============================] - 0s 12ms/step - loss: 0.0051 - accuracy: 1.0000 - val_loss: 0.3916 - val_accuracy: 0.8792\n",
      "Epoch 15/100\n",
      "15/15 [==============================] - 0s 7ms/step - loss: 0.0039 - accuracy: 1.0000 - val_loss: 0.3723 - val_accuracy: 0.8750\n",
      "Epoch 16/100\n",
      "15/15 [==============================] - 0s 7ms/step - loss: 0.0034 - accuracy: 1.0000 - val_loss: 0.3616 - val_accuracy: 0.8750\n",
      "Epoch 17/100\n",
      "15/15 [==============================] - 0s 10ms/step - loss: 0.0028 - accuracy: 1.0000 - val_loss: 0.3519 - val_accuracy: 0.8792\n",
      "Epoch 18/100\n",
      "15/15 [==============================] - 0s 7ms/step - loss: 0.0026 - accuracy: 1.0000 - val_loss: 0.3459 - val_accuracy: 0.8792\n",
      "Epoch 19/100\n",
      "15/15 [==============================] - 0s 7ms/step - loss: 0.0025 - accuracy: 1.0000 - val_loss: 0.3416 - val_accuracy: 0.8750\n",
      "Epoch 20/100\n",
      "15/15 [==============================] - 0s 7ms/step - loss: 0.0020 - accuracy: 1.0000 - val_loss: 0.3402 - val_accuracy: 0.8750\n",
      "Epoch 21/100\n",
      "15/15 [==============================] - 0s 6ms/step - loss: 0.0022 - accuracy: 1.0000 - val_loss: 0.3402 - val_accuracy: 0.8833\n",
      "Epoch 22/100\n",
      "15/15 [==============================] - 0s 8ms/step - loss: 0.0017 - accuracy: 1.0000 - val_loss: 0.3394 - val_accuracy: 0.8875\n",
      "Epoch 23/100\n",
      "15/15 [==============================] - 0s 9ms/step - loss: 0.0021 - accuracy: 1.0000 - val_loss: 0.3410 - val_accuracy: 0.8917\n",
      "Epoch 24/100\n",
      "15/15 [==============================] - 0s 8ms/step - loss: 0.0018 - accuracy: 1.0000 - val_loss: 0.3411 - val_accuracy: 0.8917\n",
      "Epoch 25/100\n",
      "15/15 [==============================] - 0s 7ms/step - loss: 0.0015 - accuracy: 1.0000 - val_loss: 0.3403 - val_accuracy: 0.8917\n",
      "Epoch 26/100\n",
      "15/15 [==============================] - 0s 9ms/step - loss: 0.0014 - accuracy: 1.0000 - val_loss: 0.3406 - val_accuracy: 0.8958\n",
      "Epoch 27/100\n",
      "15/15 [==============================] - 0s 8ms/step - loss: 0.0015 - accuracy: 1.0000 - val_loss: 0.3484 - val_accuracy: 0.8917\n",
      "Epoch 28/100\n",
      "15/15 [==============================] - 0s 8ms/step - loss: 0.0013 - accuracy: 1.0000 - val_loss: 0.3510 - val_accuracy: 0.8875\n",
      "Epoch 29/100\n",
      "15/15 [==============================] - 0s 7ms/step - loss: 0.0013 - accuracy: 1.0000 - val_loss: 0.3536 - val_accuracy: 0.8875\n",
      "Epoch 30/100\n",
      "15/15 [==============================] - 0s 7ms/step - loss: 9.3736e-04 - accuracy: 1.0000 - val_loss: 0.3555 - val_accuracy: 0.8833\n",
      "Epoch 31/100\n",
      "15/15 [==============================] - 0s 6ms/step - loss: 0.0010 - accuracy: 1.0000 - val_loss: 0.3538 - val_accuracy: 0.8917\n",
      "Epoch 32/100\n",
      "15/15 [==============================] - 0s 9ms/step - loss: 0.0011 - accuracy: 1.0000 - val_loss: 0.3557 - val_accuracy: 0.8833\n",
      "Epoch 33/100\n",
      "15/15 [==============================] - 0s 7ms/step - loss: 7.4593e-04 - accuracy: 1.0000 - val_loss: 0.3574 - val_accuracy: 0.8833\n",
      "Epoch 34/100\n",
      "15/15 [==============================] - 0s 7ms/step - loss: 7.6159e-04 - accuracy: 1.0000 - val_loss: 0.3611 - val_accuracy: 0.8833\n",
      "Epoch 35/100\n",
      "15/15 [==============================] - 0s 7ms/step - loss: 8.6415e-04 - accuracy: 1.0000 - val_loss: 0.3629 - val_accuracy: 0.8875\n",
      "Epoch 36/100\n",
      "15/15 [==============================] - 0s 12ms/step - loss: 9.5306e-04 - accuracy: 1.0000 - val_loss: 0.3627 - val_accuracy: 0.8875\n",
      "Epoch 37/100\n",
      "15/15 [==============================] - 0s 6ms/step - loss: 6.2597e-04 - accuracy: 1.0000 - val_loss: 0.3647 - val_accuracy: 0.8875\n",
      "Epoch 38/100\n",
      "15/15 [==============================] - 0s 7ms/step - loss: 6.9161e-04 - accuracy: 1.0000 - val_loss: 0.3670 - val_accuracy: 0.8917\n",
      "Epoch 39/100\n",
      "15/15 [==============================] - 0s 5ms/step - loss: 6.6009e-04 - accuracy: 1.0000 - val_loss: 0.3684 - val_accuracy: 0.8917\n",
      "Epoch 40/100\n",
      "15/15 [==============================] - 0s 6ms/step - loss: 5.6483e-04 - accuracy: 1.0000 - val_loss: 0.3710 - val_accuracy: 0.8917\n",
      "Epoch 41/100\n",
      "15/15 [==============================] - 0s 6ms/step - loss: 6.4017e-04 - accuracy: 1.0000 - val_loss: 0.3728 - val_accuracy: 0.8875\n",
      "Epoch 42/100\n",
      "15/15 [==============================] - 0s 6ms/step - loss: 4.7120e-04 - accuracy: 1.0000 - val_loss: 0.3749 - val_accuracy: 0.8958\n",
      "Epoch 43/100\n",
      "15/15 [==============================] - 0s 8ms/step - loss: 6.0067e-04 - accuracy: 1.0000 - val_loss: 0.3746 - val_accuracy: 0.8917\n",
      "Epoch 44/100\n",
      "15/15 [==============================] - 0s 8ms/step - loss: 4.2811e-04 - accuracy: 1.0000 - val_loss: 0.3749 - val_accuracy: 0.8917\n",
      "Epoch 45/100\n",
      "15/15 [==============================] - 0s 6ms/step - loss: 4.6424e-04 - accuracy: 1.0000 - val_loss: 0.3756 - val_accuracy: 0.8917\n",
      "Epoch 46/100\n",
      "15/15 [==============================] - 0s 5ms/step - loss: 4.1725e-04 - accuracy: 1.0000 - val_loss: 0.3756 - val_accuracy: 0.8917\n",
      "Epoch 47/100\n",
      "15/15 [==============================] - 0s 6ms/step - loss: 4.3538e-04 - accuracy: 1.0000 - val_loss: 0.3760 - val_accuracy: 0.9000\n",
      "Epoch 48/100\n",
      "15/15 [==============================] - 0s 9ms/step - loss: 3.6188e-04 - accuracy: 1.0000 - val_loss: 0.3765 - val_accuracy: 0.9000\n",
      "Epoch 49/100\n",
      "15/15 [==============================] - 0s 8ms/step - loss: 4.4577e-04 - accuracy: 1.0000 - val_loss: 0.3752 - val_accuracy: 0.9000\n",
      "Epoch 50/100\n",
      "15/15 [==============================] - 0s 5ms/step - loss: 4.6150e-04 - accuracy: 1.0000 - val_loss: 0.3745 - val_accuracy: 0.8958\n",
      "Epoch 51/100\n",
      "15/15 [==============================] - 0s 6ms/step - loss: 3.5275e-04 - accuracy: 1.0000 - val_loss: 0.3757 - val_accuracy: 0.9000\n",
      "Epoch 52/100\n",
      "15/15 [==============================] - 0s 10ms/step - loss: 3.8169e-04 - accuracy: 1.0000 - val_loss: 0.3784 - val_accuracy: 0.8958\n",
      "Epoch 53/100\n",
      "15/15 [==============================] - 0s 9ms/step - loss: 3.8102e-04 - accuracy: 1.0000 - val_loss: 0.3803 - val_accuracy: 0.8958\n",
      "Epoch 54/100\n",
      "15/15 [==============================] - 0s 6ms/step - loss: 3.4454e-04 - accuracy: 1.0000 - val_loss: 0.3820 - val_accuracy: 0.8958\n",
      "Epoch 55/100\n",
      "15/15 [==============================] - 0s 7ms/step - loss: 2.9247e-04 - accuracy: 1.0000 - val_loss: 0.3841 - val_accuracy: 0.9000\n",
      "Epoch 56/100\n",
      "15/15 [==============================] - 0s 9ms/step - loss: 4.0365e-04 - accuracy: 1.0000 - val_loss: 0.3836 - val_accuracy: 0.9000\n",
      "Epoch 57/100\n",
      "15/15 [==============================] - 0s 15ms/step - loss: 2.9117e-04 - accuracy: 1.0000 - val_loss: 0.3837 - val_accuracy: 0.9000\n",
      "Epoch 58/100\n",
      "15/15 [==============================] - 0s 13ms/step - loss: 3.2131e-04 - accuracy: 1.0000 - val_loss: 0.3849 - val_accuracy: 0.8958\n",
      "Epoch 59/100\n",
      "15/15 [==============================] - 0s 8ms/step - loss: 2.6026e-04 - accuracy: 1.0000 - val_loss: 0.3857 - val_accuracy: 0.8958\n",
      "Epoch 60/100\n",
      "15/15 [==============================] - 0s 6ms/step - loss: 3.0125e-04 - accuracy: 1.0000 - val_loss: 0.3878 - val_accuracy: 0.8958\n",
      "Epoch 61/100\n",
      "15/15 [==============================] - 0s 6ms/step - loss: 2.8297e-04 - accuracy: 1.0000 - val_loss: 0.3903 - val_accuracy: 0.8958\n",
      "Epoch 62/100\n",
      "15/15 [==============================] - 0s 7ms/step - loss: 2.2112e-04 - accuracy: 1.0000 - val_loss: 0.3912 - val_accuracy: 0.8958\n",
      "Epoch 63/100\n",
      "15/15 [==============================] - 0s 5ms/step - loss: 3.2481e-04 - accuracy: 1.0000 - val_loss: 0.3919 - val_accuracy: 0.9000\n",
      "Epoch 64/100\n",
      "15/15 [==============================] - 0s 6ms/step - loss: 2.4159e-04 - accuracy: 1.0000 - val_loss: 0.3919 - val_accuracy: 0.9000\n",
      "Epoch 65/100\n",
      "15/15 [==============================] - 0s 6ms/step - loss: 2.2390e-04 - accuracy: 1.0000 - val_loss: 0.3926 - val_accuracy: 0.9000\n",
      "Epoch 66/100\n",
      "15/15 [==============================] - 0s 6ms/step - loss: 2.7305e-04 - accuracy: 1.0000 - val_loss: 0.3930 - val_accuracy: 0.9000\n",
      "Epoch 67/100\n",
      "15/15 [==============================] - 0s 6ms/step - loss: 2.5786e-04 - accuracy: 1.0000 - val_loss: 0.3943 - val_accuracy: 0.9000\n",
      "Epoch 68/100\n",
      "15/15 [==============================] - 0s 6ms/step - loss: 2.1101e-04 - accuracy: 1.0000 - val_loss: 0.3952 - val_accuracy: 0.9000\n",
      "Epoch 69/100\n",
      "15/15 [==============================] - 0s 6ms/step - loss: 2.0067e-04 - accuracy: 1.0000 - val_loss: 0.3957 - val_accuracy: 0.9000\n",
      "Epoch 70/100\n",
      "15/15 [==============================] - 0s 5ms/step - loss: 1.8392e-04 - accuracy: 1.0000 - val_loss: 0.3966 - val_accuracy: 0.9000\n",
      "Epoch 71/100\n",
      "15/15 [==============================] - 0s 6ms/step - loss: 2.1521e-04 - accuracy: 1.0000 - val_loss: 0.3968 - val_accuracy: 0.9000\n",
      "Epoch 72/100\n",
      "15/15 [==============================] - 0s 5ms/step - loss: 2.6576e-04 - accuracy: 1.0000 - val_loss: 0.4018 - val_accuracy: 0.9000\n",
      "Epoch 73/100\n",
      "15/15 [==============================] - 0s 6ms/step - loss: 2.0222e-04 - accuracy: 1.0000 - val_loss: 0.4031 - val_accuracy: 0.9000\n",
      "Epoch 74/100\n",
      "15/15 [==============================] - 0s 6ms/step - loss: 2.1674e-04 - accuracy: 1.0000 - val_loss: 0.4043 - val_accuracy: 0.9000\n",
      "Epoch 75/100\n",
      "15/15 [==============================] - 0s 6ms/step - loss: 1.6136e-04 - accuracy: 1.0000 - val_loss: 0.4057 - val_accuracy: 0.9000\n",
      "Epoch 76/100\n",
      "15/15 [==============================] - 0s 6ms/step - loss: 2.1042e-04 - accuracy: 1.0000 - val_loss: 0.4035 - val_accuracy: 0.9000\n",
      "Epoch 77/100\n",
      "15/15 [==============================] - 0s 7ms/step - loss: 1.7262e-04 - accuracy: 1.0000 - val_loss: 0.4027 - val_accuracy: 0.9000\n",
      "Epoch 78/100\n",
      "15/15 [==============================] - 0s 6ms/step - loss: 1.5775e-04 - accuracy: 1.0000 - val_loss: 0.4024 - val_accuracy: 0.9000\n",
      "Epoch 79/100\n",
      "15/15 [==============================] - 0s 7ms/step - loss: 1.7952e-04 - accuracy: 1.0000 - val_loss: 0.4031 - val_accuracy: 0.9000\n",
      "Epoch 80/100\n",
      "15/15 [==============================] - 0s 7ms/step - loss: 1.4099e-04 - accuracy: 1.0000 - val_loss: 0.4045 - val_accuracy: 0.9000\n",
      "Epoch 81/100\n",
      "15/15 [==============================] - 0s 6ms/step - loss: 1.6324e-04 - accuracy: 1.0000 - val_loss: 0.4058 - val_accuracy: 0.9000\n",
      "Epoch 82/100\n",
      "15/15 [==============================] - 0s 7ms/step - loss: 2.3353e-04 - accuracy: 1.0000 - val_loss: 0.4132 - val_accuracy: 0.8958\n",
      "Epoch 83/100\n",
      "15/15 [==============================] - 0s 6ms/step - loss: 1.2948e-04 - accuracy: 1.0000 - val_loss: 0.4176 - val_accuracy: 0.8958\n",
      "Epoch 84/100\n",
      "15/15 [==============================] - 0s 6ms/step - loss: 1.8310e-04 - accuracy: 1.0000 - val_loss: 0.4175 - val_accuracy: 0.8958\n",
      "Epoch 85/100\n",
      "15/15 [==============================] - 0s 6ms/step - loss: 1.3356e-04 - accuracy: 1.0000 - val_loss: 0.4161 - val_accuracy: 0.8958\n",
      "Epoch 86/100\n",
      "15/15 [==============================] - 0s 6ms/step - loss: 1.0953e-04 - accuracy: 1.0000 - val_loss: 0.4133 - val_accuracy: 0.8958\n",
      "Epoch 87/100\n",
      "15/15 [==============================] - 0s 5ms/step - loss: 1.1179e-04 - accuracy: 1.0000 - val_loss: 0.4106 - val_accuracy: 0.9083\n",
      "Epoch 88/100\n",
      "15/15 [==============================] - 0s 6ms/step - loss: 1.4928e-04 - accuracy: 1.0000 - val_loss: 0.4101 - val_accuracy: 0.9083\n",
      "Epoch 89/100\n",
      "15/15 [==============================] - 0s 7ms/step - loss: 1.2729e-04 - accuracy: 1.0000 - val_loss: 0.4102 - val_accuracy: 0.9083\n",
      "Epoch 90/100\n",
      "15/15 [==============================] - 0s 6ms/step - loss: 1.4014e-04 - accuracy: 1.0000 - val_loss: 0.4114 - val_accuracy: 0.9083\n",
      "Epoch 91/100\n",
      "15/15 [==============================] - ETA: 0s - loss: 1.1420e-04 - accuracy: 1.00 - 0s 14ms/step - loss: 1.1860e-04 - accuracy: 1.0000 - val_loss: 0.4122 - val_accuracy: 0.9083\n",
      "Epoch 92/100\n",
      "15/15 [==============================] - 0s 11ms/step - loss: 8.1902e-05 - accuracy: 1.0000 - val_loss: 0.4134 - val_accuracy: 0.9083\n",
      "Epoch 93/100\n",
      "15/15 [==============================] - 0s 9ms/step - loss: 1.0625e-04 - accuracy: 1.0000 - val_loss: 0.4149 - val_accuracy: 0.9083\n",
      "Epoch 94/100\n",
      "15/15 [==============================] - 0s 8ms/step - loss: 1.3798e-04 - accuracy: 1.0000 - val_loss: 0.4148 - val_accuracy: 0.9083\n",
      "Epoch 95/100\n",
      "15/15 [==============================] - 0s 10ms/step - loss: 1.4271e-04 - accuracy: 1.0000 - val_loss: 0.4110 - val_accuracy: 0.9083\n",
      "Epoch 96/100\n",
      "15/15 [==============================] - 0s 11ms/step - loss: 2.2644e-04 - accuracy: 1.0000 - val_loss: 0.4103 - val_accuracy: 0.9042\n",
      "Epoch 97/100\n",
      "15/15 [==============================] - 0s 10ms/step - loss: 9.0665e-05 - accuracy: 1.0000 - val_loss: 0.4105 - val_accuracy: 0.9042\n",
      "Epoch 98/100\n",
      "15/15 [==============================] - 0s 7ms/step - loss: 1.2674e-04 - accuracy: 1.0000 - val_loss: 0.4119 - val_accuracy: 0.9042\n",
      "Epoch 99/100\n",
      "15/15 [==============================] - 0s 6ms/step - loss: 8.9104e-05 - accuracy: 1.0000 - val_loss: 0.4134 - val_accuracy: 0.9042\n",
      "Epoch 100/100\n",
      "15/15 [==============================] - 0s 6ms/step - loss: 1.2468e-04 - accuracy: 1.0000 - val_loss: 0.4137 - val_accuracy: 0.9042\n"
     ]
    }
   ],
   "source": [
    "history_batch_norm = model_batch_norm.fit(\n",
    "    x,\n",
    "    y,\n",
    "    batch_size=64,\n",
    "    epochs=100,\n",
    "    validation_split=0.2,\n",
    "    shuffle=True\n",
    ")"
   ]
  },
  {
   "cell_type": "code",
   "execution_count": 39,
   "metadata": {
    "scrolled": true
   },
   "outputs": [
    {
     "data": {
      "image/png": "[encoded data removed]",
      "text/plain": [
       "<Figure size 1152x432 with 2 Axes>"
      ]
     },
     "metadata": {
      "needs_background": "light"
     },
     "output_type": "display_data"
    }
   ],
   "source": [
    "show_loss_accuracy_evolution(history_batch_norm)"
   ]
  },
  {
   "cell_type": "code",
   "execution_count": 40,
   "metadata": {},
   "outputs": [
    {
     "name": "stdout",
     "output_type": "stream",
     "text": [
      "Test Loss: 0.39548182487487793\n",
      "Test Accuracy: 0.9068999886512756\n"
     ]
    }
   ],
   "source": [
    "results = model_batch_norm.evaluate(x_test, y_test, verbose=0)\n",
    "print('Test Loss: {}'.format(results[0]))\n",
    "print('Test Accuracy: {}'.format(results[1]))"
   ]
  },
  {
   "cell_type": "markdown",
   "metadata": {},
   "source": [
    "<a id='l1_l2_elasticnet'></a>\n",
    "## L1, L2 and ElasticNet\n",
    "\n",
    "Recordemos que durante el entrenamiento de la red se aprende la configuración de pesos y biases que permita mejorar los resultados para una determinada función de pérdida.\n",
    "\n",
    "* [L1 regularization](https://developers.google.com/machine-learning/glossary/#L1_regularization), where the cost added is proportional to the absolute value of the weights coefficients (\"L1 norm\" of the weights).\n",
    "\n",
    "```python\n",
    "tf.keras.regularizers.l1(l1=0.01)\n",
    "\n",
    "layers.Dense(3, kernel_regularizer='l1')\n",
    "\n",
    "```\n",
    "\n",
    "\n",
    "* [L2 regularization](https://developers.google.com/machine-learning/glossary/#L2_regularization), where the cost added is proportional to the square of the value of the weights coefficients ( \"L2 norm\" of the weights). \n",
    "\n",
    "```python\n",
    "tf.keras.regularizers.l2(l2=0.01)\n",
    "\n",
    "layers.Dense(3, kernel_regularizer='l2')\n",
    "\n",
    "```\n",
    "* L1_L2 or Elastic Net.\n",
    "\n",
    "```python\n",
    "tf.keras.regularizers.l1_l2(\n",
    "    l1=0.01, l2=0.01\n",
    ")\n",
    "\n",
    "layers.Dense(3, kernel_regularizer='l1_l2')\n",
    "\n",
    "```\n",
    "\n",
    "Furthermore, it is possible to choose whether to include the penalty in the cost function on the weights, the biases or on the activation, with the following arguments:\n",
    "- `kernel_regularizer`: only on weights.\n",
    "- `bias_regularizer`: only on biases.\n",
    "- `activity_regularizer`: on full output.\n",
    "\n",
    "[link to documentation](https://keras.io/api/layers/regularizers/)."
   ]
  },
  {
   "cell_type": "code",
   "execution_count": 41,
   "metadata": {},
   "outputs": [],
   "source": [
    "from tensorflow.keras import regularizers"
   ]
  },
  {
   "cell_type": "code",
   "execution_count": 42,
   "metadata": {},
   "outputs": [],
   "source": [
    "kerner_regularizer_l1 = regularizers.l1_l2(l1=1e-5, l2=5e-4)\n",
    "kerner_regularizer_l2 = regularizers.l2(5e-4)\n",
    "kerner_regularizer_l3 = regularizers.l1(1e-5)"
   ]
  },
  {
   "cell_type": "code",
   "execution_count": 43,
   "metadata": {},
   "outputs": [],
   "source": [
    "\n",
    "# Input\n",
    "inputs = tf.keras.Input(shape=(28, 28), name='input_layer')\n",
    "# Convert the 2D image to a vector\n",
    "flat = layers.Flatten()(inputs)\n",
    "\n",
    "# hidden layer 1\n",
    "l_1 = layers.Dense(256, activation='relu',\n",
    "                   kernel_regularizer=kerner_regularizer_l1, name='layer_1')(flat)\n",
    "# hidden layer 2\n",
    "l_2 = layers.Dense(128, activation='relu',\n",
    "                   kernel_regularizer=kerner_regularizer_l2, name='layer_2')(l_1)\n",
    "# hidden layer 3\n",
    "l_3 = layers.Dense(128, activation='relu',\n",
    "                   kernel_regularizer=kerner_regularizer_l3, name='layer_3')(l_2)\n",
    "\n",
    "# Outputs\n",
    "outputs = layers.Dense(num_classes, activation='softmax',\n",
    "                       name='output_layer')(l_3)\n",
    "\n",
    "\n",
    "model_regularizers = keras.Model(inputs=inputs,\n",
    "                                 outputs=outputs,\n",
    "                                 name='dont_overfit_model_regularizers')"
   ]
  },
  {
   "cell_type": "code",
   "execution_count": 44,
   "metadata": {},
   "outputs": [
    {
     "name": "stdout",
     "output_type": "stream",
     "text": [
      "Model: \"dont_overfit_model_regularizers\"\n",
      "_________________________________________________________________\n",
      "Layer (type)                 Output Shape              Param #   \n",
      "=================================================================\n",
      "input_layer (InputLayer)     [(None, 28, 28)]          0         \n",
      "_________________________________________________________________\n",
      "flatten_6 (Flatten)          (None, 784)               0         \n",
      "_________________________________________________________________\n",
      "layer_1 (Dense)              (None, 256)               200960    \n",
      "_________________________________________________________________\n",
      "layer_2 (Dense)              (None, 128)               32896     \n",
      "_________________________________________________________________\n",
      "layer_3 (Dense)              (None, 128)               16512     \n",
      "_________________________________________________________________\n",
      "output_layer (Dense)         (None, 10)                1290      \n",
      "=================================================================\n",
      "Total params: 251,658\n",
      "Trainable params: 251,658\n",
      "Non-trainable params: 0\n",
      "_________________________________________________________________\n"
     ]
    }
   ],
   "source": [
    "model_regularizers.summary()"
   ]
  },
  {
   "cell_type": "code",
   "execution_count": 45,
   "metadata": {},
   "outputs": [],
   "source": [
    "model_regularizers.compile(optimizer='adam', loss='sparse_categorical_crossentropy', metrics=['accuracy'])"
   ]
  },
  {
   "cell_type": "code",
   "execution_count": 46,
   "metadata": {},
   "outputs": [
    {
     "name": "stdout",
     "output_type": "stream",
     "text": [
      "Epoch 1/100\n",
      "15/15 [==============================] - 1s 17ms/step - loss: 2.3816 - accuracy: 0.3566 - val_loss: 1.2924 - val_accuracy: 0.7583\n",
      "Epoch 2/100\n",
      "15/15 [==============================] - 0s 9ms/step - loss: 1.1112 - accuracy: 0.7785 - val_loss: 0.7851 - val_accuracy: 0.8417\n",
      "Epoch 3/100\n",
      "15/15 [==============================] - 0s 6ms/step - loss: 0.6828 - accuracy: 0.8918 - val_loss: 0.7554 - val_accuracy: 0.8500\n",
      "Epoch 4/100\n",
      "15/15 [==============================] - 0s 6ms/step - loss: 0.5357 - accuracy: 0.9263 - val_loss: 0.6511 - val_accuracy: 0.8917\n",
      "Epoch 5/100\n",
      "15/15 [==============================] - 0s 8ms/step - loss: 0.4177 - accuracy: 0.9573 - val_loss: 0.6323 - val_accuracy: 0.9083\n",
      "Epoch 6/100\n",
      "15/15 [==============================] - 0s 5ms/step - loss: 0.3653 - accuracy: 0.9814 - val_loss: 0.6185 - val_accuracy: 0.9000\n",
      "Epoch 7/100\n",
      "15/15 [==============================] - 0s 8ms/step - loss: 0.3141 - accuracy: 0.9944 - val_loss: 0.6375 - val_accuracy: 0.9042\n",
      "Epoch 8/100\n",
      "15/15 [==============================] - 0s 8ms/step - loss: 0.3155 - accuracy: 0.9855 - val_loss: 0.6424 - val_accuracy: 0.8917\n",
      "Epoch 9/100\n",
      "15/15 [==============================] - 0s 5ms/step - loss: 0.2880 - accuracy: 0.9902 - val_loss: 0.6074 - val_accuracy: 0.9042\n",
      "Epoch 10/100\n",
      "15/15 [==============================] - 0s 6ms/step - loss: 0.2607 - accuracy: 0.9992 - val_loss: 0.6180 - val_accuracy: 0.9083\n",
      "Epoch 11/100\n",
      "15/15 [==============================] - 0s 6ms/step - loss: 0.2482 - accuracy: 1.0000 - val_loss: 0.6222 - val_accuracy: 0.8958\n",
      "Epoch 12/100\n",
      "15/15 [==============================] - 0s 6ms/step - loss: 0.2381 - accuracy: 1.0000 - val_loss: 0.6281 - val_accuracy: 0.9042\n",
      "Epoch 13/100\n",
      "15/15 [==============================] - 0s 6ms/step - loss: 0.2300 - accuracy: 1.0000 - val_loss: 0.6223 - val_accuracy: 0.9000\n",
      "Epoch 14/100\n",
      "15/15 [==============================] - 0s 6ms/step - loss: 0.2217 - accuracy: 1.0000 - val_loss: 0.6172 - val_accuracy: 0.9125\n",
      "Epoch 15/100\n",
      "15/15 [==============================] - 0s 9ms/step - loss: 0.2165 - accuracy: 1.0000 - val_loss: 0.6290 - val_accuracy: 0.8958\n",
      "Epoch 16/100\n",
      "15/15 [==============================] - 0s 9ms/step - loss: 0.2103 - accuracy: 1.0000 - val_loss: 0.6359 - val_accuracy: 0.8875\n",
      "Epoch 17/100\n",
      "15/15 [==============================] - 0s 8ms/step - loss: 0.2065 - accuracy: 1.0000 - val_loss: 0.6262 - val_accuracy: 0.9000\n",
      "Epoch 18/100\n",
      "15/15 [==============================] - 0s 7ms/step - loss: 0.1996 - accuracy: 1.0000 - val_loss: 0.6301 - val_accuracy: 0.8958\n",
      "Epoch 19/100\n",
      "15/15 [==============================] - 0s 9ms/step - loss: 0.1946 - accuracy: 1.0000 - val_loss: 0.6105 - val_accuracy: 0.9000\n",
      "Epoch 20/100\n",
      "15/15 [==============================] - 0s 6ms/step - loss: 0.1901 - accuracy: 1.0000 - val_loss: 0.6013 - val_accuracy: 0.9000\n",
      "Epoch 21/100\n",
      "15/15 [==============================] - 0s 6ms/step - loss: 0.1849 - accuracy: 1.0000 - val_loss: 0.6243 - val_accuracy: 0.8875\n",
      "Epoch 22/100\n",
      "15/15 [==============================] - 0s 7ms/step - loss: 0.1810 - accuracy: 1.0000 - val_loss: 0.6229 - val_accuracy: 0.8917\n",
      "Epoch 23/100\n",
      "15/15 [==============================] - 0s 7ms/step - loss: 0.1766 - accuracy: 1.0000 - val_loss: 0.5957 - val_accuracy: 0.8958\n",
      "Epoch 24/100\n",
      "15/15 [==============================] - 0s 6ms/step - loss: 0.1728 - accuracy: 1.0000 - val_loss: 0.6200 - val_accuracy: 0.8917\n",
      "Epoch 25/100\n",
      "15/15 [==============================] - 0s 6ms/step - loss: 0.1682 - accuracy: 1.0000 - val_loss: 0.6066 - val_accuracy: 0.8875\n",
      "Epoch 26/100\n",
      "15/15 [==============================] - 0s 6ms/step - loss: 0.1647 - accuracy: 1.0000 - val_loss: 0.6093 - val_accuracy: 0.9083\n",
      "Epoch 27/100\n",
      "15/15 [==============================] - 0s 6ms/step - loss: 0.1610 - accuracy: 1.0000 - val_loss: 0.5997 - val_accuracy: 0.8958\n",
      "Epoch 28/100\n",
      "15/15 [==============================] - 0s 6ms/step - loss: 0.1577 - accuracy: 1.0000 - val_loss: 0.6137 - val_accuracy: 0.8875\n",
      "Epoch 29/100\n",
      "15/15 [==============================] - 0s 6ms/step - loss: 0.1546 - accuracy: 1.0000 - val_loss: 0.5968 - val_accuracy: 0.8833\n",
      "Epoch 30/100\n",
      "15/15 [==============================] - 0s 6ms/step - loss: 0.1513 - accuracy: 1.0000 - val_loss: 0.6097 - val_accuracy: 0.8792\n",
      "Epoch 31/100\n",
      "15/15 [==============================] - 0s 6ms/step - loss: 0.1484 - accuracy: 1.0000 - val_loss: 0.5966 - val_accuracy: 0.8792\n",
      "Epoch 32/100\n",
      "15/15 [==============================] - 0s 6ms/step - loss: 0.1455 - accuracy: 1.0000 - val_loss: 0.6123 - val_accuracy: 0.8917\n",
      "Epoch 33/100\n",
      "15/15 [==============================] - 0s 6ms/step - loss: 0.1415 - accuracy: 1.0000 - val_loss: 0.5983 - val_accuracy: 0.8792\n",
      "Epoch 34/100\n",
      "15/15 [==============================] - 0s 8ms/step - loss: 0.1390 - accuracy: 1.0000 - val_loss: 0.5764 - val_accuracy: 0.9000\n",
      "Epoch 35/100\n",
      "15/15 [==============================] - 0s 5ms/step - loss: 0.1352 - accuracy: 1.0000 - val_loss: 0.5639 - val_accuracy: 0.9000\n",
      "Epoch 36/100\n",
      "15/15 [==============================] - 0s 6ms/step - loss: 0.1325 - accuracy: 1.0000 - val_loss: 0.5869 - val_accuracy: 0.8875\n",
      "Epoch 37/100\n",
      "15/15 [==============================] - 0s 6ms/step - loss: 0.1297 - accuracy: 1.0000 - val_loss: 0.5963 - val_accuracy: 0.8875\n",
      "Epoch 38/100\n",
      "15/15 [==============================] - 0s 6ms/step - loss: 0.1273 - accuracy: 1.0000 - val_loss: 0.5680 - val_accuracy: 0.8958\n",
      "Epoch 39/100\n",
      "15/15 [==============================] - 0s 7ms/step - loss: 0.1241 - accuracy: 1.0000 - val_loss: 0.5873 - val_accuracy: 0.8833\n",
      "Epoch 40/100\n",
      "15/15 [==============================] - 0s 5ms/step - loss: 0.1215 - accuracy: 1.0000 - val_loss: 0.5549 - val_accuracy: 0.8958\n",
      "Epoch 41/100\n",
      "15/15 [==============================] - 0s 7ms/step - loss: 0.1196 - accuracy: 1.0000 - val_loss: 0.6093 - val_accuracy: 0.8792\n",
      "Epoch 42/100\n",
      "15/15 [==============================] - 0s 5ms/step - loss: 0.1184 - accuracy: 1.0000 - val_loss: 0.5986 - val_accuracy: 0.8875\n",
      "Epoch 43/100\n",
      "15/15 [==============================] - 0s 6ms/step - loss: 0.1163 - accuracy: 1.0000 - val_loss: 0.5463 - val_accuracy: 0.9000\n",
      "Epoch 44/100\n",
      "15/15 [==============================] - 0s 13ms/step - loss: 0.1139 - accuracy: 1.0000 - val_loss: 0.5567 - val_accuracy: 0.8875\n",
      "Epoch 45/100\n",
      "15/15 [==============================] - 0s 7ms/step - loss: 0.1118 - accuracy: 1.0000 - val_loss: 0.5651 - val_accuracy: 0.8708\n",
      "Epoch 46/100\n",
      "15/15 [==============================] - 0s 5ms/step - loss: 0.1081 - accuracy: 1.0000 - val_loss: 0.5600 - val_accuracy: 0.8958\n",
      "Epoch 47/100\n",
      "15/15 [==============================] - 0s 6ms/step - loss: 0.1061 - accuracy: 1.0000 - val_loss: 0.5416 - val_accuracy: 0.8917\n",
      "Epoch 48/100\n",
      "15/15 [==============================] - 0s 6ms/step - loss: 0.1034 - accuracy: 1.0000 - val_loss: 0.5646 - val_accuracy: 0.8833\n",
      "Epoch 49/100\n",
      "15/15 [==============================] - 0s 6ms/step - loss: 0.1011 - accuracy: 1.0000 - val_loss: 0.5632 - val_accuracy: 0.8917\n",
      "Epoch 50/100\n",
      "15/15 [==============================] - 0s 6ms/step - loss: 0.0993 - accuracy: 1.0000 - val_loss: 0.5469 - val_accuracy: 0.8958\n",
      "Epoch 51/100\n",
      "15/15 [==============================] - 0s 6ms/step - loss: 0.0974 - accuracy: 1.0000 - val_loss: 0.5428 - val_accuracy: 0.8750\n",
      "Epoch 52/100\n",
      "15/15 [==============================] - 0s 7ms/step - loss: 0.0955 - accuracy: 1.0000 - val_loss: 0.5697 - val_accuracy: 0.8875\n",
      "Epoch 53/100\n",
      "15/15 [==============================] - 0s 6ms/step - loss: 0.0938 - accuracy: 1.0000 - val_loss: 0.5569 - val_accuracy: 0.8750\n",
      "Epoch 54/100\n",
      "15/15 [==============================] - 0s 5ms/step - loss: 0.0916 - accuracy: 1.0000 - val_loss: 0.5325 - val_accuracy: 0.8917\n",
      "Epoch 55/100\n",
      "15/15 [==============================] - 0s 5ms/step - loss: 0.0900 - accuracy: 1.0000 - val_loss: 0.5362 - val_accuracy: 0.8792\n",
      "Epoch 56/100\n",
      "15/15 [==============================] - 0s 7ms/step - loss: 0.0884 - accuracy: 1.0000 - val_loss: 0.5633 - val_accuracy: 0.8833\n",
      "Epoch 57/100\n",
      "15/15 [==============================] - 0s 5ms/step - loss: 0.0866 - accuracy: 1.0000 - val_loss: 0.5585 - val_accuracy: 0.8750\n",
      "Epoch 58/100\n",
      "15/15 [==============================] - 0s 7ms/step - loss: 0.0849 - accuracy: 1.0000 - val_loss: 0.5408 - val_accuracy: 0.8750\n",
      "Epoch 59/100\n",
      "15/15 [==============================] - 0s 7ms/step - loss: 0.0832 - accuracy: 1.0000 - val_loss: 0.5470 - val_accuracy: 0.8833\n",
      "Epoch 60/100\n",
      "15/15 [==============================] - 0s 5ms/step - loss: 0.0818 - accuracy: 1.0000 - val_loss: 0.5382 - val_accuracy: 0.8792\n",
      "Epoch 61/100\n",
      "15/15 [==============================] - 0s 7ms/step - loss: 0.0800 - accuracy: 1.0000 - val_loss: 0.5259 - val_accuracy: 0.8750\n",
      "Epoch 62/100\n",
      "15/15 [==============================] - 0s 5ms/step - loss: 0.0790 - accuracy: 1.0000 - val_loss: 0.5207 - val_accuracy: 0.8833\n",
      "Epoch 63/100\n",
      "15/15 [==============================] - 0s 5ms/step - loss: 0.0774 - accuracy: 1.0000 - val_loss: 0.5263 - val_accuracy: 0.8875\n",
      "Epoch 64/100\n",
      "15/15 [==============================] - 0s 5ms/step - loss: 0.0760 - accuracy: 1.0000 - val_loss: 0.5410 - val_accuracy: 0.8833\n",
      "Epoch 65/100\n",
      "15/15 [==============================] - 0s 5ms/step - loss: 0.0744 - accuracy: 1.0000 - val_loss: 0.5381 - val_accuracy: 0.8667\n",
      "Epoch 66/100\n",
      "15/15 [==============================] - 0s 7ms/step - loss: 0.0737 - accuracy: 1.0000 - val_loss: 0.5255 - val_accuracy: 0.8917\n",
      "Epoch 67/100\n",
      "15/15 [==============================] - 0s 5ms/step - loss: 0.0722 - accuracy: 1.0000 - val_loss: 0.5496 - val_accuracy: 0.8917\n",
      "Epoch 68/100\n",
      "15/15 [==============================] - 0s 5ms/step - loss: 0.0712 - accuracy: 1.0000 - val_loss: 0.5433 - val_accuracy: 0.8792\n",
      "Epoch 69/100\n",
      "15/15 [==============================] - 0s 6ms/step - loss: 0.0716 - accuracy: 1.0000 - val_loss: 0.6663 - val_accuracy: 0.8667\n",
      "Epoch 70/100\n",
      "15/15 [==============================] - 0s 5ms/step - loss: 0.1896 - accuracy: 0.9704 - val_loss: 0.5843 - val_accuracy: 0.8792\n",
      "Epoch 71/100\n",
      "15/15 [==============================] - 0s 7ms/step - loss: 0.2305 - accuracy: 0.9419 - val_loss: 0.5735 - val_accuracy: 0.8750\n",
      "Epoch 72/100\n",
      "15/15 [==============================] - 0s 6ms/step - loss: 0.1895 - accuracy: 0.9642 - val_loss: 0.6800 - val_accuracy: 0.8792\n",
      "Epoch 73/100\n",
      "15/15 [==============================] - 0s 7ms/step - loss: 0.1601 - accuracy: 0.9835 - val_loss: 0.5634 - val_accuracy: 0.9042\n",
      "Epoch 74/100\n",
      "15/15 [==============================] - 0s 5ms/step - loss: 0.1361 - accuracy: 0.9916 - val_loss: 0.6212 - val_accuracy: 0.8875\n",
      "Epoch 75/100\n",
      "15/15 [==============================] - 0s 7ms/step - loss: 0.1253 - accuracy: 0.9953 - val_loss: 0.5690 - val_accuracy: 0.9042\n",
      "Epoch 76/100\n",
      "15/15 [==============================] - 0s 5ms/step - loss: 0.1085 - accuracy: 1.0000 - val_loss: 0.5956 - val_accuracy: 0.9083\n",
      "Epoch 77/100\n",
      "15/15 [==============================] - 0s 5ms/step - loss: 0.1045 - accuracy: 1.0000 - val_loss: 0.5518 - val_accuracy: 0.9125\n",
      "Epoch 78/100\n",
      "15/15 [==============================] - 0s 7ms/step - loss: 0.1000 - accuracy: 1.0000 - val_loss: 0.5521 - val_accuracy: 0.9042\n",
      "Epoch 79/100\n",
      "15/15 [==============================] - 0s 6ms/step - loss: 0.0971 - accuracy: 1.0000 - val_loss: 0.5536 - val_accuracy: 0.9042\n",
      "Epoch 80/100\n",
      "15/15 [==============================] - 0s 5ms/step - loss: 0.0942 - accuracy: 1.0000 - val_loss: 0.5523 - val_accuracy: 0.9042\n",
      "Epoch 81/100\n",
      "15/15 [==============================] - 0s 7ms/step - loss: 0.0918 - accuracy: 1.0000 - val_loss: 0.5484 - val_accuracy: 0.9000\n",
      "Epoch 82/100\n",
      "15/15 [==============================] - 0s 6ms/step - loss: 0.0895 - accuracy: 1.0000 - val_loss: 0.5454 - val_accuracy: 0.9000\n",
      "Epoch 83/100\n",
      "15/15 [==============================] - 0s 6ms/step - loss: 0.0873 - accuracy: 1.0000 - val_loss: 0.5438 - val_accuracy: 0.9000\n",
      "Epoch 84/100\n",
      "15/15 [==============================] - 0s 6ms/step - loss: 0.0853 - accuracy: 1.0000 - val_loss: 0.5418 - val_accuracy: 0.9000\n",
      "Epoch 85/100\n",
      "15/15 [==============================] - 0s 5ms/step - loss: 0.0833 - accuracy: 1.0000 - val_loss: 0.5398 - val_accuracy: 0.9042\n",
      "Epoch 86/100\n",
      "15/15 [==============================] - 0s 7ms/step - loss: 0.0815 - accuracy: 1.0000 - val_loss: 0.5378 - val_accuracy: 0.9000\n",
      "Epoch 87/100\n",
      "15/15 [==============================] - 0s 6ms/step - loss: 0.0797 - accuracy: 1.0000 - val_loss: 0.5377 - val_accuracy: 0.9000\n",
      "Epoch 88/100\n",
      "15/15 [==============================] - 0s 6ms/step - loss: 0.0780 - accuracy: 1.0000 - val_loss: 0.5355 - val_accuracy: 0.9000\n",
      "Epoch 89/100\n",
      "15/15 [==============================] - 0s 6ms/step - loss: 0.0765 - accuracy: 1.0000 - val_loss: 0.5318 - val_accuracy: 0.9000\n",
      "Epoch 90/100\n",
      "15/15 [==============================] - 0s 5ms/step - loss: 0.0750 - accuracy: 1.0000 - val_loss: 0.5280 - val_accuracy: 0.9000\n",
      "Epoch 91/100\n",
      "15/15 [==============================] - 0s 6ms/step - loss: 0.0735 - accuracy: 1.0000 - val_loss: 0.5297 - val_accuracy: 0.9000\n",
      "Epoch 92/100\n",
      "15/15 [==============================] - 0s 6ms/step - loss: 0.0722 - accuracy: 1.0000 - val_loss: 0.5261 - val_accuracy: 0.9000\n",
      "Epoch 93/100\n",
      "15/15 [==============================] - 0s 6ms/step - loss: 0.0709 - accuracy: 1.0000 - val_loss: 0.5266 - val_accuracy: 0.8958\n",
      "Epoch 94/100\n",
      "15/15 [==============================] - 0s 7ms/step - loss: 0.0696 - accuracy: 1.0000 - val_loss: 0.5190 - val_accuracy: 0.8958\n",
      "Epoch 95/100\n",
      "15/15 [==============================] - 0s 5ms/step - loss: 0.0683 - accuracy: 1.0000 - val_loss: 0.5230 - val_accuracy: 0.9000\n",
      "Epoch 96/100\n",
      "15/15 [==============================] - 0s 7ms/step - loss: 0.0672 - accuracy: 1.0000 - val_loss: 0.5207 - val_accuracy: 0.8917\n",
      "Epoch 97/100\n",
      "15/15 [==============================] - 0s 6ms/step - loss: 0.0660 - accuracy: 1.0000 - val_loss: 0.5194 - val_accuracy: 0.8958\n",
      "Epoch 98/100\n",
      "15/15 [==============================] - 0s 7ms/step - loss: 0.0652 - accuracy: 1.0000 - val_loss: 0.5170 - val_accuracy: 0.8958\n",
      "Epoch 99/100\n",
      "15/15 [==============================] - 0s 5ms/step - loss: 0.0640 - accuracy: 1.0000 - val_loss: 0.5100 - val_accuracy: 0.8958\n",
      "Epoch 100/100\n",
      "15/15 [==============================] - 0s 6ms/step - loss: 0.0631 - accuracy: 1.0000 - val_loss: 0.5118 - val_accuracy: 0.8958\n"
     ]
    }
   ],
   "source": [
    "history_regularizers = model_regularizers.fit(\n",
    "    x,\n",
    "    y,\n",
    "    batch_size=64,\n",
    "    epochs=100,\n",
    "    validation_split=0.2,\n",
    "    shuffle=True\n",
    ")"
   ]
  },
  {
   "cell_type": "markdown",
   "metadata": {},
   "source": [
    "Lets compare the weights norms of the model without regularization and with regularization."
   ]
  },
  {
   "cell_type": "code",
   "execution_count": 47,
   "metadata": {},
   "outputs": [
    {
     "name": "stdout",
     "output_type": "stream",
     "text": [
      "L2 norm layer_1 weights: 21.8130071630241, shape:(784, 256), sparsity:0.0\n",
      "L2 norm layer_2 weights: 15.049603651537119, shape:(256, 128), sparsity:0.0\n",
      "L2 norm layer_3 weights: 13.087139636947148, shape:(128, 128), sparsity:0.0\n"
     ]
    }
   ],
   "source": [
    "for ly in model.layers:\n",
    "    if 'layer_' in ly.name:\n",
    "        W, b = ly.get_weights()\n",
    "        l2_norm = np.sum(W**2)**0.5\n",
    "        zero_elems = len(W[np.abs(W) < 1e-14])\n",
    "        sparsity = zero_elems / np.prod(W.shape)\n",
    "        sparsity = np.round(100 * sparsity, 2)\n",
    "        print('L2 norm {0} weights: {1}, shape:{2}, sparsity:{3}'.format(\n",
    "            ly.name, l2_norm, W.shape,sparsity))"
   ]
  },
  {
   "cell_type": "code",
   "execution_count": 48,
   "metadata": {},
   "outputs": [
    {
     "name": "stdout",
     "output_type": "stream",
     "text": [
      "L2 norm layer_1 weights: 5.934374820012175, shape:(784, 256), sparsity:0.0\n",
      "L2 norm layer_2 weights: 6.364111483783683, shape:(256, 128), sparsity:6.41\n",
      "L2 norm layer_3 weights: 11.388634192453951, shape:(128, 128), sparsity:0.0\n"
     ]
    }
   ],
   "source": [
    "for ly in model_regularizers.layers:\n",
    "    if 'layer_' in ly.name:\n",
    "        W, b = ly.get_weights()\n",
    "        l2_norm = np.sum(W**2)**0.5\n",
    "        zero_elems = len(W[np.abs(W) < 1e-14])\n",
    "        sparsity = zero_elems / np.prod(W.shape)\n",
    "        sparsity = np.round(100 * sparsity, 2)\n",
    "        print('L2 norm {0} weights: {1}, shape:{2}, sparsity:{3}'.format(\n",
    "            ly.name, l2_norm, W.shape,sparsity))"
   ]
  },
  {
   "cell_type": "code",
   "execution_count": 49,
   "metadata": {},
   "outputs": [
    {
     "name": "stdout",
     "output_type": "stream",
     "text": [
      "L2 norm layer_1 weights: 19.982918120273688, shape:(784, 256), sparsity:0.0\n",
      "L2 norm layer_2 weights: 13.153254442037992, shape:(256, 128), sparsity:0.0\n",
      "L2 norm layer_3 weights: 12.21323779717051, shape:(128, 128), sparsity:0.0\n"
     ]
    }
   ],
   "source": [
    "for ly in model_batch_norm.layers:\n",
    "    if 'layer_' in ly.name:\n",
    "        W, b = ly.get_weights()\n",
    "        l2_norm = np.sum(W**2)**0.5\n",
    "        zero_elems = len(W[np.abs(W) < 1e-14])\n",
    "        sparsity = zero_elems / np.prod(W.shape)\n",
    "        sparsity = np.round(100 * sparsity, 2)\n",
    "        print('L2 norm {0} weights: {1}, shape:{2}, sparsity:{3}'.format(\n",
    "            ly.name, l2_norm, W.shape,sparsity))"
   ]
  },
  {
   "cell_type": "code",
   "execution_count": 50,
   "metadata": {
    "scrolled": true
   },
   "outputs": [
    {
     "data": {
      "image/png": "[encoded data removed]",
      "text/plain": [
       "<Figure size 1152x432 with 2 Axes>"
      ]
     },
     "metadata": {
      "needs_background": "light"
     },
     "output_type": "display_data"
    }
   ],
   "source": [
    "show_loss_accuracy_evolution(history_regularizers)"
   ]
  },
  {
   "cell_type": "code",
   "execution_count": 51,
   "metadata": {},
   "outputs": [
    {
     "name": "stdout",
     "output_type": "stream",
     "text": [
      "Test Loss: 0.48122337460517883\n",
      "Test Accuracy: 0.9064000248908997\n"
     ]
    }
   ],
   "source": [
    "results = model_regularizers.evaluate(x_test, y_test, verbose=0)\n",
    "print('Test Loss: {}'.format(results[0]))\n",
    "print('Test Accuracy: {}'.format(results[1]))"
   ]
  },
  {
   "cell_type": "markdown",
   "metadata": {},
   "source": [
    "### Question 3:\n",
    "#### What happens if you change the regularizers?\n"
   ]
  },
  {
   "cell_type": "markdown",
   "metadata": {},
   "source": [
    "## Combine L2 Regularization and Dropout\n",
    "\n",
    "Use L2: \n",
    "```python\n",
    "kerner_regularizer_l2 = regularizers.l2(5e-4)\n",
    "```\n",
    "And Dropout:\n",
    "\n",
    "```python\n",
    "next_layer = layers.Dropout(0.4)(prev_layer)\n",
    "```"
   ]
  },
  {
   "cell_type": "code",
   "execution_count": 52,
   "metadata": {},
   "outputs": [],
   "source": [
    "kerner_regularizer_l2 = ..."
   ]
  },
  {
   "cell_type": "code",
   "execution_count": 53,
   "metadata": {},
   "outputs": [
    {
     "ename": "ValueError",
     "evalue": "Could not interpret regularizer identifier: Ellipsis",
     "output_type": "error",
     "traceback": [
      "\u001b[0;31m---------------------------------------------------------------------------\u001b[0m",
      "\u001b[0;31mValueError\u001b[0m                                Traceback (most recent call last)",
      "\u001b[0;32m<ipython-input-53-13f62e5e8f57>\u001b[0m in \u001b[0;36m<module>\u001b[0;34m\u001b[0m\n\u001b[1;32m      4\u001b[0m l_1 = layers.Dense(128, activation='relu',\n\u001b[1;32m      5\u001b[0m                    \u001b[0mkernel_regularizer\u001b[0m\u001b[0;34m=\u001b[0m\u001b[0;34m...\u001b[0m\u001b[0;34m,\u001b[0m\u001b[0;34m\u001b[0m\u001b[0;34m\u001b[0m\u001b[0m\n\u001b[0;32m----> 6\u001b[0;31m                    name='layer_1')(inputs)\n\u001b[0m\u001b[1;32m      7\u001b[0m \u001b[0;34m\u001b[0m\u001b[0m\n\u001b[1;32m      8\u001b[0m \u001b[0;31m# Add dropout\u001b[0m\u001b[0;34m\u001b[0m\u001b[0;34m\u001b[0m\u001b[0;34m\u001b[0m\u001b[0m\n",
      "\u001b[0;32m~/opt/anaconda3/envs/dl/lib/python3.6/site-packages/tensorflow/python/keras/layers/core.py\u001b[0m in \u001b[0;36m__init__\u001b[0;34m(self, units, activation, use_bias, kernel_initializer, bias_initializer, kernel_regularizer, bias_regularizer, activity_regularizer, kernel_constraint, bias_constraint, **kwargs)\u001b[0m\n\u001b[1;32m   1163\u001b[0m     \u001b[0mself\u001b[0m\u001b[0;34m.\u001b[0m\u001b[0mkernel_initializer\u001b[0m \u001b[0;34m=\u001b[0m \u001b[0minitializers\u001b[0m\u001b[0;34m.\u001b[0m\u001b[0mget\u001b[0m\u001b[0;34m(\u001b[0m\u001b[0mkernel_initializer\u001b[0m\u001b[0;34m)\u001b[0m\u001b[0;34m\u001b[0m\u001b[0;34m\u001b[0m\u001b[0m\n\u001b[1;32m   1164\u001b[0m     \u001b[0mself\u001b[0m\u001b[0;34m.\u001b[0m\u001b[0mbias_initializer\u001b[0m \u001b[0;34m=\u001b[0m \u001b[0minitializers\u001b[0m\u001b[0;34m.\u001b[0m\u001b[0mget\u001b[0m\u001b[0;34m(\u001b[0m\u001b[0mbias_initializer\u001b[0m\u001b[0;34m)\u001b[0m\u001b[0;34m\u001b[0m\u001b[0;34m\u001b[0m\u001b[0m\n\u001b[0;32m-> 1165\u001b[0;31m     \u001b[0mself\u001b[0m\u001b[0;34m.\u001b[0m\u001b[0mkernel_regularizer\u001b[0m \u001b[0;34m=\u001b[0m \u001b[0mregularizers\u001b[0m\u001b[0;34m.\u001b[0m\u001b[0mget\u001b[0m\u001b[0;34m(\u001b[0m\u001b[0mkernel_regularizer\u001b[0m\u001b[0;34m)\u001b[0m\u001b[0;34m\u001b[0m\u001b[0;34m\u001b[0m\u001b[0m\n\u001b[0m\u001b[1;32m   1166\u001b[0m     \u001b[0mself\u001b[0m\u001b[0;34m.\u001b[0m\u001b[0mbias_regularizer\u001b[0m \u001b[0;34m=\u001b[0m \u001b[0mregularizers\u001b[0m\u001b[0;34m.\u001b[0m\u001b[0mget\u001b[0m\u001b[0;34m(\u001b[0m\u001b[0mbias_regularizer\u001b[0m\u001b[0;34m)\u001b[0m\u001b[0;34m\u001b[0m\u001b[0;34m\u001b[0m\u001b[0m\n\u001b[1;32m   1167\u001b[0m     \u001b[0mself\u001b[0m\u001b[0;34m.\u001b[0m\u001b[0mkernel_constraint\u001b[0m \u001b[0;34m=\u001b[0m \u001b[0mconstraints\u001b[0m\u001b[0;34m.\u001b[0m\u001b[0mget\u001b[0m\u001b[0;34m(\u001b[0m\u001b[0mkernel_constraint\u001b[0m\u001b[0;34m)\u001b[0m\u001b[0;34m\u001b[0m\u001b[0;34m\u001b[0m\u001b[0m\n",
      "\u001b[0;32m~/opt/anaconda3/envs/dl/lib/python3.6/site-packages/tensorflow/python/keras/regularizers.py\u001b[0m in \u001b[0;36mget\u001b[0;34m(identifier)\u001b[0m\n\u001b[1;32m    382\u001b[0m   \u001b[0;32melse\u001b[0m\u001b[0;34m:\u001b[0m\u001b[0;34m\u001b[0m\u001b[0;34m\u001b[0m\u001b[0m\n\u001b[1;32m    383\u001b[0m     raise ValueError(\n\u001b[0;32m--> 384\u001b[0;31m         'Could not interpret regularizer identifier: {}'.format(identifier))\n\u001b[0m",
      "\u001b[0;31mValueError\u001b[0m: Could not interpret regularizer identifier: Ellipsis"
     ]
    }
   ],
   "source": [
    "inputs = tf.keras.Input(shape=(300, ), name='input_layer')  \n",
    "\n",
    "# Add L2-normalization\n",
    "l_1 = layers.Dense(128, activation='relu',\n",
    "                   kernel_regularizer=...,\n",
    "                   name='layer_1')(inputs)\n",
    "\n",
    "# Add dropout\n",
    "l_1 = ...(l_1)\n",
    "\n",
    "\n",
    "# Add L2-normalization\n",
    "l_2 = layers.Dense(64,\n",
    "                   activation='relu',\n",
    "                   kernel_regularizer=...,\n",
    "                   name='layer_2')(l_1)\n",
    "# Add dropout\n",
    "l_2 = ...(l_2)\n",
    "\n",
    "\n",
    "# Add L2-normalization\n",
    "l_3 = layers.Dense(32,\n",
    "                   activation='relu',\n",
    "                   kernel_regularizer=...,\n",
    "                   name='layer_3')(l_2)\n",
    "\n",
    "# Add dropout\n",
    "l_3 = ...(l_3)\n",
    "\n",
    "\n",
    "outputs = layers.Dense(1, activation='sigmoid',\n",
    "                       name='output_layer')(l_3)  \n",
    "\n",
    "model_combination = keras.Model(inputs=inputs,\n",
    "                                 outputs=outputs,\n",
    "                                 name='dont_overfit_model_regularizers')"
   ]
  },
  {
   "cell_type": "code",
   "execution_count": null,
   "metadata": {},
   "outputs": [],
   "source": [
    "model_combination.compile(\n",
    "    optimizer='adam', loss='sparse_categorical_crossentropy', metrics=['accuracy']\n",
    ")"
   ]
  },
  {
   "cell_type": "code",
   "execution_count": null,
   "metadata": {},
   "outputs": [],
   "source": [
    "history_combination = model_combination.fit(\n",
    "    x,\n",
    "    y,\n",
    "    batch_size=64,\n",
    "    epochs=100,\n",
    "    validation_split=0.2,\n",
    "    shuffle=True\n",
    ")"
   ]
  },
  {
   "cell_type": "code",
   "execution_count": null,
   "metadata": {},
   "outputs": [],
   "source": [
    "show_loss_accuracy_evolution(history_combination)"
   ]
  },
  {
   "cell_type": "code",
   "execution_count": null,
   "metadata": {},
   "outputs": [],
   "source": [
    "results = model_combination.evaluate(x_test, y_test, verbose=0)\n",
    "print('Test Loss: {}'.format(results[0]))\n",
    "print('Test Accuracy: {}'.format(results[1]))"
   ]
  },
  {
   "cell_type": "markdown",
   "metadata": {},
   "source": [
    "## Noise injection \n",
    "\n",
    "Apply additive zero-mean Gaussian noise.\n",
    "\n",
    "With Functional API:\n",
    "```python\n",
    "next_layer = layers.GaussianNoise(stddev)(prev_layer)\n",
    "```\n",
    "With Sequential:\n",
    "```python\n",
    "model.add(layers.GaussianNoise(stddev)())\n",
    "```"
   ]
  },
  {
   "cell_type": "code",
   "execution_count": null,
   "metadata": {},
   "outputs": [],
   "source": [
    "stddev = 2\n",
    "\n",
    "# Input\n",
    "inputs = tf.keras.Input(shape=(28,28), name='input_layer')  \n",
    "# Convert the 2D image to a vector\n",
    "flat = layers.Flatten()(inputs)\n",
    "\n",
    "# hidden layer 1\n",
    "l_1 = layers.Dense(256, activation='relu', name='layer_1')(flat)  \n",
    "l_1 = layers.GaussianNoise(stddev, name='noise_l1')(l_1) \n",
    "# hidden layer 2\n",
    "l_2 = layers.Dense(128, activation='relu', name='layer_2')(l_1) \n",
    "l_2 = layers.GaussianNoise(stddev, name='noise_l2')(l_2)  \n",
    "# hidden layer 3\n",
    "l_3 = layers.Dense(128, activation='relu', name='layer_3')(l_2)  \n",
    "l_3 = layers.GaussianNoise(stddev, name='noise_l3')(l_3)  \n",
    "\n",
    "# Outputs\n",
    "outputs = layers.Dense(num_classes, activation='softmax', name='output_layer')(l_3)  \n",
    "\n",
    "model_noise = keras.Model(inputs=inputs, outputs=outputs, name='dont_overfit_model_noise')"
   ]
  },
  {
   "cell_type": "code",
   "execution_count": null,
   "metadata": {
    "scrolled": true
   },
   "outputs": [],
   "source": [
    "model_noise.summary()"
   ]
  },
  {
   "cell_type": "code",
   "execution_count": null,
   "metadata": {},
   "outputs": [],
   "source": [
    "model_noise.compile(\n",
    "    optimizer='adam', loss='sparse_categorical_crossentropy', metrics=['accuracy'])"
   ]
  },
  {
   "cell_type": "code",
   "execution_count": null,
   "metadata": {},
   "outputs": [],
   "source": [
    "history_noise = model_noise.fit(\n",
    "    x,\n",
    "    y,\n",
    "    batch_size=64,\n",
    "    epochs=100,\n",
    "    validation_split=0.2,\n",
    "    shuffle=True\n",
    ")"
   ]
  },
  {
   "cell_type": "code",
   "execution_count": null,
   "metadata": {
    "scrolled": true
   },
   "outputs": [],
   "source": [
    "show_loss_accuracy_evolution(history_noise)"
   ]
  },
  {
   "cell_type": "code",
   "execution_count": null,
   "metadata": {},
   "outputs": [],
   "source": [
    "results = model_noise.evaluate(x_test, y_test, verbose=0)\n",
    "print('Test Loss: {}'.format(results[0]))\n",
    "print('Test Accuracy: {}'.format(results[1]))"
   ]
  },
  {
   "cell_type": "markdown",
   "metadata": {},
   "source": [
    "<a id='early_stopping'></a>\n",
    "## Early Stopping\n",
    "\n",
    "Another of the most used techniques in neural network training is **early stopping**. It basically consists of stopping the training process in an Epoch prior to the one defined in the compilation.\n",
    "\n",
    "This, in addition to resulting in a model with less overfitting, saves unnecessary computation time.\n",
    "\n",
    "To do this, we can use the [Keras callbacks](https://keras.io/api/callbacks/), objects that perform actions at different times during training. Specifically, we will make use of [`EarlyStopping`](https://keras.io/api/callbacks/early_stopping/).\n",
    "\n",
    "```python\n",
    "tf.keras.callbacks.EarlyStopping(\n",
    "    monitor=\"val_loss\",\n",
    "    min_delta=0,\n",
    "    patience=0,\n",
    "    verbose=0,\n",
    ")\n",
    "``` \n",
    "\n",
    "- **monitor**: Quantity to be monitored. Depending on the evolution, it will be decided to stop training.\n",
    "\n",
    "- **min_delta**: Minimum change in the monitored quantity to qualify as an improvement, i.e. an absolute change of less than min_delta, will count as no improvement.\n",
    "\n",
    "- **patience**: Number of epochs with no improvement after which training will be stopped.\n",
    "\n",
    "- **verbose**: verbosity mode.\n",
    "\n",
    "There are other callbacks that can be very useful such as:\n",
    "- [`ModelCheckpoint`](https://keras.io/api/callbacks/model_checkpoint/), which allows storing the state of a model at different times of training. This is very useful in trainings that can take hours or days.\n",
    "- [`TensorBoard`](https://keras.io/api/callbacks/tensorboard/), which allows the use of [TensorBoard](https://www.tensorflow.org/tensorboard?hl=es-419), framework TensorFlow for visualizing metrics and evaluating models."
   ]
  },
  {
   "cell_type": "code",
   "execution_count": null,
   "metadata": {},
   "outputs": [],
   "source": [
    "es_callback = keras.callbacks.EarlyStopping(\n",
    "    monitor='val_loss',  # can be 'val_accuracy'\n",
    "    patience=5,  # if during 5 epochs there is no improvement in `val_loss`, the execution will stop\n",
    "    verbose=1)"
   ]
  },
  {
   "cell_type": "markdown",
   "metadata": {},
   "source": [
    "Lets create the same model:"
   ]
  },
  {
   "cell_type": "code",
   "execution_count": null,
   "metadata": {},
   "outputs": [],
   "source": [
    "# Input\n",
    "inputs = tf.keras.Input(shape=(28,28), name='input_layer')  \n",
    "# Convert the 2D image to a vector\n",
    "flat = layers.Flatten()(inputs)\n",
    "\n",
    "# hidden layer 1\n",
    "l_1 = layers.Dense(256, activation='relu', name='layer_1')(flat)  \n",
    "# hidden layer 2\n",
    "l_2 = layers.Dense(128, activation='relu', name='layer_2')(l_1)  \n",
    "# hidden layer 3\n",
    "l_3 = layers.Dense(128, activation='relu', name='layer_3')(l_2)  \n",
    "\n",
    "# Outputs\n",
    "outputs = layers.Dense(num_classes, activation='softmax', name='output_layer')(l_3)  \n",
    "\n",
    "model_early_stopping = keras.Model(inputs=inputs, outputs=outputs, name='dont_overfit_model_early_stopping')"
   ]
  },
  {
   "cell_type": "code",
   "execution_count": null,
   "metadata": {},
   "outputs": [],
   "source": [
    "model_early_stopping.summary()"
   ]
  },
  {
   "cell_type": "code",
   "execution_count": null,
   "metadata": {},
   "outputs": [],
   "source": [
    "model_early_stopping.compile(optimizer='adam',\n",
    "                             loss='sparse_categorical_crossentropy',\n",
    "                             metrics=['accuracy'])"
   ]
  },
  {
   "cell_type": "code",
   "execution_count": null,
   "metadata": {
    "scrolled": true
   },
   "outputs": [],
   "source": [
    "history_early_stopping = model_early_stopping.fit(\n",
    "    x,\n",
    "    y,\n",
    "    batch_size=64,\n",
    "    epochs=100,\n",
    "    validation_split=0.2,\n",
    "    shuffle=True,\n",
    "    callbacks=[es_callback]\n",
    ")"
   ]
  },
  {
   "cell_type": "code",
   "execution_count": null,
   "metadata": {},
   "outputs": [],
   "source": [
    "show_loss_accuracy_evolution(history_early_stopping)"
   ]
  },
  {
   "cell_type": "code",
   "execution_count": null,
   "metadata": {},
   "outputs": [],
   "source": [
    "results = model_early_stopping.evaluate(x_test, y_test, verbose=0)\n",
    "print('Test Loss: {}'.format(results[0]))\n",
    "print('Test Accuracy: {}'.format(results[1]))"
   ]
  },
  {
   "cell_type": "markdown",
   "metadata": {},
   "source": [
    "<a id='tensorboard'></a>\n",
    "# TensorBoard\n",
    "\n",
    "\n",
    "\n",
    "[TensorBoard](https://www.tensorflow.org/tensorboard) is a set of TensorFlow tools that allows us to represent the evolution and results of the training.\n",
    "\n",
    "In order to introduce this tool, the following is a notebook from the [TensorFlow tutorial on TensorBoard](https://www.tensorflow.org/tensorboard/get_started)."
   ]
  },
  {
   "cell_type": "markdown",
   "metadata": {},
   "source": [
    "Load TensorBoard notebook extension."
   ]
  },
  {
   "cell_type": "code",
   "execution_count": null,
   "metadata": {},
   "outputs": [],
   "source": [
    "%load_ext tensorboard"
   ]
  },
  {
   "cell_type": "code",
   "execution_count": null,
   "metadata": {},
   "outputs": [],
   "source": [
    "import tensorflow as tf\n",
    "import datetime"
   ]
  },
  {
   "cell_type": "markdown",
   "metadata": {},
   "source": [
    "\n",
    "We build the model. The input layer will have a dimension of `28x28`. The output layer, in a multiclass classification problem with 10 possible classes, will be made up of 10 neurons with [softmax activation function](https://keras.io/api/layers/activations/#softmax-function ).\n"
   ]
  },
  {
   "cell_type": "code",
   "execution_count": null,
   "metadata": {},
   "outputs": [],
   "source": [
    "model = tf.keras.models.Sequential()\n",
    "model.add(layers.Flatten(input_shape=(28, 28)))\n",
    "\n",
    "## Hidden Layer + regularization\n",
    "model.add(layers.Dense(64, activation='relu'))\n",
    "model.add(layers.Dense(64, activation='relu'))\n",
    "### output layer\n",
    "model.add(layers.Dense(10, activation='softmax'))"
   ]
  },
  {
   "cell_type": "code",
   "execution_count": null,
   "metadata": {},
   "outputs": [],
   "source": [
    "model.compile(\n",
    "    optimizer='adam',\n",
    "    loss='sparse_categorical_crossentropy',\n",
    "    metrics=['accuracy']\n",
    ")"
   ]
  },
  {
   "cell_type": "markdown",
   "metadata": {},
   "source": [
    "n the [example with early stopping](#early_stopping) the Keras callbacks were presented. To use TensorBoard we will need to include the [`TensorBoard` callback](https://www.tensorflow.org/api_docs/python/tf/keras/callbacks/TensorBoard) to the training.\n",
    "\n",
    "This callback will create and store the logs in the directory that we indicate.\n",
    "\n",
    "By default it will create a directory called \"logs\" in the directory where this notebook is running."
   ]
  },
  {
   "cell_type": "code",
   "execution_count": null,
   "metadata": {},
   "outputs": [],
   "source": [
    "log_dir = 'logs/fit/' + datetime.datetime.now().strftime('%Y%m%d-%H%M%S')"
   ]
  },
  {
   "cell_type": "code",
   "execution_count": null,
   "metadata": {},
   "outputs": [],
   "source": [
    "tensorboard_callback = tf.keras.callbacks.TensorBoard(log_dir=log_dir, histogram_freq=1)"
   ]
  },
  {
   "cell_type": "code",
   "execution_count": null,
   "metadata": {},
   "outputs": [],
   "source": [
    "es_callback = keras.callbacks.EarlyStopping(\n",
    "    monitor='val_loss',  # can be 'val_accuracy'\n",
    "    patience=5,  # if during 5 epochs there is no improvement in `val_loss`, the execution will stop\n",
    "    verbose=1)"
   ]
  },
  {
   "cell_type": "markdown",
   "metadata": {},
   "source": [
    "Train the model"
   ]
  },
  {
   "cell_type": "code",
   "execution_count": null,
   "metadata": {},
   "outputs": [],
   "source": [
    "model.fit(\n",
    "    x=x_train, \n",
    "    y=y_train, \n",
    "    epochs=20, \n",
    "    validation_split=0.2, \n",
    "    batch_size=32,\n",
    "    callbacks=[tensorboard_callback, es_callback]\n",
    ")"
   ]
  },
  {
   "cell_type": "code",
   "execution_count": null,
   "metadata": {},
   "outputs": [],
   "source": [
    "results = model.evaluate(x_test, y_test, verbose=0)\n",
    "print('Test Loss: {}'.format(results[0]))\n",
    "print('Test Accuracy: {}'.format(results[1]))"
   ]
  },
  {
   "cell_type": "markdown",
   "metadata": {},
   "source": [
    "To ** start TensorBoard ** we can execute the following cell or, from the command line, execute:\n",
    "\n",
    "    tensorboard --logdir logs / fit\n",
    "\n",
    "An application will be launched that will be listening by default on port 6006. It is possible to use TensorBoard by opening [localhost: 6006 /](http://localhost:6006/) in a browser."
   ]
  },
  {
   "cell_type": "code",
   "execution_count": null,
   "metadata": {},
   "outputs": [],
   "source": [
    "%tensorboard --logdir logs/fit"
   ]
  },
  {
   "cell_type": "markdown",
   "metadata": {},
   "source": [
    "A brief overview of the dashboards shown (tabs in top navigation bar):\n",
    "\n",
    "* The **Scalars** dashboard shows how the loss and metrics change with every epoch. You can use it to also track training speed, learning rate, and other scalar values.\n",
    "* The **Graphs** dashboard helps you visualize your model. In this case, the Keras graph of layers is shown which can help you ensure it is built correctly. \n",
    "* The **Distributions** and **Histograms** dashboards show the distribution of a Tensor over time. This can be useful to visualize weights and biases and verify that they are changing in an expected way.\n",
    "\n"
   ]
  },
  {
   "cell_type": "markdown",
   "metadata": {},
   "source": [
    "### Improve the last model with some regularization techniques to obtain at least `0.98` of test accuracy"
   ]
  },
  {
   "cell_type": "code",
   "execution_count": null,
   "metadata": {},
   "outputs": [],
   "source": [
    "model = tf.keras.models.Sequential()\n",
    "model.add(layers.Flatten(input_shape=(28, 28)))\n",
    "\n",
    "## Hidden Layer + regularization\n",
    "model.add(...)\n",
    "### output layer\n",
    "model.add(layers.Dense(10, activation='softmax'))"
   ]
  },
  {
   "cell_type": "code",
   "execution_count": null,
   "metadata": {},
   "outputs": [],
   "source": [
    "model.compile(\n",
    "    optimizer='adam',\n",
    "    loss='sparse_categorical_crossentropy',\n",
    "    metrics=['accuracy']\n",
    ")"
   ]
  },
  {
   "cell_type": "code",
   "execution_count": null,
   "metadata": {},
   "outputs": [],
   "source": [
    "model.fit(\n",
    "    x=x_train, \n",
    "    y=y_train, \n",
    "    epochs=..., \n",
    "    validation_split=0.2, \n",
    "    batch_size=...,\n",
    "    callbacks=...\n",
    ")\n",
    "results = model.evaluate(x_test, y_test, verbose=0)\n",
    "print('Test Loss: {}'.format(results[0]))\n",
    "print('Test Accuracy: {}'.format(results[1]))"
   ]
  },
  {
   "cell_type": "code",
   "execution_count": null,
   "metadata": {},
   "outputs": [],
   "source": []
  },
  {
   "cell_type": "code",
   "execution_count": null,
   "metadata": {},
   "outputs": [],
   "source": []
  }
 ],
 "metadata": {
  "colab": {
   "authorship_tag": "ABX9TyPQHcaG++PPLYUXDcKliAVL",
   "name": "Actividad 1.ipynb",
   "provenance": []
  },
  "kernelspec": {
   "display_name": "Python 3",
   "language": "python",
   "name": "python3"
  },
  "language_info": {
   "codemirror_mode": {
    "name": "ipython",
    "version": 3
   },
   "file_extension": ".py",
   "mimetype": "text/x-python",
   "name": "python",
   "nbconvert_exporter": "python",
   "pygments_lexer": "ipython3",
   "version": "3.6.12"
  }
 },
 "nbformat": 4,
 "nbformat_minor": 1
}
